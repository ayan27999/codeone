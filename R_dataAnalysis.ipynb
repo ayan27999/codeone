{
 "cells": [
  {
   "cell_type": "markdown",
   "id": "0377ee04-0b98-4586-bb06-c5653621a15a",
   "metadata": {},
   "source": [
    "# Superstore Data Analysis \n",
    "### Today I am going to work on Superstore dataset. Analyse the data by **R** and get some usefull insights about the data."
   ]
  },
  {
   "cell_type": "markdown",
   "id": "edff9214-d443-422e-8d89-8d9e7dee6924",
   "metadata": {},
   "source": [
    "#### firstly set up the working directory"
   ]
  },
  {
   "cell_type": "code",
   "execution_count": 1,
   "id": "aeb5c50d-0479-4491-a848-d1bff003ae27",
   "metadata": {},
   "outputs": [
    {
     "data": {
      "text/html": [
       "'C:/Users/growth/Desktop/R project'"
      ],
      "text/latex": [
       "'C:/Users/growth/Desktop/R project'"
      ],
      "text/markdown": [
       "'C:/Users/growth/Desktop/R project'"
      ],
      "text/plain": [
       "[1] \"C:/Users/growth/Desktop/R project\""
      ]
     },
     "metadata": {},
     "output_type": "display_data"
    }
   ],
   "source": [
    "# to see the current working directory\n",
    "getwd()"
   ]
  },
  {
   "cell_type": "markdown",
   "id": "47872afc-adbd-4ef0-b5b4-c53b37eb3b68",
   "metadata": {},
   "source": [
    "##### now let jump in the pull off data "
   ]
  },
  {
   "cell_type": "code",
   "execution_count": 2,
   "id": "7eb2c367-7955-4779-8bc9-f265126027a1",
   "metadata": {},
   "outputs": [],
   "source": [
    "# importing the data -- I will always take the master dataset in variable = ** x **\n",
    "x <- read.csv(\"superstore.csv\")"
   ]
  },
  {
   "cell_type": "code",
   "execution_count": 3,
   "id": "4357bbe5-7bf5-4492-a8ef-d00e4ae95a8e",
   "metadata": {},
   "outputs": [
    {
     "data": {
      "text/html": [
       "<table class=\"dataframe\">\n",
       "<caption>A data.frame: 9994 × 22</caption>\n",
       "<thead>\n",
       "\t<tr><th scope=col>row_id</th><th scope=col>order_id</th><th scope=col>order_date</th><th scope=col>ship_date</th><th scope=col>ship_mode</th><th scope=col>customer_id</th><th scope=col>customer_name</th><th scope=col>segment</th><th scope=col>country</th><th scope=col>city</th><th scope=col>⋯</th><th scope=col>region</th><th scope=col>product_id</th><th scope=col>category</th><th scope=col>sub_category</th><th scope=col>product_name</th><th scope=col>sales</th><th scope=col>quantity</th><th scope=col>discount</th><th scope=col>profit</th><th scope=col>X</th></tr>\n",
       "\t<tr><th scope=col>&lt;int&gt;</th><th scope=col>&lt;chr&gt;</th><th scope=col>&lt;chr&gt;</th><th scope=col>&lt;chr&gt;</th><th scope=col>&lt;chr&gt;</th><th scope=col>&lt;chr&gt;</th><th scope=col>&lt;chr&gt;</th><th scope=col>&lt;chr&gt;</th><th scope=col>&lt;chr&gt;</th><th scope=col>&lt;chr&gt;</th><th scope=col>⋯</th><th scope=col>&lt;chr&gt;</th><th scope=col>&lt;chr&gt;</th><th scope=col>&lt;chr&gt;</th><th scope=col>&lt;chr&gt;</th><th scope=col>&lt;chr&gt;</th><th scope=col>&lt;chr&gt;</th><th scope=col>&lt;dbl&gt;</th><th scope=col>&lt;dbl&gt;</th><th scope=col>&lt;dbl&gt;</th><th scope=col>&lt;dbl&gt;</th></tr>\n",
       "</thead>\n",
       "<tbody>\n",
       "\t<tr><td> 1</td><td>CA-2016-152156</td><td>11/8/2016 </td><td>11/11/2016</td><td>Second Class  </td><td>CG-12520</td><td>Claire Gute       </td><td>Consumer   </td><td>United States</td><td>Henderson      </td><td>⋯</td><td>South  </td><td>FUR-BO-10001798</td><td>Furniture      </td><td>Bookcases  </td><td>Bush Somerset Collection Bookcase                                           </td><td>261.96  </td><td>2</td><td>0.00</td><td>   41.9136</td><td>NA</td></tr>\n",
       "\t<tr><td> 2</td><td>CA-2016-152156</td><td>11/8/2016 </td><td>11/11/2016</td><td>Second Class  </td><td>CG-12520</td><td>Claire Gute       </td><td>Consumer   </td><td>United States</td><td>Henderson      </td><td>⋯</td><td>South  </td><td>FUR-CH-10000454</td><td>Furniture      </td><td>Chairs     </td><td>Hon Deluxe Fabric Upholstered Stacking Chairs, Rounded Back                 </td><td>731.94  </td><td>3</td><td>0.00</td><td>  219.5820</td><td>NA</td></tr>\n",
       "\t<tr><td> 3</td><td>CA-2016-138688</td><td>6/12/2016 </td><td>6/16/2016 </td><td>Second Class  </td><td>DV-13045</td><td>Darrin Van Huff   </td><td>Corporate  </td><td>United States</td><td>Los Angeles    </td><td>⋯</td><td>West   </td><td>OFF-LA-10000240</td><td>Office Supplies</td><td>Labels     </td><td>Self-Adhesive Address Labels for Typewriters by Universal                   </td><td>14.62   </td><td>2</td><td>0.00</td><td>    6.8714</td><td>NA</td></tr>\n",
       "\t<tr><td> 4</td><td>US-2015-108966</td><td>10/11/2015</td><td>10/18/2015</td><td>Standard Class</td><td>SO-20335</td><td>Sean O'Donnell    </td><td>Consumer   </td><td>United States</td><td>Fort Lauderdale</td><td>⋯</td><td>South  </td><td>FUR-TA-10000577</td><td>Furniture      </td><td>Tables     </td><td>Bretford CR4500 Series Slim Rectangular Table                               </td><td>957.5775</td><td>5</td><td>0.45</td><td> -383.0310</td><td>NA</td></tr>\n",
       "\t<tr><td> 5</td><td>US-2015-108966</td><td>10/11/2015</td><td>10/18/2015</td><td>Standard Class</td><td>SO-20335</td><td>Sean O'Donnell    </td><td>Consumer   </td><td>United States</td><td>Fort Lauderdale</td><td>⋯</td><td>South  </td><td>OFF-ST-10000760</td><td>Office Supplies</td><td>Storage    </td><td>Eldon Fold 'N Roll Cart System                                              </td><td>22.368  </td><td>2</td><td>0.20</td><td>    2.5164</td><td>NA</td></tr>\n",
       "\t<tr><td> 6</td><td>CA-2014-115812</td><td>6/9/2014  </td><td>6/14/2014 </td><td>Standard Class</td><td>BH-11710</td><td>Brosina Hoffman   </td><td>Consumer   </td><td>United States</td><td>Los Angeles    </td><td>⋯</td><td>West   </td><td>FUR-FU-10001487</td><td>Furniture      </td><td>Furnishings</td><td>Eldon Expressions Wood and Plastic Desk Accessories, Cherry Wood            </td><td>48.86   </td><td>7</td><td>0.00</td><td>   14.1694</td><td>NA</td></tr>\n",
       "\t<tr><td> 7</td><td>CA-2014-115812</td><td>6/9/2014  </td><td>6/14/2014 </td><td>Standard Class</td><td>BH-11710</td><td>Brosina Hoffman   </td><td>Consumer   </td><td>United States</td><td>Los Angeles    </td><td>⋯</td><td>West   </td><td>OFF-AR-10002833</td><td>Office Supplies</td><td>Art        </td><td>Newell 322                                                                  </td><td>7.28    </td><td>4</td><td>0.00</td><td>    1.9656</td><td>NA</td></tr>\n",
       "\t<tr><td> 8</td><td>CA-2014-115812</td><td>6/9/2014  </td><td>6/14/2014 </td><td>Standard Class</td><td>BH-11710</td><td>Brosina Hoffman   </td><td>Consumer   </td><td>United States</td><td>Los Angeles    </td><td>⋯</td><td>West   </td><td>TEC-PH-10002275</td><td>Technology     </td><td>Phones     </td><td>Mitel 5320 IP Phone VoIP phone                                              </td><td>907.152 </td><td>6</td><td>0.20</td><td>   90.7152</td><td>NA</td></tr>\n",
       "\t<tr><td> 9</td><td>CA-2014-115812</td><td>6/9/2014  </td><td>6/14/2014 </td><td>Standard Class</td><td>BH-11710</td><td>Brosina Hoffman   </td><td>Consumer   </td><td>United States</td><td>Los Angeles    </td><td>⋯</td><td>West   </td><td>OFF-BI-10003910</td><td>Office Supplies</td><td>Binders    </td><td>DXL Angle-View Binders with Locking Rings by Samsill                        </td><td>18.504  </td><td>3</td><td>0.20</td><td>    5.7825</td><td>NA</td></tr>\n",
       "\t<tr><td>10</td><td>CA-2014-115812</td><td>6/9/2014  </td><td>6/14/2014 </td><td>Standard Class</td><td>BH-11710</td><td>Brosina Hoffman   </td><td>Consumer   </td><td>United States</td><td>Los Angeles    </td><td>⋯</td><td>West   </td><td>OFF-AP-10002892</td><td>Office Supplies</td><td>Appliances </td><td>Belkin F5C206VTEL 6 Outlet Surge                                            </td><td>114.9   </td><td>5</td><td>0.00</td><td>   34.4700</td><td>NA</td></tr>\n",
       "\t<tr><td>11</td><td>CA-2014-115812</td><td>6/9/2014  </td><td>6/14/2014 </td><td>Standard Class</td><td>BH-11710</td><td>Brosina Hoffman   </td><td>Consumer   </td><td>United States</td><td>Los Angeles    </td><td>⋯</td><td>West   </td><td>FUR-TA-10001539</td><td>Furniture      </td><td>Tables     </td><td>Chromcraft Rectangular Conference Tables                                    </td><td>1706.184</td><td>9</td><td>0.20</td><td>   85.3092</td><td>NA</td></tr>\n",
       "\t<tr><td>12</td><td>CA-2014-115812</td><td>6/9/2014  </td><td>6/14/2014 </td><td>Standard Class</td><td>BH-11710</td><td>Brosina Hoffman   </td><td>Consumer   </td><td>United States</td><td>Los Angeles    </td><td>⋯</td><td>West   </td><td>TEC-PH-10002033</td><td>Technology     </td><td>Phones     </td><td>Konftel 250 Conference�phone�- Charcoal black                               </td><td>911.424 </td><td>4</td><td>0.20</td><td>   68.3568</td><td>NA</td></tr>\n",
       "\t<tr><td>13</td><td>CA-2017-114412</td><td>4/15/2017 </td><td>4/20/2017 </td><td>Standard Class</td><td>AA-10480</td><td>Andrew Allen      </td><td>Consumer   </td><td>United States</td><td>Concord        </td><td>⋯</td><td>South  </td><td>OFF-PA-10002365</td><td>Office Supplies</td><td>Paper      </td><td>Xerox 1967                                                                  </td><td>15.552  </td><td>3</td><td>0.20</td><td>    5.4432</td><td>NA</td></tr>\n",
       "\t<tr><td>14</td><td>CA-2016-161389</td><td>12/5/2016 </td><td>12/10/2016</td><td>Standard Class</td><td>IM-15070</td><td>Irene Maddox      </td><td>Consumer   </td><td>United States</td><td>Seattle        </td><td>⋯</td><td>West   </td><td>OFF-BI-10003656</td><td>Office Supplies</td><td>Binders    </td><td>Fellowes PB200 Plastic Comb Binding Machine                                 </td><td>407.976 </td><td>3</td><td>0.20</td><td>  132.5922</td><td>NA</td></tr>\n",
       "\t<tr><td>15</td><td>US-2015-118983</td><td>11/22/2015</td><td>11/26/2015</td><td>Standard Class</td><td>HP-14815</td><td>Harold Pawlan     </td><td>Home Office</td><td>United States</td><td>Fort Worth     </td><td>⋯</td><td>Central</td><td>OFF-AP-10002311</td><td>Office Supplies</td><td>Appliances </td><td>Holmes Replacement Filter for HEPA Air Cleaner, Very Large Room, HEPA Filter</td><td>68.81   </td><td>5</td><td>0.80</td><td> -123.8580</td><td>NA</td></tr>\n",
       "\t<tr><td>16</td><td>US-2015-118983</td><td>11/22/2015</td><td>11/26/2015</td><td>Standard Class</td><td>HP-14815</td><td>Harold Pawlan     </td><td>Home Office</td><td>United States</td><td>Fort Worth     </td><td>⋯</td><td>Central</td><td>OFF-BI-10000756</td><td>Office Supplies</td><td>Binders    </td><td>Storex DuraTech Recycled Plastic Frosted Binders                            </td><td>2.544   </td><td>3</td><td>0.80</td><td>   -3.8160</td><td>NA</td></tr>\n",
       "\t<tr><td>17</td><td>CA-2014-105893</td><td>11/11/2014</td><td>11/18/2014</td><td>Standard Class</td><td>PK-19075</td><td>Pete Kriz         </td><td>Consumer   </td><td>United States</td><td>Madison        </td><td>⋯</td><td>Central</td><td>OFF-ST-10004186</td><td>Office Supplies</td><td>Storage    </td><td>Stur-D-Stor Shelving, Vertical 5-Shelf: 72\"H x 36\"W x 18 1/2\"D              </td><td>665.88  </td><td>6</td><td>0.00</td><td>   13.3176</td><td>NA</td></tr>\n",
       "\t<tr><td>18</td><td>CA-2014-167164</td><td>5/13/2014 </td><td>5/15/2014 </td><td>Second Class  </td><td>AG-10270</td><td>Alejandro Grove   </td><td>Consumer   </td><td>United States</td><td>West Jordan    </td><td>⋯</td><td>West   </td><td>OFF-ST-10000107</td><td>Office Supplies</td><td>Storage    </td><td>Fellowes Super Stor/Drawer                                                  </td><td>55.5    </td><td>2</td><td>0.00</td><td>    9.9900</td><td>NA</td></tr>\n",
       "\t<tr><td>19</td><td>CA-2014-143336</td><td>8/27/2014 </td><td>9/1/2014  </td><td>Second Class  </td><td>ZD-21925</td><td>Zuschuss Donatelli</td><td>Consumer   </td><td>United States</td><td>San Francisco  </td><td>⋯</td><td>West   </td><td>OFF-AR-10003056</td><td>Office Supplies</td><td>Art        </td><td>Newell 341                                                                  </td><td>8.56    </td><td>2</td><td>0.00</td><td>    2.4824</td><td>NA</td></tr>\n",
       "\t<tr><td>20</td><td>CA-2014-143336</td><td>8/27/2014 </td><td>9/1/2014  </td><td>Second Class  </td><td>ZD-21925</td><td>Zuschuss Donatelli</td><td>Consumer   </td><td>United States</td><td>San Francisco  </td><td>⋯</td><td>West   </td><td>TEC-PH-10001949</td><td>Technology     </td><td>Phones     </td><td>Cisco SPA 501G IP Phone                                                     </td><td>213.48  </td><td>3</td><td>0.20</td><td>   16.0110</td><td>NA</td></tr>\n",
       "\t<tr><td>21</td><td>CA-2014-143336</td><td>8/27/2014 </td><td>9/1/2014  </td><td>Second Class  </td><td>ZD-21925</td><td>Zuschuss Donatelli</td><td>Consumer   </td><td>United States</td><td>San Francisco  </td><td>⋯</td><td>West   </td><td>OFF-BI-10002215</td><td>Office Supplies</td><td>Binders    </td><td>Wilson Jones Hanging View Binder, White, 1\"                                 </td><td>22.72   </td><td>4</td><td>0.20</td><td>    7.3840</td><td>NA</td></tr>\n",
       "\t<tr><td>22</td><td>CA-2016-137330</td><td>12/9/2016 </td><td>12/13/2016</td><td>Standard Class</td><td>KB-16585</td><td>Ken Black         </td><td>Corporate  </td><td>United States</td><td>Fremont        </td><td>⋯</td><td>Central</td><td>OFF-AR-10000246</td><td>Office Supplies</td><td>Art        </td><td>Newell 318                                                                  </td><td>19.46   </td><td>7</td><td>0.00</td><td>    5.0596</td><td>NA</td></tr>\n",
       "\t<tr><td>23</td><td>CA-2016-137330</td><td>12/9/2016 </td><td>12/13/2016</td><td>Standard Class</td><td>KB-16585</td><td>Ken Black         </td><td>Corporate  </td><td>United States</td><td>Fremont        </td><td>⋯</td><td>Central</td><td>OFF-AP-10001492</td><td>Office Supplies</td><td>Appliances </td><td>Acco Six-Outlet Power Strip, 4' Cord Length                                 </td><td>60.34   </td><td>7</td><td>0.00</td><td>   15.6884</td><td>NA</td></tr>\n",
       "\t<tr><td>24</td><td>US-2017-156909</td><td>7/16/2017 </td><td>7/18/2017 </td><td>Second Class  </td><td>SF-20065</td><td>Sandra Flanagan   </td><td>Consumer   </td><td>United States</td><td>Philadelphia   </td><td>⋯</td><td>East   </td><td>FUR-CH-10002774</td><td>Furniture      </td><td>Chairs     </td><td>Global Deluxe Stacking Chair, Gray                                          </td><td>71.372  </td><td>2</td><td>0.30</td><td>   -1.0196</td><td>NA</td></tr>\n",
       "\t<tr><td>25</td><td>CA-2015-106320</td><td>9/25/2015 </td><td>9/30/2015 </td><td>Standard Class</td><td>EB-13870</td><td>Emily Burns       </td><td>Consumer   </td><td>United States</td><td>Orem           </td><td>⋯</td><td>West   </td><td>FUR-TA-10000577</td><td>Furniture      </td><td>Tables     </td><td>Bretford CR4500 Series Slim Rectangular Table                               </td><td>1044.63 </td><td>3</td><td>0.00</td><td>  240.2649</td><td>NA</td></tr>\n",
       "\t<tr><td>26</td><td>CA-2016-121755</td><td>1/16/2016 </td><td>1/20/2016 </td><td>Second Class  </td><td>EH-13945</td><td>Eric Hoffmann     </td><td>Consumer   </td><td>United States</td><td>Los Angeles    </td><td>⋯</td><td>West   </td><td>OFF-BI-10001634</td><td>Office Supplies</td><td>Binders    </td><td>Wilson Jones Active Use Binders                                             </td><td>11.648  </td><td>2</td><td>0.20</td><td>    4.2224</td><td>NA</td></tr>\n",
       "\t<tr><td>27</td><td>CA-2016-121755</td><td>1/16/2016 </td><td>1/20/2016 </td><td>Second Class  </td><td>EH-13945</td><td>Eric Hoffmann     </td><td>Consumer   </td><td>United States</td><td>Los Angeles    </td><td>⋯</td><td>West   </td><td>TEC-AC-10003027</td><td>Technology     </td><td>Accessories</td><td>Imation�8GB Mini TravelDrive USB 2.0�Flash Drive                            </td><td>90.57   </td><td>3</td><td>0.00</td><td>   11.7741</td><td>NA</td></tr>\n",
       "\t<tr><td>28</td><td>US-2015-150630</td><td>9/17/2015 </td><td>9/21/2015 </td><td>Standard Class</td><td>TB-21520</td><td>Tracy Blumstein   </td><td>Consumer   </td><td>United States</td><td>Philadelphia   </td><td>⋯</td><td>East   </td><td>FUR-BO-10004834</td><td>Furniture      </td><td>Bookcases  </td><td>Riverside Palais Royal Lawyers Bookcase, Royale Cherry Finish               </td><td>3083.43 </td><td>7</td><td>0.50</td><td>-1665.0522</td><td>NA</td></tr>\n",
       "\t<tr><td>29</td><td>US-2015-150630</td><td>9/17/2015 </td><td>9/21/2015 </td><td>Standard Class</td><td>TB-21520</td><td>Tracy Blumstein   </td><td>Consumer   </td><td>United States</td><td>Philadelphia   </td><td>⋯</td><td>East   </td><td>OFF-BI-10000474</td><td>Office Supplies</td><td>Binders    </td><td>Avery Recycled Flexi-View Covers for Binding Systems                        </td><td>9.618   </td><td>2</td><td>0.70</td><td>   -7.0532</td><td>NA</td></tr>\n",
       "\t<tr><td>30</td><td>US-2015-150630</td><td>9/17/2015 </td><td>9/21/2015 </td><td>Standard Class</td><td>TB-21520</td><td>Tracy Blumstein   </td><td>Consumer   </td><td>United States</td><td>Philadelphia   </td><td>⋯</td><td>East   </td><td>FUR-FU-10004848</td><td>Furniture      </td><td>Furnishings</td><td>Howard Miller 13-3/4\" Diameter Brushed Chrome Round Wall Clock              </td><td>124.2   </td><td>3</td><td>0.20</td><td>   15.5250</td><td>NA</td></tr>\n",
       "\t<tr><td>⋮</td><td>⋮</td><td>⋮</td><td>⋮</td><td>⋮</td><td>⋮</td><td>⋮</td><td>⋮</td><td>⋮</td><td>⋮</td><td>⋱</td><td>⋮</td><td>⋮</td><td>⋮</td><td>⋮</td><td>⋮</td><td>⋮</td><td>⋮</td><td>⋮</td><td>⋮</td><td>⋮</td></tr>\n",
       "\t<tr><td>9965</td><td>CA-2016-146374</td><td>12/5/2016 </td><td>12/10/2016</td><td>Second Class  </td><td>HE-14800</td><td>Harold Engle    </td><td>Corporate  </td><td>United States</td><td>Newark      </td><td>⋯</td><td>East   </td><td>FUR-FU-10002671</td><td>Furniture      </td><td>Furnishings</td><td>Electrix 20W Halogen Replacement Bulb for Zoom-In Desk Lamp                      </td><td>13.4   </td><td> 1</td><td>0.0</td><td>  6.4320</td><td>NA</td></tr>\n",
       "\t<tr><td>9966</td><td>CA-2016-146374</td><td>12/5/2016 </td><td>12/10/2016</td><td>Second Class  </td><td>HE-14800</td><td>Harold Engle    </td><td>Corporate  </td><td>United States</td><td>Newark      </td><td>⋯</td><td>East   </td><td>OFF-PA-10000349</td><td>Office Supplies</td><td>Paper      </td><td>Easy-staple paper                                                                </td><td>4.98   </td><td> 1</td><td>0.0</td><td>  2.3406</td><td>NA</td></tr>\n",
       "\t<tr><td>9967</td><td>CA-2016-146374</td><td>12/5/2016 </td><td>12/10/2016</td><td>Second Class  </td><td>HE-14800</td><td>Harold Engle    </td><td>Corporate  </td><td>United States</td><td>Newark      </td><td>⋯</td><td>East   </td><td>OFF-EN-10004483</td><td>Office Supplies</td><td>Envelopes  </td><td>#10 White Business Envelopes,4 1/8 x 9 1/2                                       </td><td>109.69 </td><td> 7</td><td>0.0</td><td> 51.5543</td><td>NA</td></tr>\n",
       "\t<tr><td>9968</td><td>CA-2017-153871</td><td>12/11/2017</td><td>12/17/2017</td><td>Standard Class</td><td>RB-19435</td><td>Richard Bierner </td><td>Consumer   </td><td>United States</td><td>Plainfield  </td><td>⋯</td><td>East   </td><td>OFF-BI-10004209</td><td>Office Supplies</td><td>Binders    </td><td>Fellowes Twister Kit, Gray/Clear, 3/pkg                                          </td><td>40.2   </td><td> 5</td><td>0.0</td><td> 18.0900</td><td>NA</td></tr>\n",
       "\t<tr><td>9969</td><td>CA-2017-153871</td><td>12/11/2017</td><td>12/17/2017</td><td>Standard Class</td><td>RB-19435</td><td>Richard Bierner </td><td>Consumer   </td><td>United States</td><td>Plainfield  </td><td>⋯</td><td>East   </td><td>OFF-BI-10004600</td><td>Office Supplies</td><td>Binders    </td><td>Ibico Ibimaster 300 Manual Binding System                                        </td><td>735.98 </td><td> 2</td><td>0.0</td><td>331.1910</td><td>NA</td></tr>\n",
       "\t<tr><td>9970</td><td>CA-2017-153871</td><td>12/11/2017</td><td>12/17/2017</td><td>Standard Class</td><td>RB-19435</td><td>Richard Bierner </td><td>Consumer   </td><td>United States</td><td>Plainfield  </td><td>⋯</td><td>East   </td><td>OFF-AP-10003622</td><td>Office Supplies</td><td>Appliances </td><td>Bravo II Megaboss 12-Amp Hard Body Upright, Replacement Belts, 2 Belts per Pack  </td><td>22.75  </td><td> 7</td><td>0.0</td><td>  6.5975</td><td>NA</td></tr>\n",
       "\t<tr><td>9971</td><td>CA-2015-103772</td><td>6/28/2015 </td><td>7/2/2015  </td><td>Standard Class</td><td>MP-17470</td><td>Mark Packer     </td><td>Home Office</td><td>United States</td><td>Smyrna      </td><td>⋯</td><td>South  </td><td>OFF-BI-10002867</td><td>Office Supplies</td><td>Binders    </td><td>GBC Recycled Regency Composition Covers                                          </td><td>119.56 </td><td> 2</td><td>0.0</td><td> 54.9976</td><td>NA</td></tr>\n",
       "\t<tr><td>9972</td><td>CA-2015-103772</td><td>6/28/2015 </td><td>7/2/2015  </td><td>Standard Class</td><td>MP-17470</td><td>Mark Packer     </td><td>Home Office</td><td>United States</td><td>Smyrna      </td><td>⋯</td><td>South  </td><td>OFF-AR-10000538</td><td>Office Supplies</td><td>Art        </td><td>Boston Model 1800 Electric Pencil Sharpener, Gray                                </td><td>140.75 </td><td> 5</td><td>0.0</td><td> 42.2250</td><td>NA</td></tr>\n",
       "\t<tr><td>9973</td><td>CA-2016-130225</td><td>9/11/2016 </td><td>9/17/2016 </td><td>Standard Class</td><td>RC-19960</td><td>Ryan Crowe      </td><td>Consumer   </td><td>United States</td><td>Houston     </td><td>⋯</td><td>Central</td><td>OFF-EN-10000056</td><td>Office Supplies</td><td>Envelopes  </td><td>Cameo Buff Policy Envelopes                                                      </td><td>99.568 </td><td> 2</td><td>0.2</td><td> 33.6042</td><td>NA</td></tr>\n",
       "\t<tr><td>9974</td><td>US-2016-103674</td><td>12/6/2016 </td><td>12/10/2016</td><td>Standard Class</td><td>AP-10720</td><td>Anne Pryor      </td><td>Home Office</td><td>United States</td><td>Los Angeles </td><td>⋯</td><td>West   </td><td>TEC-PH-10004080</td><td>Technology     </td><td>Phones     </td><td>Avaya 5410 Digital phone                                                         </td><td>271.96 </td><td> 5</td><td>0.2</td><td> 27.1960</td><td>NA</td></tr>\n",
       "\t<tr><td>9975</td><td>US-2016-103674</td><td>12/6/2016 </td><td>12/10/2016</td><td>Standard Class</td><td>AP-10720</td><td>Anne Pryor      </td><td>Home Office</td><td>United States</td><td>Los Angeles </td><td>⋯</td><td>West   </td><td>OFF-AR-10004752</td><td>Office Supplies</td><td>Art        </td><td>Blackstonian Pencils                                                             </td><td>18.69  </td><td> 7</td><td>0.0</td><td>  5.2332</td><td>NA</td></tr>\n",
       "\t<tr><td>9976</td><td>US-2016-103674</td><td>12/6/2016 </td><td>12/10/2016</td><td>Standard Class</td><td>AP-10720</td><td>Anne Pryor      </td><td>Home Office</td><td>United States</td><td>Los Angeles </td><td>⋯</td><td>West   </td><td>OFF-PA-10000743</td><td>Office Supplies</td><td>Paper      </td><td>Xerox 1977                                                                       </td><td>13.36  </td><td> 2</td><td>0.0</td><td>  6.4128</td><td>NA</td></tr>\n",
       "\t<tr><td>9977</td><td>US-2016-103674</td><td>12/6/2016 </td><td>12/10/2016</td><td>Standard Class</td><td>AP-10720</td><td>Anne Pryor      </td><td>Home Office</td><td>United States</td><td>Los Angeles </td><td>⋯</td><td>West   </td><td>TEC-PH-10002496</td><td>Technology     </td><td>Phones     </td><td>Cisco SPA301                                                                     </td><td>249.584</td><td> 2</td><td>0.2</td><td> 31.1980</td><td>NA</td></tr>\n",
       "\t<tr><td>9978</td><td>US-2016-103674</td><td>12/6/2016 </td><td>12/10/2016</td><td>Standard Class</td><td>AP-10720</td><td>Anne Pryor      </td><td>Home Office</td><td>United States</td><td>Los Angeles </td><td>⋯</td><td>West   </td><td>OFF-FA-10003467</td><td>Office Supplies</td><td>Fasteners  </td><td>Alliance Big Bands Rubber Bands, 12/Pack                                         </td><td>13.86  </td><td> 7</td><td>0.0</td><td>  0.0000</td><td>NA</td></tr>\n",
       "\t<tr><td>9979</td><td>US-2016-103674</td><td>12/6/2016 </td><td>12/10/2016</td><td>Standard Class</td><td>AP-10720</td><td>Anne Pryor      </td><td>Home Office</td><td>United States</td><td>Los Angeles </td><td>⋯</td><td>West   </td><td>OFF-BI-10003727</td><td>Office Supplies</td><td>Binders    </td><td>Avery Durable Slant Ring Binders With Label Holder                               </td><td>13.376 </td><td> 4</td><td>0.2</td><td>  4.6816</td><td>NA</td></tr>\n",
       "\t<tr><td>9980</td><td>US-2016-103674</td><td>12/6/2016 </td><td>12/10/2016</td><td>Standard Class</td><td>AP-10720</td><td>Anne Pryor      </td><td>Home Office</td><td>United States</td><td>Los Angeles </td><td>⋯</td><td>West   </td><td>OFF-BI-10002026</td><td>Office Supplies</td><td>Binders    </td><td>Ibico Recycled Linen-Style Covers                                                </td><td>437.472</td><td>14</td><td>0.2</td><td>153.1152</td><td>NA</td></tr>\n",
       "\t<tr><td>9981</td><td>US-2015-151435</td><td>9/6/2015  </td><td>9/9/2015  </td><td>Second Class  </td><td>SW-20455</td><td>Shaun Weien     </td><td>Consumer   </td><td>United States</td><td>Lafayette   </td><td>⋯</td><td>South  </td><td>FUR-TA-10001039</td><td>Furniture      </td><td>Tables     </td><td>KI Adjustable-Height Table                                                       </td><td>85.98  </td><td> 1</td><td>0.0</td><td> 22.3548</td><td>NA</td></tr>\n",
       "\t<tr><td>9982</td><td>CA-2017-163566</td><td>8/3/2017  </td><td>8/6/2017  </td><td>First Class   </td><td>TB-21055</td><td>Ted Butterfield </td><td>Consumer   </td><td>United States</td><td>Fairfield   </td><td>⋯</td><td>East   </td><td>OFF-LA-10004484</td><td>Office Supplies</td><td>Labels     </td><td>Avery 476                                                                        </td><td>16.52  </td><td> 5</td><td>0.2</td><td>  5.3690</td><td>NA</td></tr>\n",
       "\t<tr><td>9983</td><td>US-2016-157728</td><td>9/22/2016 </td><td>9/28/2016 </td><td>Standard Class</td><td>RC-19960</td><td><span style=white-space:pre-wrap>Ryan Crowe      </span></td><td><span style=white-space:pre-wrap>Consumer   </span></td><td>United States</td><td>Grand Rapids</td><td>⋯</td><td>Central</td><td>OFF-PA-10002195</td><td>Office Supplies</td><td><span style=white-space:pre-wrap>Paper      </span></td><td><span style=white-space:pre-wrap>RSVP Cards &amp; Envelopes, Blank White, 8-1/2\" X 11\", 24 Cards/25 Envelopes/Set     </span></td><td><span style=white-space:pre-wrap>35.56  </span></td><td> 7</td><td>0.0</td><td> 16.7132</td><td>NA</td></tr>\n",
       "\t<tr><td>9984</td><td>US-2016-157728</td><td>9/22/2016 </td><td>9/28/2016 </td><td>Standard Class</td><td>RC-19960</td><td>Ryan Crowe      </td><td>Consumer   </td><td>United States</td><td>Grand Rapids</td><td>⋯</td><td>Central</td><td>TEC-PH-10001305</td><td>Technology     </td><td>Phones     </td><td>Panasonic KX TS208W Corded phone                                                 </td><td>97.98  </td><td> 2</td><td>0.0</td><td> 27.4344</td><td>NA</td></tr>\n",
       "\t<tr><td>9985</td><td>CA-2015-100251</td><td>5/17/2015 </td><td>5/23/2015 </td><td>Standard Class</td><td>DV-13465</td><td>Dianna Vittorini</td><td>Consumer   </td><td>United States</td><td>Long Beach  </td><td>⋯</td><td>East   </td><td>OFF-LA-10003766</td><td>Office Supplies</td><td>Labels     </td><td>Self-Adhesive Removable Labels                                                   </td><td>31.5   </td><td>10</td><td>0.0</td><td> 15.1200</td><td>NA</td></tr>\n",
       "\t<tr><td>9986</td><td>CA-2015-100251</td><td>5/17/2015 </td><td>5/23/2015 </td><td>Standard Class</td><td>DV-13465</td><td>Dianna Vittorini</td><td>Consumer   </td><td>United States</td><td>Long Beach  </td><td>⋯</td><td>East   </td><td>OFF-SU-10000898</td><td>Office Supplies</td><td>Supplies   </td><td>Acme Hot Forged Carbon Steel Scissors with Nickel-Plated Handles, 3 7/8\" Cut, 8\"L</td><td>55.6   </td><td> 4</td><td>0.0</td><td> 16.1240</td><td>NA</td></tr>\n",
       "\t<tr><td>9987</td><td>CA-2016-125794</td><td>9/29/2016 </td><td>10/3/2016 </td><td>Standard Class</td><td>ML-17410</td><td>Maris LaWare    </td><td>Consumer   </td><td>United States</td><td>Los Angeles </td><td>⋯</td><td>West   </td><td>TEC-AC-10003399</td><td>Technology     </td><td>Accessories</td><td>Memorex Mini Travel Drive 64 GB USB 2.0 Flash Drive                              </td><td>36.24  </td><td> 1</td><td>0.0</td><td> 15.2208</td><td>NA</td></tr>\n",
       "\t<tr><td>9988</td><td>CA-2017-163629</td><td>11/17/2017</td><td>11/21/2017</td><td>Standard Class</td><td>RA-19885</td><td>Ruben Ausman    </td><td>Corporate  </td><td>United States</td><td>Athens      </td><td>⋯</td><td>South  </td><td>TEC-AC-10001539</td><td>Technology     </td><td>Accessories</td><td>Logitech G430 Surround Sound Gaming Headset with Dolby 7.1 Technology            </td><td>79.99  </td><td> 1</td><td>0.0</td><td> 28.7964</td><td>NA</td></tr>\n",
       "\t<tr><td>9989</td><td>CA-2017-163629</td><td>11/17/2017</td><td>11/21/2017</td><td>Standard Class</td><td>RA-19885</td><td>Ruben Ausman    </td><td>Corporate  </td><td>United States</td><td>Athens      </td><td>⋯</td><td>South  </td><td>TEC-PH-10004006</td><td>Technology     </td><td>Phones     </td><td>Panasonic KX - TS880B Telephone                                                  </td><td>206.1  </td><td> 5</td><td>0.0</td><td> 55.6470</td><td>NA</td></tr>\n",
       "\t<tr><td>9990</td><td>CA-2014-110422</td><td>1/21/2014 </td><td>1/23/2014 </td><td>Second Class  </td><td>TB-21400</td><td>Tom Boeckenhauer</td><td>Consumer   </td><td>United States</td><td>Miami       </td><td>⋯</td><td>South  </td><td>FUR-FU-10001889</td><td>Furniture      </td><td>Furnishings</td><td>Ultra Door Pull Handle                                                           </td><td>25.248 </td><td> 3</td><td>0.2</td><td>  4.1028</td><td>NA</td></tr>\n",
       "\t<tr><td>9991</td><td>CA-2017-121258</td><td>2/26/2017 </td><td>3/3/2017  </td><td>Standard Class</td><td>DB-13060</td><td>Dave Brooks     </td><td>Consumer   </td><td>United States</td><td>Costa Mesa  </td><td>⋯</td><td>West   </td><td>FUR-FU-10000747</td><td>Furniture      </td><td>Furnishings</td><td>Tenex B1-RE Series Chair Mats for Low Pile Carpets                               </td><td>91.96  </td><td> 2</td><td>0.0</td><td> 15.6332</td><td>NA</td></tr>\n",
       "\t<tr><td>9992</td><td>CA-2017-121258</td><td>2/26/2017 </td><td>3/3/2017  </td><td>Standard Class</td><td>DB-13060</td><td>Dave Brooks     </td><td>Consumer   </td><td>United States</td><td>Costa Mesa  </td><td>⋯</td><td>West   </td><td>TEC-PH-10003645</td><td>Technology     </td><td>Phones     </td><td>Aastra 57i VoIP phone                                                            </td><td>258.576</td><td> 2</td><td>0.2</td><td> 19.3932</td><td>NA</td></tr>\n",
       "\t<tr><td>9993</td><td>CA-2017-121258</td><td>2/26/2017 </td><td>3/3/2017  </td><td>Standard Class</td><td>DB-13060</td><td>Dave Brooks     </td><td>Consumer   </td><td>United States</td><td>Costa Mesa  </td><td>⋯</td><td>West   </td><td>OFF-PA-10004041</td><td>Office Supplies</td><td>Paper      </td><td>It's Hot Message Books with Stickers, 2 3/4\" x 5\"                                </td><td>29.6   </td><td> 4</td><td>0.0</td><td> 13.3200</td><td>NA</td></tr>\n",
       "\t<tr><td>9994</td><td>CA-2017-119914</td><td>5/4/2017  </td><td>5/9/2017  </td><td>Second Class  </td><td>CC-12220</td><td>Chris Cortes    </td><td>Consumer   </td><td>United States</td><td>Westminster </td><td>⋯</td><td>West   </td><td>OFF-AP-10002684</td><td>Office Supplies</td><td>Appliances </td><td>Acco 7-Outlet Masterpiece Power Center, Wihtout Fax/Phone Line Protection        </td><td>243.16 </td><td> 2</td><td>0.0</td><td> 72.9480</td><td>NA</td></tr>\n",
       "</tbody>\n",
       "</table>\n"
      ],
      "text/latex": [
       "A data.frame: 9994 × 22\n",
       "\\begin{tabular}{lllllllllllllllllllll}\n",
       " row\\_id & order\\_id & order\\_date & ship\\_date & ship\\_mode & customer\\_id & customer\\_name & segment & country & city & ⋯ & region & product\\_id & category & sub\\_category & product\\_name & sales & quantity & discount & profit & X\\\\\n",
       " <int> & <chr> & <chr> & <chr> & <chr> & <chr> & <chr> & <chr> & <chr> & <chr> & ⋯ & <chr> & <chr> & <chr> & <chr> & <chr> & <chr> & <dbl> & <dbl> & <dbl> & <dbl>\\\\\n",
       "\\hline\n",
       "\t  1 & CA-2016-152156 & 11/8/2016  & 11/11/2016 & Second Class   & CG-12520 & Claire Gute        & Consumer    & United States & Henderson       & ⋯ & South   & FUR-BO-10001798 & Furniture       & Bookcases   & Bush Somerset Collection Bookcase                                            & 261.96   & 2 & 0.00 &    41.9136 & NA\\\\\n",
       "\t  2 & CA-2016-152156 & 11/8/2016  & 11/11/2016 & Second Class   & CG-12520 & Claire Gute        & Consumer    & United States & Henderson       & ⋯ & South   & FUR-CH-10000454 & Furniture       & Chairs      & Hon Deluxe Fabric Upholstered Stacking Chairs, Rounded Back                  & 731.94   & 3 & 0.00 &   219.5820 & NA\\\\\n",
       "\t  3 & CA-2016-138688 & 6/12/2016  & 6/16/2016  & Second Class   & DV-13045 & Darrin Van Huff    & Corporate   & United States & Los Angeles     & ⋯ & West    & OFF-LA-10000240 & Office Supplies & Labels      & Self-Adhesive Address Labels for Typewriters by Universal                    & 14.62    & 2 & 0.00 &     6.8714 & NA\\\\\n",
       "\t  4 & US-2015-108966 & 10/11/2015 & 10/18/2015 & Standard Class & SO-20335 & Sean O'Donnell     & Consumer    & United States & Fort Lauderdale & ⋯ & South   & FUR-TA-10000577 & Furniture       & Tables      & Bretford CR4500 Series Slim Rectangular Table                                & 957.5775 & 5 & 0.45 &  -383.0310 & NA\\\\\n",
       "\t  5 & US-2015-108966 & 10/11/2015 & 10/18/2015 & Standard Class & SO-20335 & Sean O'Donnell     & Consumer    & United States & Fort Lauderdale & ⋯ & South   & OFF-ST-10000760 & Office Supplies & Storage     & Eldon Fold 'N Roll Cart System                                               & 22.368   & 2 & 0.20 &     2.5164 & NA\\\\\n",
       "\t  6 & CA-2014-115812 & 6/9/2014   & 6/14/2014  & Standard Class & BH-11710 & Brosina Hoffman    & Consumer    & United States & Los Angeles     & ⋯ & West    & FUR-FU-10001487 & Furniture       & Furnishings & Eldon Expressions Wood and Plastic Desk Accessories, Cherry Wood             & 48.86    & 7 & 0.00 &    14.1694 & NA\\\\\n",
       "\t  7 & CA-2014-115812 & 6/9/2014   & 6/14/2014  & Standard Class & BH-11710 & Brosina Hoffman    & Consumer    & United States & Los Angeles     & ⋯ & West    & OFF-AR-10002833 & Office Supplies & Art         & Newell 322                                                                   & 7.28     & 4 & 0.00 &     1.9656 & NA\\\\\n",
       "\t  8 & CA-2014-115812 & 6/9/2014   & 6/14/2014  & Standard Class & BH-11710 & Brosina Hoffman    & Consumer    & United States & Los Angeles     & ⋯ & West    & TEC-PH-10002275 & Technology      & Phones      & Mitel 5320 IP Phone VoIP phone                                               & 907.152  & 6 & 0.20 &    90.7152 & NA\\\\\n",
       "\t  9 & CA-2014-115812 & 6/9/2014   & 6/14/2014  & Standard Class & BH-11710 & Brosina Hoffman    & Consumer    & United States & Los Angeles     & ⋯ & West    & OFF-BI-10003910 & Office Supplies & Binders     & DXL Angle-View Binders with Locking Rings by Samsill                         & 18.504   & 3 & 0.20 &     5.7825 & NA\\\\\n",
       "\t 10 & CA-2014-115812 & 6/9/2014   & 6/14/2014  & Standard Class & BH-11710 & Brosina Hoffman    & Consumer    & United States & Los Angeles     & ⋯ & West    & OFF-AP-10002892 & Office Supplies & Appliances  & Belkin F5C206VTEL 6 Outlet Surge                                             & 114.9    & 5 & 0.00 &    34.4700 & NA\\\\\n",
       "\t 11 & CA-2014-115812 & 6/9/2014   & 6/14/2014  & Standard Class & BH-11710 & Brosina Hoffman    & Consumer    & United States & Los Angeles     & ⋯ & West    & FUR-TA-10001539 & Furniture       & Tables      & Chromcraft Rectangular Conference Tables                                     & 1706.184 & 9 & 0.20 &    85.3092 & NA\\\\\n",
       "\t 12 & CA-2014-115812 & 6/9/2014   & 6/14/2014  & Standard Class & BH-11710 & Brosina Hoffman    & Consumer    & United States & Los Angeles     & ⋯ & West    & TEC-PH-10002033 & Technology      & Phones      & Konftel 250 Conference�phone�- Charcoal black                                & 911.424  & 4 & 0.20 &    68.3568 & NA\\\\\n",
       "\t 13 & CA-2017-114412 & 4/15/2017  & 4/20/2017  & Standard Class & AA-10480 & Andrew Allen       & Consumer    & United States & Concord         & ⋯ & South   & OFF-PA-10002365 & Office Supplies & Paper       & Xerox 1967                                                                   & 15.552   & 3 & 0.20 &     5.4432 & NA\\\\\n",
       "\t 14 & CA-2016-161389 & 12/5/2016  & 12/10/2016 & Standard Class & IM-15070 & Irene Maddox       & Consumer    & United States & Seattle         & ⋯ & West    & OFF-BI-10003656 & Office Supplies & Binders     & Fellowes PB200 Plastic Comb Binding Machine                                  & 407.976  & 3 & 0.20 &   132.5922 & NA\\\\\n",
       "\t 15 & US-2015-118983 & 11/22/2015 & 11/26/2015 & Standard Class & HP-14815 & Harold Pawlan      & Home Office & United States & Fort Worth      & ⋯ & Central & OFF-AP-10002311 & Office Supplies & Appliances  & Holmes Replacement Filter for HEPA Air Cleaner, Very Large Room, HEPA Filter & 68.81    & 5 & 0.80 &  -123.8580 & NA\\\\\n",
       "\t 16 & US-2015-118983 & 11/22/2015 & 11/26/2015 & Standard Class & HP-14815 & Harold Pawlan      & Home Office & United States & Fort Worth      & ⋯ & Central & OFF-BI-10000756 & Office Supplies & Binders     & Storex DuraTech Recycled Plastic Frosted Binders                             & 2.544    & 3 & 0.80 &    -3.8160 & NA\\\\\n",
       "\t 17 & CA-2014-105893 & 11/11/2014 & 11/18/2014 & Standard Class & PK-19075 & Pete Kriz          & Consumer    & United States & Madison         & ⋯ & Central & OFF-ST-10004186 & Office Supplies & Storage     & Stur-D-Stor Shelving, Vertical 5-Shelf: 72\"H x 36\"W x 18 1/2\"D               & 665.88   & 6 & 0.00 &    13.3176 & NA\\\\\n",
       "\t 18 & CA-2014-167164 & 5/13/2014  & 5/15/2014  & Second Class   & AG-10270 & Alejandro Grove    & Consumer    & United States & West Jordan     & ⋯ & West    & OFF-ST-10000107 & Office Supplies & Storage     & Fellowes Super Stor/Drawer                                                   & 55.5     & 2 & 0.00 &     9.9900 & NA\\\\\n",
       "\t 19 & CA-2014-143336 & 8/27/2014  & 9/1/2014   & Second Class   & ZD-21925 & Zuschuss Donatelli & Consumer    & United States & San Francisco   & ⋯ & West    & OFF-AR-10003056 & Office Supplies & Art         & Newell 341                                                                   & 8.56     & 2 & 0.00 &     2.4824 & NA\\\\\n",
       "\t 20 & CA-2014-143336 & 8/27/2014  & 9/1/2014   & Second Class   & ZD-21925 & Zuschuss Donatelli & Consumer    & United States & San Francisco   & ⋯ & West    & TEC-PH-10001949 & Technology      & Phones      & Cisco SPA 501G IP Phone                                                      & 213.48   & 3 & 0.20 &    16.0110 & NA\\\\\n",
       "\t 21 & CA-2014-143336 & 8/27/2014  & 9/1/2014   & Second Class   & ZD-21925 & Zuschuss Donatelli & Consumer    & United States & San Francisco   & ⋯ & West    & OFF-BI-10002215 & Office Supplies & Binders     & Wilson Jones Hanging View Binder, White, 1\"                                  & 22.72    & 4 & 0.20 &     7.3840 & NA\\\\\n",
       "\t 22 & CA-2016-137330 & 12/9/2016  & 12/13/2016 & Standard Class & KB-16585 & Ken Black          & Corporate   & United States & Fremont         & ⋯ & Central & OFF-AR-10000246 & Office Supplies & Art         & Newell 318                                                                   & 19.46    & 7 & 0.00 &     5.0596 & NA\\\\\n",
       "\t 23 & CA-2016-137330 & 12/9/2016  & 12/13/2016 & Standard Class & KB-16585 & Ken Black          & Corporate   & United States & Fremont         & ⋯ & Central & OFF-AP-10001492 & Office Supplies & Appliances  & Acco Six-Outlet Power Strip, 4' Cord Length                                  & 60.34    & 7 & 0.00 &    15.6884 & NA\\\\\n",
       "\t 24 & US-2017-156909 & 7/16/2017  & 7/18/2017  & Second Class   & SF-20065 & Sandra Flanagan    & Consumer    & United States & Philadelphia    & ⋯ & East    & FUR-CH-10002774 & Furniture       & Chairs      & Global Deluxe Stacking Chair, Gray                                           & 71.372   & 2 & 0.30 &    -1.0196 & NA\\\\\n",
       "\t 25 & CA-2015-106320 & 9/25/2015  & 9/30/2015  & Standard Class & EB-13870 & Emily Burns        & Consumer    & United States & Orem            & ⋯ & West    & FUR-TA-10000577 & Furniture       & Tables      & Bretford CR4500 Series Slim Rectangular Table                                & 1044.63  & 3 & 0.00 &   240.2649 & NA\\\\\n",
       "\t 26 & CA-2016-121755 & 1/16/2016  & 1/20/2016  & Second Class   & EH-13945 & Eric Hoffmann      & Consumer    & United States & Los Angeles     & ⋯ & West    & OFF-BI-10001634 & Office Supplies & Binders     & Wilson Jones Active Use Binders                                              & 11.648   & 2 & 0.20 &     4.2224 & NA\\\\\n",
       "\t 27 & CA-2016-121755 & 1/16/2016  & 1/20/2016  & Second Class   & EH-13945 & Eric Hoffmann      & Consumer    & United States & Los Angeles     & ⋯ & West    & TEC-AC-10003027 & Technology      & Accessories & Imation�8GB Mini TravelDrive USB 2.0�Flash Drive                             & 90.57    & 3 & 0.00 &    11.7741 & NA\\\\\n",
       "\t 28 & US-2015-150630 & 9/17/2015  & 9/21/2015  & Standard Class & TB-21520 & Tracy Blumstein    & Consumer    & United States & Philadelphia    & ⋯ & East    & FUR-BO-10004834 & Furniture       & Bookcases   & Riverside Palais Royal Lawyers Bookcase, Royale Cherry Finish                & 3083.43  & 7 & 0.50 & -1665.0522 & NA\\\\\n",
       "\t 29 & US-2015-150630 & 9/17/2015  & 9/21/2015  & Standard Class & TB-21520 & Tracy Blumstein    & Consumer    & United States & Philadelphia    & ⋯ & East    & OFF-BI-10000474 & Office Supplies & Binders     & Avery Recycled Flexi-View Covers for Binding Systems                         & 9.618    & 2 & 0.70 &    -7.0532 & NA\\\\\n",
       "\t 30 & US-2015-150630 & 9/17/2015  & 9/21/2015  & Standard Class & TB-21520 & Tracy Blumstein    & Consumer    & United States & Philadelphia    & ⋯ & East    & FUR-FU-10004848 & Furniture       & Furnishings & Howard Miller 13-3/4\" Diameter Brushed Chrome Round Wall Clock               & 124.2    & 3 & 0.20 &    15.5250 & NA\\\\\n",
       "\t ⋮ & ⋮ & ⋮ & ⋮ & ⋮ & ⋮ & ⋮ & ⋮ & ⋮ & ⋮ & ⋱ & ⋮ & ⋮ & ⋮ & ⋮ & ⋮ & ⋮ & ⋮ & ⋮ & ⋮ & ⋮\\\\\n",
       "\t 9965 & CA-2016-146374 & 12/5/2016  & 12/10/2016 & Second Class   & HE-14800 & Harold Engle     & Corporate   & United States & Newark       & ⋯ & East    & FUR-FU-10002671 & Furniture       & Furnishings & Electrix 20W Halogen Replacement Bulb for Zoom-In Desk Lamp                       & 13.4    &  1 & 0.0 &   6.4320 & NA\\\\\n",
       "\t 9966 & CA-2016-146374 & 12/5/2016  & 12/10/2016 & Second Class   & HE-14800 & Harold Engle     & Corporate   & United States & Newark       & ⋯ & East    & OFF-PA-10000349 & Office Supplies & Paper       & Easy-staple paper                                                                 & 4.98    &  1 & 0.0 &   2.3406 & NA\\\\\n",
       "\t 9967 & CA-2016-146374 & 12/5/2016  & 12/10/2016 & Second Class   & HE-14800 & Harold Engle     & Corporate   & United States & Newark       & ⋯ & East    & OFF-EN-10004483 & Office Supplies & Envelopes   & \\#10 White Business Envelopes,4 1/8 x 9 1/2                                        & 109.69  &  7 & 0.0 &  51.5543 & NA\\\\\n",
       "\t 9968 & CA-2017-153871 & 12/11/2017 & 12/17/2017 & Standard Class & RB-19435 & Richard Bierner  & Consumer    & United States & Plainfield   & ⋯ & East    & OFF-BI-10004209 & Office Supplies & Binders     & Fellowes Twister Kit, Gray/Clear, 3/pkg                                           & 40.2    &  5 & 0.0 &  18.0900 & NA\\\\\n",
       "\t 9969 & CA-2017-153871 & 12/11/2017 & 12/17/2017 & Standard Class & RB-19435 & Richard Bierner  & Consumer    & United States & Plainfield   & ⋯ & East    & OFF-BI-10004600 & Office Supplies & Binders     & Ibico Ibimaster 300 Manual Binding System                                         & 735.98  &  2 & 0.0 & 331.1910 & NA\\\\\n",
       "\t 9970 & CA-2017-153871 & 12/11/2017 & 12/17/2017 & Standard Class & RB-19435 & Richard Bierner  & Consumer    & United States & Plainfield   & ⋯ & East    & OFF-AP-10003622 & Office Supplies & Appliances  & Bravo II Megaboss 12-Amp Hard Body Upright, Replacement Belts, 2 Belts per Pack   & 22.75   &  7 & 0.0 &   6.5975 & NA\\\\\n",
       "\t 9971 & CA-2015-103772 & 6/28/2015  & 7/2/2015   & Standard Class & MP-17470 & Mark Packer      & Home Office & United States & Smyrna       & ⋯ & South   & OFF-BI-10002867 & Office Supplies & Binders     & GBC Recycled Regency Composition Covers                                           & 119.56  &  2 & 0.0 &  54.9976 & NA\\\\\n",
       "\t 9972 & CA-2015-103772 & 6/28/2015  & 7/2/2015   & Standard Class & MP-17470 & Mark Packer      & Home Office & United States & Smyrna       & ⋯ & South   & OFF-AR-10000538 & Office Supplies & Art         & Boston Model 1800 Electric Pencil Sharpener, Gray                                 & 140.75  &  5 & 0.0 &  42.2250 & NA\\\\\n",
       "\t 9973 & CA-2016-130225 & 9/11/2016  & 9/17/2016  & Standard Class & RC-19960 & Ryan Crowe       & Consumer    & United States & Houston      & ⋯ & Central & OFF-EN-10000056 & Office Supplies & Envelopes   & Cameo Buff Policy Envelopes                                                       & 99.568  &  2 & 0.2 &  33.6042 & NA\\\\\n",
       "\t 9974 & US-2016-103674 & 12/6/2016  & 12/10/2016 & Standard Class & AP-10720 & Anne Pryor       & Home Office & United States & Los Angeles  & ⋯ & West    & TEC-PH-10004080 & Technology      & Phones      & Avaya 5410 Digital phone                                                          & 271.96  &  5 & 0.2 &  27.1960 & NA\\\\\n",
       "\t 9975 & US-2016-103674 & 12/6/2016  & 12/10/2016 & Standard Class & AP-10720 & Anne Pryor       & Home Office & United States & Los Angeles  & ⋯ & West    & OFF-AR-10004752 & Office Supplies & Art         & Blackstonian Pencils                                                              & 18.69   &  7 & 0.0 &   5.2332 & NA\\\\\n",
       "\t 9976 & US-2016-103674 & 12/6/2016  & 12/10/2016 & Standard Class & AP-10720 & Anne Pryor       & Home Office & United States & Los Angeles  & ⋯ & West    & OFF-PA-10000743 & Office Supplies & Paper       & Xerox 1977                                                                        & 13.36   &  2 & 0.0 &   6.4128 & NA\\\\\n",
       "\t 9977 & US-2016-103674 & 12/6/2016  & 12/10/2016 & Standard Class & AP-10720 & Anne Pryor       & Home Office & United States & Los Angeles  & ⋯ & West    & TEC-PH-10002496 & Technology      & Phones      & Cisco SPA301                                                                      & 249.584 &  2 & 0.2 &  31.1980 & NA\\\\\n",
       "\t 9978 & US-2016-103674 & 12/6/2016  & 12/10/2016 & Standard Class & AP-10720 & Anne Pryor       & Home Office & United States & Los Angeles  & ⋯ & West    & OFF-FA-10003467 & Office Supplies & Fasteners   & Alliance Big Bands Rubber Bands, 12/Pack                                          & 13.86   &  7 & 0.0 &   0.0000 & NA\\\\\n",
       "\t 9979 & US-2016-103674 & 12/6/2016  & 12/10/2016 & Standard Class & AP-10720 & Anne Pryor       & Home Office & United States & Los Angeles  & ⋯ & West    & OFF-BI-10003727 & Office Supplies & Binders     & Avery Durable Slant Ring Binders With Label Holder                                & 13.376  &  4 & 0.2 &   4.6816 & NA\\\\\n",
       "\t 9980 & US-2016-103674 & 12/6/2016  & 12/10/2016 & Standard Class & AP-10720 & Anne Pryor       & Home Office & United States & Los Angeles  & ⋯ & West    & OFF-BI-10002026 & Office Supplies & Binders     & Ibico Recycled Linen-Style Covers                                                 & 437.472 & 14 & 0.2 & 153.1152 & NA\\\\\n",
       "\t 9981 & US-2015-151435 & 9/6/2015   & 9/9/2015   & Second Class   & SW-20455 & Shaun Weien      & Consumer    & United States & Lafayette    & ⋯ & South   & FUR-TA-10001039 & Furniture       & Tables      & KI Adjustable-Height Table                                                        & 85.98   &  1 & 0.0 &  22.3548 & NA\\\\\n",
       "\t 9982 & CA-2017-163566 & 8/3/2017   & 8/6/2017   & First Class    & TB-21055 & Ted Butterfield  & Consumer    & United States & Fairfield    & ⋯ & East    & OFF-LA-10004484 & Office Supplies & Labels      & Avery 476                                                                         & 16.52   &  5 & 0.2 &   5.3690 & NA\\\\\n",
       "\t 9983 & US-2016-157728 & 9/22/2016  & 9/28/2016  & Standard Class & RC-19960 & Ryan Crowe       & Consumer    & United States & Grand Rapids & ⋯ & Central & OFF-PA-10002195 & Office Supplies & Paper       & RSVP Cards \\& Envelopes, Blank White, 8-1/2\" X 11\", 24 Cards/25 Envelopes/Set      & 35.56   &  7 & 0.0 &  16.7132 & NA\\\\\n",
       "\t 9984 & US-2016-157728 & 9/22/2016  & 9/28/2016  & Standard Class & RC-19960 & Ryan Crowe       & Consumer    & United States & Grand Rapids & ⋯ & Central & TEC-PH-10001305 & Technology      & Phones      & Panasonic KX TS208W Corded phone                                                  & 97.98   &  2 & 0.0 &  27.4344 & NA\\\\\n",
       "\t 9985 & CA-2015-100251 & 5/17/2015  & 5/23/2015  & Standard Class & DV-13465 & Dianna Vittorini & Consumer    & United States & Long Beach   & ⋯ & East    & OFF-LA-10003766 & Office Supplies & Labels      & Self-Adhesive Removable Labels                                                    & 31.5    & 10 & 0.0 &  15.1200 & NA\\\\\n",
       "\t 9986 & CA-2015-100251 & 5/17/2015  & 5/23/2015  & Standard Class & DV-13465 & Dianna Vittorini & Consumer    & United States & Long Beach   & ⋯ & East    & OFF-SU-10000898 & Office Supplies & Supplies    & Acme Hot Forged Carbon Steel Scissors with Nickel-Plated Handles, 3 7/8\" Cut, 8\"L & 55.6    &  4 & 0.0 &  16.1240 & NA\\\\\n",
       "\t 9987 & CA-2016-125794 & 9/29/2016  & 10/3/2016  & Standard Class & ML-17410 & Maris LaWare     & Consumer    & United States & Los Angeles  & ⋯ & West    & TEC-AC-10003399 & Technology      & Accessories & Memorex Mini Travel Drive 64 GB USB 2.0 Flash Drive                               & 36.24   &  1 & 0.0 &  15.2208 & NA\\\\\n",
       "\t 9988 & CA-2017-163629 & 11/17/2017 & 11/21/2017 & Standard Class & RA-19885 & Ruben Ausman     & Corporate   & United States & Athens       & ⋯ & South   & TEC-AC-10001539 & Technology      & Accessories & Logitech G430 Surround Sound Gaming Headset with Dolby 7.1 Technology             & 79.99   &  1 & 0.0 &  28.7964 & NA\\\\\n",
       "\t 9989 & CA-2017-163629 & 11/17/2017 & 11/21/2017 & Standard Class & RA-19885 & Ruben Ausman     & Corporate   & United States & Athens       & ⋯ & South   & TEC-PH-10004006 & Technology      & Phones      & Panasonic KX - TS880B Telephone                                                   & 206.1   &  5 & 0.0 &  55.6470 & NA\\\\\n",
       "\t 9990 & CA-2014-110422 & 1/21/2014  & 1/23/2014  & Second Class   & TB-21400 & Tom Boeckenhauer & Consumer    & United States & Miami        & ⋯ & South   & FUR-FU-10001889 & Furniture       & Furnishings & Ultra Door Pull Handle                                                            & 25.248  &  3 & 0.2 &   4.1028 & NA\\\\\n",
       "\t 9991 & CA-2017-121258 & 2/26/2017  & 3/3/2017   & Standard Class & DB-13060 & Dave Brooks      & Consumer    & United States & Costa Mesa   & ⋯ & West    & FUR-FU-10000747 & Furniture       & Furnishings & Tenex B1-RE Series Chair Mats for Low Pile Carpets                                & 91.96   &  2 & 0.0 &  15.6332 & NA\\\\\n",
       "\t 9992 & CA-2017-121258 & 2/26/2017  & 3/3/2017   & Standard Class & DB-13060 & Dave Brooks      & Consumer    & United States & Costa Mesa   & ⋯ & West    & TEC-PH-10003645 & Technology      & Phones      & Aastra 57i VoIP phone                                                             & 258.576 &  2 & 0.2 &  19.3932 & NA\\\\\n",
       "\t 9993 & CA-2017-121258 & 2/26/2017  & 3/3/2017   & Standard Class & DB-13060 & Dave Brooks      & Consumer    & United States & Costa Mesa   & ⋯ & West    & OFF-PA-10004041 & Office Supplies & Paper       & It's Hot Message Books with Stickers, 2 3/4\" x 5\"                                 & 29.6    &  4 & 0.0 &  13.3200 & NA\\\\\n",
       "\t 9994 & CA-2017-119914 & 5/4/2017   & 5/9/2017   & Second Class   & CC-12220 & Chris Cortes     & Consumer    & United States & Westminster  & ⋯ & West    & OFF-AP-10002684 & Office Supplies & Appliances  & Acco 7-Outlet Masterpiece Power Center, Wihtout Fax/Phone Line Protection         & 243.16  &  2 & 0.0 &  72.9480 & NA\\\\\n",
       "\\end{tabular}\n"
      ],
      "text/markdown": [
       "\n",
       "A data.frame: 9994 × 22\n",
       "\n",
       "| row_id &lt;int&gt; | order_id &lt;chr&gt; | order_date &lt;chr&gt; | ship_date &lt;chr&gt; | ship_mode &lt;chr&gt; | customer_id &lt;chr&gt; | customer_name &lt;chr&gt; | segment &lt;chr&gt; | country &lt;chr&gt; | city &lt;chr&gt; | ⋯ ⋯ | region &lt;chr&gt; | product_id &lt;chr&gt; | category &lt;chr&gt; | sub_category &lt;chr&gt; | product_name &lt;chr&gt; | sales &lt;chr&gt; | quantity &lt;dbl&gt; | discount &lt;dbl&gt; | profit &lt;dbl&gt; | X &lt;dbl&gt; |\n",
       "|---|---|---|---|---|---|---|---|---|---|---|---|---|---|---|---|---|---|---|---|---|\n",
       "|  1 | CA-2016-152156 | 11/8/2016  | 11/11/2016 | Second Class   | CG-12520 | Claire Gute        | Consumer    | United States | Henderson       | ⋯ | South   | FUR-BO-10001798 | Furniture       | Bookcases   | Bush Somerset Collection Bookcase                                            | 261.96   | 2 | 0.00 |    41.9136 | NA |\n",
       "|  2 | CA-2016-152156 | 11/8/2016  | 11/11/2016 | Second Class   | CG-12520 | Claire Gute        | Consumer    | United States | Henderson       | ⋯ | South   | FUR-CH-10000454 | Furniture       | Chairs      | Hon Deluxe Fabric Upholstered Stacking Chairs, Rounded Back                  | 731.94   | 3 | 0.00 |   219.5820 | NA |\n",
       "|  3 | CA-2016-138688 | 6/12/2016  | 6/16/2016  | Second Class   | DV-13045 | Darrin Van Huff    | Corporate   | United States | Los Angeles     | ⋯ | West    | OFF-LA-10000240 | Office Supplies | Labels      | Self-Adhesive Address Labels for Typewriters by Universal                    | 14.62    | 2 | 0.00 |     6.8714 | NA |\n",
       "|  4 | US-2015-108966 | 10/11/2015 | 10/18/2015 | Standard Class | SO-20335 | Sean O'Donnell     | Consumer    | United States | Fort Lauderdale | ⋯ | South   | FUR-TA-10000577 | Furniture       | Tables      | Bretford CR4500 Series Slim Rectangular Table                                | 957.5775 | 5 | 0.45 |  -383.0310 | NA |\n",
       "|  5 | US-2015-108966 | 10/11/2015 | 10/18/2015 | Standard Class | SO-20335 | Sean O'Donnell     | Consumer    | United States | Fort Lauderdale | ⋯ | South   | OFF-ST-10000760 | Office Supplies | Storage     | Eldon Fold 'N Roll Cart System                                               | 22.368   | 2 | 0.20 |     2.5164 | NA |\n",
       "|  6 | CA-2014-115812 | 6/9/2014   | 6/14/2014  | Standard Class | BH-11710 | Brosina Hoffman    | Consumer    | United States | Los Angeles     | ⋯ | West    | FUR-FU-10001487 | Furniture       | Furnishings | Eldon Expressions Wood and Plastic Desk Accessories, Cherry Wood             | 48.86    | 7 | 0.00 |    14.1694 | NA |\n",
       "|  7 | CA-2014-115812 | 6/9/2014   | 6/14/2014  | Standard Class | BH-11710 | Brosina Hoffman    | Consumer    | United States | Los Angeles     | ⋯ | West    | OFF-AR-10002833 | Office Supplies | Art         | Newell 322                                                                   | 7.28     | 4 | 0.00 |     1.9656 | NA |\n",
       "|  8 | CA-2014-115812 | 6/9/2014   | 6/14/2014  | Standard Class | BH-11710 | Brosina Hoffman    | Consumer    | United States | Los Angeles     | ⋯ | West    | TEC-PH-10002275 | Technology      | Phones      | Mitel 5320 IP Phone VoIP phone                                               | 907.152  | 6 | 0.20 |    90.7152 | NA |\n",
       "|  9 | CA-2014-115812 | 6/9/2014   | 6/14/2014  | Standard Class | BH-11710 | Brosina Hoffman    | Consumer    | United States | Los Angeles     | ⋯ | West    | OFF-BI-10003910 | Office Supplies | Binders     | DXL Angle-View Binders with Locking Rings by Samsill                         | 18.504   | 3 | 0.20 |     5.7825 | NA |\n",
       "| 10 | CA-2014-115812 | 6/9/2014   | 6/14/2014  | Standard Class | BH-11710 | Brosina Hoffman    | Consumer    | United States | Los Angeles     | ⋯ | West    | OFF-AP-10002892 | Office Supplies | Appliances  | Belkin F5C206VTEL 6 Outlet Surge                                             | 114.9    | 5 | 0.00 |    34.4700 | NA |\n",
       "| 11 | CA-2014-115812 | 6/9/2014   | 6/14/2014  | Standard Class | BH-11710 | Brosina Hoffman    | Consumer    | United States | Los Angeles     | ⋯ | West    | FUR-TA-10001539 | Furniture       | Tables      | Chromcraft Rectangular Conference Tables                                     | 1706.184 | 9 | 0.20 |    85.3092 | NA |\n",
       "| 12 | CA-2014-115812 | 6/9/2014   | 6/14/2014  | Standard Class | BH-11710 | Brosina Hoffman    | Consumer    | United States | Los Angeles     | ⋯ | West    | TEC-PH-10002033 | Technology      | Phones      | Konftel 250 Conference�phone�- Charcoal black                                | 911.424  | 4 | 0.20 |    68.3568 | NA |\n",
       "| 13 | CA-2017-114412 | 4/15/2017  | 4/20/2017  | Standard Class | AA-10480 | Andrew Allen       | Consumer    | United States | Concord         | ⋯ | South   | OFF-PA-10002365 | Office Supplies | Paper       | Xerox 1967                                                                   | 15.552   | 3 | 0.20 |     5.4432 | NA |\n",
       "| 14 | CA-2016-161389 | 12/5/2016  | 12/10/2016 | Standard Class | IM-15070 | Irene Maddox       | Consumer    | United States | Seattle         | ⋯ | West    | OFF-BI-10003656 | Office Supplies | Binders     | Fellowes PB200 Plastic Comb Binding Machine                                  | 407.976  | 3 | 0.20 |   132.5922 | NA |\n",
       "| 15 | US-2015-118983 | 11/22/2015 | 11/26/2015 | Standard Class | HP-14815 | Harold Pawlan      | Home Office | United States | Fort Worth      | ⋯ | Central | OFF-AP-10002311 | Office Supplies | Appliances  | Holmes Replacement Filter for HEPA Air Cleaner, Very Large Room, HEPA Filter | 68.81    | 5 | 0.80 |  -123.8580 | NA |\n",
       "| 16 | US-2015-118983 | 11/22/2015 | 11/26/2015 | Standard Class | HP-14815 | Harold Pawlan      | Home Office | United States | Fort Worth      | ⋯ | Central | OFF-BI-10000756 | Office Supplies | Binders     | Storex DuraTech Recycled Plastic Frosted Binders                             | 2.544    | 3 | 0.80 |    -3.8160 | NA |\n",
       "| 17 | CA-2014-105893 | 11/11/2014 | 11/18/2014 | Standard Class | PK-19075 | Pete Kriz          | Consumer    | United States | Madison         | ⋯ | Central | OFF-ST-10004186 | Office Supplies | Storage     | Stur-D-Stor Shelving, Vertical 5-Shelf: 72\"H x 36\"W x 18 1/2\"D               | 665.88   | 6 | 0.00 |    13.3176 | NA |\n",
       "| 18 | CA-2014-167164 | 5/13/2014  | 5/15/2014  | Second Class   | AG-10270 | Alejandro Grove    | Consumer    | United States | West Jordan     | ⋯ | West    | OFF-ST-10000107 | Office Supplies | Storage     | Fellowes Super Stor/Drawer                                                   | 55.5     | 2 | 0.00 |     9.9900 | NA |\n",
       "| 19 | CA-2014-143336 | 8/27/2014  | 9/1/2014   | Second Class   | ZD-21925 | Zuschuss Donatelli | Consumer    | United States | San Francisco   | ⋯ | West    | OFF-AR-10003056 | Office Supplies | Art         | Newell 341                                                                   | 8.56     | 2 | 0.00 |     2.4824 | NA |\n",
       "| 20 | CA-2014-143336 | 8/27/2014  | 9/1/2014   | Second Class   | ZD-21925 | Zuschuss Donatelli | Consumer    | United States | San Francisco   | ⋯ | West    | TEC-PH-10001949 | Technology      | Phones      | Cisco SPA 501G IP Phone                                                      | 213.48   | 3 | 0.20 |    16.0110 | NA |\n",
       "| 21 | CA-2014-143336 | 8/27/2014  | 9/1/2014   | Second Class   | ZD-21925 | Zuschuss Donatelli | Consumer    | United States | San Francisco   | ⋯ | West    | OFF-BI-10002215 | Office Supplies | Binders     | Wilson Jones Hanging View Binder, White, 1\"                                  | 22.72    | 4 | 0.20 |     7.3840 | NA |\n",
       "| 22 | CA-2016-137330 | 12/9/2016  | 12/13/2016 | Standard Class | KB-16585 | Ken Black          | Corporate   | United States | Fremont         | ⋯ | Central | OFF-AR-10000246 | Office Supplies | Art         | Newell 318                                                                   | 19.46    | 7 | 0.00 |     5.0596 | NA |\n",
       "| 23 | CA-2016-137330 | 12/9/2016  | 12/13/2016 | Standard Class | KB-16585 | Ken Black          | Corporate   | United States | Fremont         | ⋯ | Central | OFF-AP-10001492 | Office Supplies | Appliances  | Acco Six-Outlet Power Strip, 4' Cord Length                                  | 60.34    | 7 | 0.00 |    15.6884 | NA |\n",
       "| 24 | US-2017-156909 | 7/16/2017  | 7/18/2017  | Second Class   | SF-20065 | Sandra Flanagan    | Consumer    | United States | Philadelphia    | ⋯ | East    | FUR-CH-10002774 | Furniture       | Chairs      | Global Deluxe Stacking Chair, Gray                                           | 71.372   | 2 | 0.30 |    -1.0196 | NA |\n",
       "| 25 | CA-2015-106320 | 9/25/2015  | 9/30/2015  | Standard Class | EB-13870 | Emily Burns        | Consumer    | United States | Orem            | ⋯ | West    | FUR-TA-10000577 | Furniture       | Tables      | Bretford CR4500 Series Slim Rectangular Table                                | 1044.63  | 3 | 0.00 |   240.2649 | NA |\n",
       "| 26 | CA-2016-121755 | 1/16/2016  | 1/20/2016  | Second Class   | EH-13945 | Eric Hoffmann      | Consumer    | United States | Los Angeles     | ⋯ | West    | OFF-BI-10001634 | Office Supplies | Binders     | Wilson Jones Active Use Binders                                              | 11.648   | 2 | 0.20 |     4.2224 | NA |\n",
       "| 27 | CA-2016-121755 | 1/16/2016  | 1/20/2016  | Second Class   | EH-13945 | Eric Hoffmann      | Consumer    | United States | Los Angeles     | ⋯ | West    | TEC-AC-10003027 | Technology      | Accessories | Imation�8GB Mini TravelDrive USB 2.0�Flash Drive                             | 90.57    | 3 | 0.00 |    11.7741 | NA |\n",
       "| 28 | US-2015-150630 | 9/17/2015  | 9/21/2015  | Standard Class | TB-21520 | Tracy Blumstein    | Consumer    | United States | Philadelphia    | ⋯ | East    | FUR-BO-10004834 | Furniture       | Bookcases   | Riverside Palais Royal Lawyers Bookcase, Royale Cherry Finish                | 3083.43  | 7 | 0.50 | -1665.0522 | NA |\n",
       "| 29 | US-2015-150630 | 9/17/2015  | 9/21/2015  | Standard Class | TB-21520 | Tracy Blumstein    | Consumer    | United States | Philadelphia    | ⋯ | East    | OFF-BI-10000474 | Office Supplies | Binders     | Avery Recycled Flexi-View Covers for Binding Systems                         | 9.618    | 2 | 0.70 |    -7.0532 | NA |\n",
       "| 30 | US-2015-150630 | 9/17/2015  | 9/21/2015  | Standard Class | TB-21520 | Tracy Blumstein    | Consumer    | United States | Philadelphia    | ⋯ | East    | FUR-FU-10004848 | Furniture       | Furnishings | Howard Miller 13-3/4\" Diameter Brushed Chrome Round Wall Clock               | 124.2    | 3 | 0.20 |    15.5250 | NA |\n",
       "| ⋮ | ⋮ | ⋮ | ⋮ | ⋮ | ⋮ | ⋮ | ⋮ | ⋮ | ⋮ | ⋱ | ⋮ | ⋮ | ⋮ | ⋮ | ⋮ | ⋮ | ⋮ | ⋮ | ⋮ | ⋮ |\n",
       "| 9965 | CA-2016-146374 | 12/5/2016  | 12/10/2016 | Second Class   | HE-14800 | Harold Engle     | Corporate   | United States | Newark       | ⋯ | East    | FUR-FU-10002671 | Furniture       | Furnishings | Electrix 20W Halogen Replacement Bulb for Zoom-In Desk Lamp                       | 13.4    |  1 | 0.0 |   6.4320 | NA |\n",
       "| 9966 | CA-2016-146374 | 12/5/2016  | 12/10/2016 | Second Class   | HE-14800 | Harold Engle     | Corporate   | United States | Newark       | ⋯ | East    | OFF-PA-10000349 | Office Supplies | Paper       | Easy-staple paper                                                                 | 4.98    |  1 | 0.0 |   2.3406 | NA |\n",
       "| 9967 | CA-2016-146374 | 12/5/2016  | 12/10/2016 | Second Class   | HE-14800 | Harold Engle     | Corporate   | United States | Newark       | ⋯ | East    | OFF-EN-10004483 | Office Supplies | Envelopes   | #10 White Business Envelopes,4 1/8 x 9 1/2                                        | 109.69  |  7 | 0.0 |  51.5543 | NA |\n",
       "| 9968 | CA-2017-153871 | 12/11/2017 | 12/17/2017 | Standard Class | RB-19435 | Richard Bierner  | Consumer    | United States | Plainfield   | ⋯ | East    | OFF-BI-10004209 | Office Supplies | Binders     | Fellowes Twister Kit, Gray/Clear, 3/pkg                                           | 40.2    |  5 | 0.0 |  18.0900 | NA |\n",
       "| 9969 | CA-2017-153871 | 12/11/2017 | 12/17/2017 | Standard Class | RB-19435 | Richard Bierner  | Consumer    | United States | Plainfield   | ⋯ | East    | OFF-BI-10004600 | Office Supplies | Binders     | Ibico Ibimaster 300 Manual Binding System                                         | 735.98  |  2 | 0.0 | 331.1910 | NA |\n",
       "| 9970 | CA-2017-153871 | 12/11/2017 | 12/17/2017 | Standard Class | RB-19435 | Richard Bierner  | Consumer    | United States | Plainfield   | ⋯ | East    | OFF-AP-10003622 | Office Supplies | Appliances  | Bravo II Megaboss 12-Amp Hard Body Upright, Replacement Belts, 2 Belts per Pack   | 22.75   |  7 | 0.0 |   6.5975 | NA |\n",
       "| 9971 | CA-2015-103772 | 6/28/2015  | 7/2/2015   | Standard Class | MP-17470 | Mark Packer      | Home Office | United States | Smyrna       | ⋯ | South   | OFF-BI-10002867 | Office Supplies | Binders     | GBC Recycled Regency Composition Covers                                           | 119.56  |  2 | 0.0 |  54.9976 | NA |\n",
       "| 9972 | CA-2015-103772 | 6/28/2015  | 7/2/2015   | Standard Class | MP-17470 | Mark Packer      | Home Office | United States | Smyrna       | ⋯ | South   | OFF-AR-10000538 | Office Supplies | Art         | Boston Model 1800 Electric Pencil Sharpener, Gray                                 | 140.75  |  5 | 0.0 |  42.2250 | NA |\n",
       "| 9973 | CA-2016-130225 | 9/11/2016  | 9/17/2016  | Standard Class | RC-19960 | Ryan Crowe       | Consumer    | United States | Houston      | ⋯ | Central | OFF-EN-10000056 | Office Supplies | Envelopes   | Cameo Buff Policy Envelopes                                                       | 99.568  |  2 | 0.2 |  33.6042 | NA |\n",
       "| 9974 | US-2016-103674 | 12/6/2016  | 12/10/2016 | Standard Class | AP-10720 | Anne Pryor       | Home Office | United States | Los Angeles  | ⋯ | West    | TEC-PH-10004080 | Technology      | Phones      | Avaya 5410 Digital phone                                                          | 271.96  |  5 | 0.2 |  27.1960 | NA |\n",
       "| 9975 | US-2016-103674 | 12/6/2016  | 12/10/2016 | Standard Class | AP-10720 | Anne Pryor       | Home Office | United States | Los Angeles  | ⋯ | West    | OFF-AR-10004752 | Office Supplies | Art         | Blackstonian Pencils                                                              | 18.69   |  7 | 0.0 |   5.2332 | NA |\n",
       "| 9976 | US-2016-103674 | 12/6/2016  | 12/10/2016 | Standard Class | AP-10720 | Anne Pryor       | Home Office | United States | Los Angeles  | ⋯ | West    | OFF-PA-10000743 | Office Supplies | Paper       | Xerox 1977                                                                        | 13.36   |  2 | 0.0 |   6.4128 | NA |\n",
       "| 9977 | US-2016-103674 | 12/6/2016  | 12/10/2016 | Standard Class | AP-10720 | Anne Pryor       | Home Office | United States | Los Angeles  | ⋯ | West    | TEC-PH-10002496 | Technology      | Phones      | Cisco SPA301                                                                      | 249.584 |  2 | 0.2 |  31.1980 | NA |\n",
       "| 9978 | US-2016-103674 | 12/6/2016  | 12/10/2016 | Standard Class | AP-10720 | Anne Pryor       | Home Office | United States | Los Angeles  | ⋯ | West    | OFF-FA-10003467 | Office Supplies | Fasteners   | Alliance Big Bands Rubber Bands, 12/Pack                                          | 13.86   |  7 | 0.0 |   0.0000 | NA |\n",
       "| 9979 | US-2016-103674 | 12/6/2016  | 12/10/2016 | Standard Class | AP-10720 | Anne Pryor       | Home Office | United States | Los Angeles  | ⋯ | West    | OFF-BI-10003727 | Office Supplies | Binders     | Avery Durable Slant Ring Binders With Label Holder                                | 13.376  |  4 | 0.2 |   4.6816 | NA |\n",
       "| 9980 | US-2016-103674 | 12/6/2016  | 12/10/2016 | Standard Class | AP-10720 | Anne Pryor       | Home Office | United States | Los Angeles  | ⋯ | West    | OFF-BI-10002026 | Office Supplies | Binders     | Ibico Recycled Linen-Style Covers                                                 | 437.472 | 14 | 0.2 | 153.1152 | NA |\n",
       "| 9981 | US-2015-151435 | 9/6/2015   | 9/9/2015   | Second Class   | SW-20455 | Shaun Weien      | Consumer    | United States | Lafayette    | ⋯ | South   | FUR-TA-10001039 | Furniture       | Tables      | KI Adjustable-Height Table                                                        | 85.98   |  1 | 0.0 |  22.3548 | NA |\n",
       "| 9982 | CA-2017-163566 | 8/3/2017   | 8/6/2017   | First Class    | TB-21055 | Ted Butterfield  | Consumer    | United States | Fairfield    | ⋯ | East    | OFF-LA-10004484 | Office Supplies | Labels      | Avery 476                                                                         | 16.52   |  5 | 0.2 |   5.3690 | NA |\n",
       "| 9983 | US-2016-157728 | 9/22/2016  | 9/28/2016  | Standard Class | RC-19960 | Ryan Crowe       | Consumer    | United States | Grand Rapids | ⋯ | Central | OFF-PA-10002195 | Office Supplies | Paper       | RSVP Cards &amp; Envelopes, Blank White, 8-1/2\" X 11\", 24 Cards/25 Envelopes/Set      | 35.56   |  7 | 0.0 |  16.7132 | NA |\n",
       "| 9984 | US-2016-157728 | 9/22/2016  | 9/28/2016  | Standard Class | RC-19960 | Ryan Crowe       | Consumer    | United States | Grand Rapids | ⋯ | Central | TEC-PH-10001305 | Technology      | Phones      | Panasonic KX TS208W Corded phone                                                  | 97.98   |  2 | 0.0 |  27.4344 | NA |\n",
       "| 9985 | CA-2015-100251 | 5/17/2015  | 5/23/2015  | Standard Class | DV-13465 | Dianna Vittorini | Consumer    | United States | Long Beach   | ⋯ | East    | OFF-LA-10003766 | Office Supplies | Labels      | Self-Adhesive Removable Labels                                                    | 31.5    | 10 | 0.0 |  15.1200 | NA |\n",
       "| 9986 | CA-2015-100251 | 5/17/2015  | 5/23/2015  | Standard Class | DV-13465 | Dianna Vittorini | Consumer    | United States | Long Beach   | ⋯ | East    | OFF-SU-10000898 | Office Supplies | Supplies    | Acme Hot Forged Carbon Steel Scissors with Nickel-Plated Handles, 3 7/8\" Cut, 8\"L | 55.6    |  4 | 0.0 |  16.1240 | NA |\n",
       "| 9987 | CA-2016-125794 | 9/29/2016  | 10/3/2016  | Standard Class | ML-17410 | Maris LaWare     | Consumer    | United States | Los Angeles  | ⋯ | West    | TEC-AC-10003399 | Technology      | Accessories | Memorex Mini Travel Drive 64 GB USB 2.0 Flash Drive                               | 36.24   |  1 | 0.0 |  15.2208 | NA |\n",
       "| 9988 | CA-2017-163629 | 11/17/2017 | 11/21/2017 | Standard Class | RA-19885 | Ruben Ausman     | Corporate   | United States | Athens       | ⋯ | South   | TEC-AC-10001539 | Technology      | Accessories | Logitech G430 Surround Sound Gaming Headset with Dolby 7.1 Technology             | 79.99   |  1 | 0.0 |  28.7964 | NA |\n",
       "| 9989 | CA-2017-163629 | 11/17/2017 | 11/21/2017 | Standard Class | RA-19885 | Ruben Ausman     | Corporate   | United States | Athens       | ⋯ | South   | TEC-PH-10004006 | Technology      | Phones      | Panasonic KX - TS880B Telephone                                                   | 206.1   |  5 | 0.0 |  55.6470 | NA |\n",
       "| 9990 | CA-2014-110422 | 1/21/2014  | 1/23/2014  | Second Class   | TB-21400 | Tom Boeckenhauer | Consumer    | United States | Miami        | ⋯ | South   | FUR-FU-10001889 | Furniture       | Furnishings | Ultra Door Pull Handle                                                            | 25.248  |  3 | 0.2 |   4.1028 | NA |\n",
       "| 9991 | CA-2017-121258 | 2/26/2017  | 3/3/2017   | Standard Class | DB-13060 | Dave Brooks      | Consumer    | United States | Costa Mesa   | ⋯ | West    | FUR-FU-10000747 | Furniture       | Furnishings | Tenex B1-RE Series Chair Mats for Low Pile Carpets                                | 91.96   |  2 | 0.0 |  15.6332 | NA |\n",
       "| 9992 | CA-2017-121258 | 2/26/2017  | 3/3/2017   | Standard Class | DB-13060 | Dave Brooks      | Consumer    | United States | Costa Mesa   | ⋯ | West    | TEC-PH-10003645 | Technology      | Phones      | Aastra 57i VoIP phone                                                             | 258.576 |  2 | 0.2 |  19.3932 | NA |\n",
       "| 9993 | CA-2017-121258 | 2/26/2017  | 3/3/2017   | Standard Class | DB-13060 | Dave Brooks      | Consumer    | United States | Costa Mesa   | ⋯ | West    | OFF-PA-10004041 | Office Supplies | Paper       | It's Hot Message Books with Stickers, 2 3/4\" x 5\"                                 | 29.6    |  4 | 0.0 |  13.3200 | NA |\n",
       "| 9994 | CA-2017-119914 | 5/4/2017   | 5/9/2017   | Second Class   | CC-12220 | Chris Cortes     | Consumer    | United States | Westminster  | ⋯ | West    | OFF-AP-10002684 | Office Supplies | Appliances  | Acco 7-Outlet Masterpiece Power Center, Wihtout Fax/Phone Line Protection         | 243.16  |  2 | 0.0 |  72.9480 | NA |\n",
       "\n"
      ],
      "text/plain": [
       "     row_id order_id       order_date ship_date  ship_mode      customer_id\n",
       "1     1     CA-2016-152156 11/8/2016  11/11/2016 Second Class   CG-12520   \n",
       "2     2     CA-2016-152156 11/8/2016  11/11/2016 Second Class   CG-12520   \n",
       "3     3     CA-2016-138688 6/12/2016  6/16/2016  Second Class   DV-13045   \n",
       "4     4     US-2015-108966 10/11/2015 10/18/2015 Standard Class SO-20335   \n",
       "5     5     US-2015-108966 10/11/2015 10/18/2015 Standard Class SO-20335   \n",
       "6     6     CA-2014-115812 6/9/2014   6/14/2014  Standard Class BH-11710   \n",
       "7     7     CA-2014-115812 6/9/2014   6/14/2014  Standard Class BH-11710   \n",
       "8     8     CA-2014-115812 6/9/2014   6/14/2014  Standard Class BH-11710   \n",
       "9     9     CA-2014-115812 6/9/2014   6/14/2014  Standard Class BH-11710   \n",
       "10   10     CA-2014-115812 6/9/2014   6/14/2014  Standard Class BH-11710   \n",
       "11   11     CA-2014-115812 6/9/2014   6/14/2014  Standard Class BH-11710   \n",
       "12   12     CA-2014-115812 6/9/2014   6/14/2014  Standard Class BH-11710   \n",
       "13   13     CA-2017-114412 4/15/2017  4/20/2017  Standard Class AA-10480   \n",
       "14   14     CA-2016-161389 12/5/2016  12/10/2016 Standard Class IM-15070   \n",
       "15   15     US-2015-118983 11/22/2015 11/26/2015 Standard Class HP-14815   \n",
       "16   16     US-2015-118983 11/22/2015 11/26/2015 Standard Class HP-14815   \n",
       "17   17     CA-2014-105893 11/11/2014 11/18/2014 Standard Class PK-19075   \n",
       "18   18     CA-2014-167164 5/13/2014  5/15/2014  Second Class   AG-10270   \n",
       "19   19     CA-2014-143336 8/27/2014  9/1/2014   Second Class   ZD-21925   \n",
       "20   20     CA-2014-143336 8/27/2014  9/1/2014   Second Class   ZD-21925   \n",
       "21   21     CA-2014-143336 8/27/2014  9/1/2014   Second Class   ZD-21925   \n",
       "22   22     CA-2016-137330 12/9/2016  12/13/2016 Standard Class KB-16585   \n",
       "23   23     CA-2016-137330 12/9/2016  12/13/2016 Standard Class KB-16585   \n",
       "24   24     US-2017-156909 7/16/2017  7/18/2017  Second Class   SF-20065   \n",
       "25   25     CA-2015-106320 9/25/2015  9/30/2015  Standard Class EB-13870   \n",
       "26   26     CA-2016-121755 1/16/2016  1/20/2016  Second Class   EH-13945   \n",
       "27   27     CA-2016-121755 1/16/2016  1/20/2016  Second Class   EH-13945   \n",
       "28   28     US-2015-150630 9/17/2015  9/21/2015  Standard Class TB-21520   \n",
       "29   29     US-2015-150630 9/17/2015  9/21/2015  Standard Class TB-21520   \n",
       "30   30     US-2015-150630 9/17/2015  9/21/2015  Standard Class TB-21520   \n",
       "⋮    ⋮      ⋮              ⋮          ⋮          ⋮              ⋮          \n",
       "9965 9965   CA-2016-146374 12/5/2016  12/10/2016 Second Class   HE-14800   \n",
       "9966 9966   CA-2016-146374 12/5/2016  12/10/2016 Second Class   HE-14800   \n",
       "9967 9967   CA-2016-146374 12/5/2016  12/10/2016 Second Class   HE-14800   \n",
       "9968 9968   CA-2017-153871 12/11/2017 12/17/2017 Standard Class RB-19435   \n",
       "9969 9969   CA-2017-153871 12/11/2017 12/17/2017 Standard Class RB-19435   \n",
       "9970 9970   CA-2017-153871 12/11/2017 12/17/2017 Standard Class RB-19435   \n",
       "9971 9971   CA-2015-103772 6/28/2015  7/2/2015   Standard Class MP-17470   \n",
       "9972 9972   CA-2015-103772 6/28/2015  7/2/2015   Standard Class MP-17470   \n",
       "9973 9973   CA-2016-130225 9/11/2016  9/17/2016  Standard Class RC-19960   \n",
       "9974 9974   US-2016-103674 12/6/2016  12/10/2016 Standard Class AP-10720   \n",
       "9975 9975   US-2016-103674 12/6/2016  12/10/2016 Standard Class AP-10720   \n",
       "9976 9976   US-2016-103674 12/6/2016  12/10/2016 Standard Class AP-10720   \n",
       "9977 9977   US-2016-103674 12/6/2016  12/10/2016 Standard Class AP-10720   \n",
       "9978 9978   US-2016-103674 12/6/2016  12/10/2016 Standard Class AP-10720   \n",
       "9979 9979   US-2016-103674 12/6/2016  12/10/2016 Standard Class AP-10720   \n",
       "9980 9980   US-2016-103674 12/6/2016  12/10/2016 Standard Class AP-10720   \n",
       "9981 9981   US-2015-151435 9/6/2015   9/9/2015   Second Class   SW-20455   \n",
       "9982 9982   CA-2017-163566 8/3/2017   8/6/2017   First Class    TB-21055   \n",
       "9983 9983   US-2016-157728 9/22/2016  9/28/2016  Standard Class RC-19960   \n",
       "9984 9984   US-2016-157728 9/22/2016  9/28/2016  Standard Class RC-19960   \n",
       "9985 9985   CA-2015-100251 5/17/2015  5/23/2015  Standard Class DV-13465   \n",
       "9986 9986   CA-2015-100251 5/17/2015  5/23/2015  Standard Class DV-13465   \n",
       "9987 9987   CA-2016-125794 9/29/2016  10/3/2016  Standard Class ML-17410   \n",
       "9988 9988   CA-2017-163629 11/17/2017 11/21/2017 Standard Class RA-19885   \n",
       "9989 9989   CA-2017-163629 11/17/2017 11/21/2017 Standard Class RA-19885   \n",
       "9990 9990   CA-2014-110422 1/21/2014  1/23/2014  Second Class   TB-21400   \n",
       "9991 9991   CA-2017-121258 2/26/2017  3/3/2017   Standard Class DB-13060   \n",
       "9992 9992   CA-2017-121258 2/26/2017  3/3/2017   Standard Class DB-13060   \n",
       "9993 9993   CA-2017-121258 2/26/2017  3/3/2017   Standard Class DB-13060   \n",
       "9994 9994   CA-2017-119914 5/4/2017   5/9/2017   Second Class   CC-12220   \n",
       "     customer_name      segment     country       city            ⋯ region \n",
       "1    Claire Gute        Consumer    United States Henderson       ⋯ South  \n",
       "2    Claire Gute        Consumer    United States Henderson       ⋯ South  \n",
       "3    Darrin Van Huff    Corporate   United States Los Angeles     ⋯ West   \n",
       "4    Sean O'Donnell     Consumer    United States Fort Lauderdale ⋯ South  \n",
       "5    Sean O'Donnell     Consumer    United States Fort Lauderdale ⋯ South  \n",
       "6    Brosina Hoffman    Consumer    United States Los Angeles     ⋯ West   \n",
       "7    Brosina Hoffman    Consumer    United States Los Angeles     ⋯ West   \n",
       "8    Brosina Hoffman    Consumer    United States Los Angeles     ⋯ West   \n",
       "9    Brosina Hoffman    Consumer    United States Los Angeles     ⋯ West   \n",
       "10   Brosina Hoffman    Consumer    United States Los Angeles     ⋯ West   \n",
       "11   Brosina Hoffman    Consumer    United States Los Angeles     ⋯ West   \n",
       "12   Brosina Hoffman    Consumer    United States Los Angeles     ⋯ West   \n",
       "13   Andrew Allen       Consumer    United States Concord         ⋯ South  \n",
       "14   Irene Maddox       Consumer    United States Seattle         ⋯ West   \n",
       "15   Harold Pawlan      Home Office United States Fort Worth      ⋯ Central\n",
       "16   Harold Pawlan      Home Office United States Fort Worth      ⋯ Central\n",
       "17   Pete Kriz          Consumer    United States Madison         ⋯ Central\n",
       "18   Alejandro Grove    Consumer    United States West Jordan     ⋯ West   \n",
       "19   Zuschuss Donatelli Consumer    United States San Francisco   ⋯ West   \n",
       "20   Zuschuss Donatelli Consumer    United States San Francisco   ⋯ West   \n",
       "21   Zuschuss Donatelli Consumer    United States San Francisco   ⋯ West   \n",
       "22   Ken Black          Corporate   United States Fremont         ⋯ Central\n",
       "23   Ken Black          Corporate   United States Fremont         ⋯ Central\n",
       "24   Sandra Flanagan    Consumer    United States Philadelphia    ⋯ East   \n",
       "25   Emily Burns        Consumer    United States Orem            ⋯ West   \n",
       "26   Eric Hoffmann      Consumer    United States Los Angeles     ⋯ West   \n",
       "27   Eric Hoffmann      Consumer    United States Los Angeles     ⋯ West   \n",
       "28   Tracy Blumstein    Consumer    United States Philadelphia    ⋯ East   \n",
       "29   Tracy Blumstein    Consumer    United States Philadelphia    ⋯ East   \n",
       "30   Tracy Blumstein    Consumer    United States Philadelphia    ⋯ East   \n",
       "⋮    ⋮                  ⋮           ⋮             ⋮               ⋱ ⋮      \n",
       "9965 Harold Engle       Corporate   United States Newark          ⋯ East   \n",
       "9966 Harold Engle       Corporate   United States Newark          ⋯ East   \n",
       "9967 Harold Engle       Corporate   United States Newark          ⋯ East   \n",
       "9968 Richard Bierner    Consumer    United States Plainfield      ⋯ East   \n",
       "9969 Richard Bierner    Consumer    United States Plainfield      ⋯ East   \n",
       "9970 Richard Bierner    Consumer    United States Plainfield      ⋯ East   \n",
       "9971 Mark Packer        Home Office United States Smyrna          ⋯ South  \n",
       "9972 Mark Packer        Home Office United States Smyrna          ⋯ South  \n",
       "9973 Ryan Crowe         Consumer    United States Houston         ⋯ Central\n",
       "9974 Anne Pryor         Home Office United States Los Angeles     ⋯ West   \n",
       "9975 Anne Pryor         Home Office United States Los Angeles     ⋯ West   \n",
       "9976 Anne Pryor         Home Office United States Los Angeles     ⋯ West   \n",
       "9977 Anne Pryor         Home Office United States Los Angeles     ⋯ West   \n",
       "9978 Anne Pryor         Home Office United States Los Angeles     ⋯ West   \n",
       "9979 Anne Pryor         Home Office United States Los Angeles     ⋯ West   \n",
       "9980 Anne Pryor         Home Office United States Los Angeles     ⋯ West   \n",
       "9981 Shaun Weien        Consumer    United States Lafayette       ⋯ South  \n",
       "9982 Ted Butterfield    Consumer    United States Fairfield       ⋯ East   \n",
       "9983 Ryan Crowe         Consumer    United States Grand Rapids    ⋯ Central\n",
       "9984 Ryan Crowe         Consumer    United States Grand Rapids    ⋯ Central\n",
       "9985 Dianna Vittorini   Consumer    United States Long Beach      ⋯ East   \n",
       "9986 Dianna Vittorini   Consumer    United States Long Beach      ⋯ East   \n",
       "9987 Maris LaWare       Consumer    United States Los Angeles     ⋯ West   \n",
       "9988 Ruben Ausman       Corporate   United States Athens          ⋯ South  \n",
       "9989 Ruben Ausman       Corporate   United States Athens          ⋯ South  \n",
       "9990 Tom Boeckenhauer   Consumer    United States Miami           ⋯ South  \n",
       "9991 Dave Brooks        Consumer    United States Costa Mesa      ⋯ West   \n",
       "9992 Dave Brooks        Consumer    United States Costa Mesa      ⋯ West   \n",
       "9993 Dave Brooks        Consumer    United States Costa Mesa      ⋯ West   \n",
       "9994 Chris Cortes       Consumer    United States Westminster     ⋯ West   \n",
       "     product_id      category        sub_category\n",
       "1    FUR-BO-10001798 Furniture       Bookcases   \n",
       "2    FUR-CH-10000454 Furniture       Chairs      \n",
       "3    OFF-LA-10000240 Office Supplies Labels      \n",
       "4    FUR-TA-10000577 Furniture       Tables      \n",
       "5    OFF-ST-10000760 Office Supplies Storage     \n",
       "6    FUR-FU-10001487 Furniture       Furnishings \n",
       "7    OFF-AR-10002833 Office Supplies Art         \n",
       "8    TEC-PH-10002275 Technology      Phones      \n",
       "9    OFF-BI-10003910 Office Supplies Binders     \n",
       "10   OFF-AP-10002892 Office Supplies Appliances  \n",
       "11   FUR-TA-10001539 Furniture       Tables      \n",
       "12   TEC-PH-10002033 Technology      Phones      \n",
       "13   OFF-PA-10002365 Office Supplies Paper       \n",
       "14   OFF-BI-10003656 Office Supplies Binders     \n",
       "15   OFF-AP-10002311 Office Supplies Appliances  \n",
       "16   OFF-BI-10000756 Office Supplies Binders     \n",
       "17   OFF-ST-10004186 Office Supplies Storage     \n",
       "18   OFF-ST-10000107 Office Supplies Storage     \n",
       "19   OFF-AR-10003056 Office Supplies Art         \n",
       "20   TEC-PH-10001949 Technology      Phones      \n",
       "21   OFF-BI-10002215 Office Supplies Binders     \n",
       "22   OFF-AR-10000246 Office Supplies Art         \n",
       "23   OFF-AP-10001492 Office Supplies Appliances  \n",
       "24   FUR-CH-10002774 Furniture       Chairs      \n",
       "25   FUR-TA-10000577 Furniture       Tables      \n",
       "26   OFF-BI-10001634 Office Supplies Binders     \n",
       "27   TEC-AC-10003027 Technology      Accessories \n",
       "28   FUR-BO-10004834 Furniture       Bookcases   \n",
       "29   OFF-BI-10000474 Office Supplies Binders     \n",
       "30   FUR-FU-10004848 Furniture       Furnishings \n",
       "⋮    ⋮               ⋮               ⋮           \n",
       "9965 FUR-FU-10002671 Furniture       Furnishings \n",
       "9966 OFF-PA-10000349 Office Supplies Paper       \n",
       "9967 OFF-EN-10004483 Office Supplies Envelopes   \n",
       "9968 OFF-BI-10004209 Office Supplies Binders     \n",
       "9969 OFF-BI-10004600 Office Supplies Binders     \n",
       "9970 OFF-AP-10003622 Office Supplies Appliances  \n",
       "9971 OFF-BI-10002867 Office Supplies Binders     \n",
       "9972 OFF-AR-10000538 Office Supplies Art         \n",
       "9973 OFF-EN-10000056 Office Supplies Envelopes   \n",
       "9974 TEC-PH-10004080 Technology      Phones      \n",
       "9975 OFF-AR-10004752 Office Supplies Art         \n",
       "9976 OFF-PA-10000743 Office Supplies Paper       \n",
       "9977 TEC-PH-10002496 Technology      Phones      \n",
       "9978 OFF-FA-10003467 Office Supplies Fasteners   \n",
       "9979 OFF-BI-10003727 Office Supplies Binders     \n",
       "9980 OFF-BI-10002026 Office Supplies Binders     \n",
       "9981 FUR-TA-10001039 Furniture       Tables      \n",
       "9982 OFF-LA-10004484 Office Supplies Labels      \n",
       "9983 OFF-PA-10002195 Office Supplies Paper       \n",
       "9984 TEC-PH-10001305 Technology      Phones      \n",
       "9985 OFF-LA-10003766 Office Supplies Labels      \n",
       "9986 OFF-SU-10000898 Office Supplies Supplies    \n",
       "9987 TEC-AC-10003399 Technology      Accessories \n",
       "9988 TEC-AC-10001539 Technology      Accessories \n",
       "9989 TEC-PH-10004006 Technology      Phones      \n",
       "9990 FUR-FU-10001889 Furniture       Furnishings \n",
       "9991 FUR-FU-10000747 Furniture       Furnishings \n",
       "9992 TEC-PH-10003645 Technology      Phones      \n",
       "9993 OFF-PA-10004041 Office Supplies Paper       \n",
       "9994 OFF-AP-10002684 Office Supplies Appliances  \n",
       "     product_name                                                                     \n",
       "1    Bush Somerset Collection Bookcase                                                \n",
       "2    Hon Deluxe Fabric Upholstered Stacking Chairs, Rounded Back                      \n",
       "3    Self-Adhesive Address Labels for Typewriters by Universal                        \n",
       "4    Bretford CR4500 Series Slim Rectangular Table                                    \n",
       "5    Eldon Fold 'N Roll Cart System                                                   \n",
       "6    Eldon Expressions Wood and Plastic Desk Accessories, Cherry Wood                 \n",
       "7    Newell 322                                                                       \n",
       "8    Mitel 5320 IP Phone VoIP phone                                                   \n",
       "9    DXL Angle-View Binders with Locking Rings by Samsill                             \n",
       "10   Belkin F5C206VTEL 6 Outlet Surge                                                 \n",
       "11   Chromcraft Rectangular Conference Tables                                         \n",
       "12   Konftel 250 Conference�phone�- Charcoal black                                    \n",
       "13   Xerox 1967                                                                       \n",
       "14   Fellowes PB200 Plastic Comb Binding Machine                                      \n",
       "15   Holmes Replacement Filter for HEPA Air Cleaner, Very Large Room, HEPA Filter     \n",
       "16   Storex DuraTech Recycled Plastic Frosted Binders                                 \n",
       "17   Stur-D-Stor Shelving, Vertical 5-Shelf: 72\"H x 36\"W x 18 1/2\"D                   \n",
       "18   Fellowes Super Stor/Drawer                                                       \n",
       "19   Newell 341                                                                       \n",
       "20   Cisco SPA 501G IP Phone                                                          \n",
       "21   Wilson Jones Hanging View Binder, White, 1\"                                      \n",
       "22   Newell 318                                                                       \n",
       "23   Acco Six-Outlet Power Strip, 4' Cord Length                                      \n",
       "24   Global Deluxe Stacking Chair, Gray                                               \n",
       "25   Bretford CR4500 Series Slim Rectangular Table                                    \n",
       "26   Wilson Jones Active Use Binders                                                  \n",
       "27   Imation�8GB Mini TravelDrive USB 2.0�Flash Drive                                 \n",
       "28   Riverside Palais Royal Lawyers Bookcase, Royale Cherry Finish                    \n",
       "29   Avery Recycled Flexi-View Covers for Binding Systems                             \n",
       "30   Howard Miller 13-3/4\" Diameter Brushed Chrome Round Wall Clock                   \n",
       "⋮    ⋮                                                                                \n",
       "9965 Electrix 20W Halogen Replacement Bulb for Zoom-In Desk Lamp                      \n",
       "9966 Easy-staple paper                                                                \n",
       "9967 #10 White Business Envelopes,4 1/8 x 9 1/2                                       \n",
       "9968 Fellowes Twister Kit, Gray/Clear, 3/pkg                                          \n",
       "9969 Ibico Ibimaster 300 Manual Binding System                                        \n",
       "9970 Bravo II Megaboss 12-Amp Hard Body Upright, Replacement Belts, 2 Belts per Pack  \n",
       "9971 GBC Recycled Regency Composition Covers                                          \n",
       "9972 Boston Model 1800 Electric Pencil Sharpener, Gray                                \n",
       "9973 Cameo Buff Policy Envelopes                                                      \n",
       "9974 Avaya 5410 Digital phone                                                         \n",
       "9975 Blackstonian Pencils                                                             \n",
       "9976 Xerox 1977                                                                       \n",
       "9977 Cisco SPA301                                                                     \n",
       "9978 Alliance Big Bands Rubber Bands, 12/Pack                                         \n",
       "9979 Avery Durable Slant Ring Binders With Label Holder                               \n",
       "9980 Ibico Recycled Linen-Style Covers                                                \n",
       "9981 KI Adjustable-Height Table                                                       \n",
       "9982 Avery 476                                                                        \n",
       "9983 RSVP Cards & Envelopes, Blank White, 8-1/2\" X 11\", 24 Cards/25 Envelopes/Set     \n",
       "9984 Panasonic KX TS208W Corded phone                                                 \n",
       "9985 Self-Adhesive Removable Labels                                                   \n",
       "9986 Acme Hot Forged Carbon Steel Scissors with Nickel-Plated Handles, 3 7/8\" Cut, 8\"L\n",
       "9987 Memorex Mini Travel Drive 64 GB USB 2.0 Flash Drive                              \n",
       "9988 Logitech G430 Surround Sound Gaming Headset with Dolby 7.1 Technology            \n",
       "9989 Panasonic KX - TS880B Telephone                                                  \n",
       "9990 Ultra Door Pull Handle                                                           \n",
       "9991 Tenex B1-RE Series Chair Mats for Low Pile Carpets                               \n",
       "9992 Aastra 57i VoIP phone                                                            \n",
       "9993 It's Hot Message Books with Stickers, 2 3/4\" x 5\"                                \n",
       "9994 Acco 7-Outlet Masterpiece Power Center, Wihtout Fax/Phone Line Protection        \n",
       "     sales    quantity discount profit     X \n",
       "1    261.96   2        0.00        41.9136 NA\n",
       "2    731.94   3        0.00       219.5820 NA\n",
       "3    14.62    2        0.00         6.8714 NA\n",
       "4    957.5775 5        0.45      -383.0310 NA\n",
       "5    22.368   2        0.20         2.5164 NA\n",
       "6    48.86    7        0.00        14.1694 NA\n",
       "7    7.28     4        0.00         1.9656 NA\n",
       "8    907.152  6        0.20        90.7152 NA\n",
       "9    18.504   3        0.20         5.7825 NA\n",
       "10   114.9    5        0.00        34.4700 NA\n",
       "11   1706.184 9        0.20        85.3092 NA\n",
       "12   911.424  4        0.20        68.3568 NA\n",
       "13   15.552   3        0.20         5.4432 NA\n",
       "14   407.976  3        0.20       132.5922 NA\n",
       "15   68.81    5        0.80      -123.8580 NA\n",
       "16   2.544    3        0.80        -3.8160 NA\n",
       "17   665.88   6        0.00        13.3176 NA\n",
       "18   55.5     2        0.00         9.9900 NA\n",
       "19   8.56     2        0.00         2.4824 NA\n",
       "20   213.48   3        0.20        16.0110 NA\n",
       "21   22.72    4        0.20         7.3840 NA\n",
       "22   19.46    7        0.00         5.0596 NA\n",
       "23   60.34    7        0.00        15.6884 NA\n",
       "24   71.372   2        0.30        -1.0196 NA\n",
       "25   1044.63  3        0.00       240.2649 NA\n",
       "26   11.648   2        0.20         4.2224 NA\n",
       "27   90.57    3        0.00        11.7741 NA\n",
       "28   3083.43  7        0.50     -1665.0522 NA\n",
       "29   9.618    2        0.70        -7.0532 NA\n",
       "30   124.2    3        0.20        15.5250 NA\n",
       "⋮    ⋮        ⋮        ⋮        ⋮          ⋮ \n",
       "9965 13.4      1       0.0        6.4320   NA\n",
       "9966 4.98      1       0.0        2.3406   NA\n",
       "9967 109.69    7       0.0       51.5543   NA\n",
       "9968 40.2      5       0.0       18.0900   NA\n",
       "9969 735.98    2       0.0      331.1910   NA\n",
       "9970 22.75     7       0.0        6.5975   NA\n",
       "9971 119.56    2       0.0       54.9976   NA\n",
       "9972 140.75    5       0.0       42.2250   NA\n",
       "9973 99.568    2       0.2       33.6042   NA\n",
       "9974 271.96    5       0.2       27.1960   NA\n",
       "9975 18.69     7       0.0        5.2332   NA\n",
       "9976 13.36     2       0.0        6.4128   NA\n",
       "9977 249.584   2       0.2       31.1980   NA\n",
       "9978 13.86     7       0.0        0.0000   NA\n",
       "9979 13.376    4       0.2        4.6816   NA\n",
       "9980 437.472  14       0.2      153.1152   NA\n",
       "9981 85.98     1       0.0       22.3548   NA\n",
       "9982 16.52     5       0.2        5.3690   NA\n",
       "9983 35.56     7       0.0       16.7132   NA\n",
       "9984 97.98     2       0.0       27.4344   NA\n",
       "9985 31.5     10       0.0       15.1200   NA\n",
       "9986 55.6      4       0.0       16.1240   NA\n",
       "9987 36.24     1       0.0       15.2208   NA\n",
       "9988 79.99     1       0.0       28.7964   NA\n",
       "9989 206.1     5       0.0       55.6470   NA\n",
       "9990 25.248    3       0.2        4.1028   NA\n",
       "9991 91.96     2       0.0       15.6332   NA\n",
       "9992 258.576   2       0.2       19.3932   NA\n",
       "9993 29.6      4       0.0       13.3200   NA\n",
       "9994 243.16    2       0.0       72.9480   NA"
      ]
     },
     "metadata": {},
     "output_type": "display_data"
    }
   ],
   "source": [
    "View(x)"
   ]
  },
  {
   "cell_type": "markdown",
   "id": "47e00ec1-bc9a-443c-9d6c-9bd9c94b94f3",
   "metadata": {},
   "source": [
    "## Explore the data\n",
    "#### understand the data"
   ]
  },
  {
   "cell_type": "markdown",
   "id": "18de0144-6656-4471-9598-f00e9c1bbdfc",
   "metadata": {},
   "source": [
    "##### before analysis or anyother steps, I have to understan everything about the data. it is most important steps before to drive deep insights. In this steps I will explore everything about this dataset."
   ]
  },
  {
   "cell_type": "code",
   "execution_count": 4,
   "id": "91b88f00-0b01-4f04-8a13-5c3f9ef4a425",
   "metadata": {},
   "outputs": [
    {
     "name": "stderr",
     "output_type": "stream",
     "text": [
      "── \u001b[1mAttaching core tidyverse packages\u001b[22m ──────────────────────────────────────────────────────────────── tidyverse 2.0.0 ──\n",
      "\u001b[32m✔\u001b[39m \u001b[34mdplyr    \u001b[39m 1.1.3     \u001b[32m✔\u001b[39m \u001b[34mreadr    \u001b[39m 2.1.4\n",
      "\u001b[32m✔\u001b[39m \u001b[34mforcats  \u001b[39m 1.0.0     \u001b[32m✔\u001b[39m \u001b[34mstringr  \u001b[39m 1.5.0\n",
      "\u001b[32m✔\u001b[39m \u001b[34mggplot2  \u001b[39m 3.4.3     \u001b[32m✔\u001b[39m \u001b[34mtibble   \u001b[39m 3.2.1\n",
      "\u001b[32m✔\u001b[39m \u001b[34mlubridate\u001b[39m 1.9.2     \u001b[32m✔\u001b[39m \u001b[34mtidyr    \u001b[39m 1.3.0\n",
      "\u001b[32m✔\u001b[39m \u001b[34mpurrr    \u001b[39m 1.0.2     \n",
      "── \u001b[1mConflicts\u001b[22m ────────────────────────────────────────────────────────────────────────────────── tidyverse_conflicts() ──\n",
      "\u001b[31m✖\u001b[39m \u001b[34mdplyr\u001b[39m::\u001b[32mfilter()\u001b[39m masks \u001b[34mstats\u001b[39m::filter()\n",
      "\u001b[31m✖\u001b[39m \u001b[34mdplyr\u001b[39m::\u001b[32mlag()\u001b[39m    masks \u001b[34mstats\u001b[39m::lag()\n",
      "\u001b[36mℹ\u001b[39m Use the conflicted package (\u001b[3m\u001b[34m<http://conflicted.r-lib.org/>\u001b[39m\u001b[23m) to force all conflicts to become errors\n"
     ]
    },
    {
     "ename": "ERROR",
     "evalue": "Error in library(here): there is no package called 'here'\n",
     "output_type": "error",
     "traceback": [
      "Error in library(here): there is no package called 'here'\nTraceback:\n",
      "1. library(here)"
     ]
    }
   ],
   "source": [
    "# importing all the libraries what I need the most \n",
    "library(tidyverse)\n",
    "library(here)\n",
    "library(skimr)"
   ]
  },
  {
   "cell_type": "code",
   "execution_count": 5,
   "id": "098121dd-c8fd-47b3-ab92-726cd82275a2",
   "metadata": {},
   "outputs": [
    {
     "data": {
      "text/html": [
       "<table class=\"dataframe\">\n",
       "<caption>A data.frame: 6 × 22</caption>\n",
       "<thead>\n",
       "\t<tr><th></th><th scope=col>row_id</th><th scope=col>order_id</th><th scope=col>order_date</th><th scope=col>ship_date</th><th scope=col>ship_mode</th><th scope=col>customer_id</th><th scope=col>customer_name</th><th scope=col>segment</th><th scope=col>country</th><th scope=col>city</th><th scope=col>⋯</th><th scope=col>region</th><th scope=col>product_id</th><th scope=col>category</th><th scope=col>sub_category</th><th scope=col>product_name</th><th scope=col>sales</th><th scope=col>quantity</th><th scope=col>discount</th><th scope=col>profit</th><th scope=col>X</th></tr>\n",
       "\t<tr><th></th><th scope=col>&lt;int&gt;</th><th scope=col>&lt;chr&gt;</th><th scope=col>&lt;chr&gt;</th><th scope=col>&lt;chr&gt;</th><th scope=col>&lt;chr&gt;</th><th scope=col>&lt;chr&gt;</th><th scope=col>&lt;chr&gt;</th><th scope=col>&lt;chr&gt;</th><th scope=col>&lt;chr&gt;</th><th scope=col>&lt;chr&gt;</th><th scope=col>⋯</th><th scope=col>&lt;chr&gt;</th><th scope=col>&lt;chr&gt;</th><th scope=col>&lt;chr&gt;</th><th scope=col>&lt;chr&gt;</th><th scope=col>&lt;chr&gt;</th><th scope=col>&lt;chr&gt;</th><th scope=col>&lt;dbl&gt;</th><th scope=col>&lt;dbl&gt;</th><th scope=col>&lt;dbl&gt;</th><th scope=col>&lt;dbl&gt;</th></tr>\n",
       "</thead>\n",
       "<tbody>\n",
       "\t<tr><th scope=row>1</th><td>1</td><td>CA-2016-152156</td><td>11/8/2016 </td><td>11/11/2016</td><td>Second Class  </td><td>CG-12520</td><td>Claire Gute    </td><td>Consumer </td><td>United States</td><td>Henderson      </td><td>⋯</td><td>South</td><td>FUR-BO-10001798</td><td>Furniture      </td><td>Bookcases  </td><td>Bush Somerset Collection Bookcase                               </td><td>261.96  </td><td>2</td><td>0.00</td><td>  41.9136</td><td>NA</td></tr>\n",
       "\t<tr><th scope=row>2</th><td>2</td><td>CA-2016-152156</td><td>11/8/2016 </td><td>11/11/2016</td><td>Second Class  </td><td>CG-12520</td><td>Claire Gute    </td><td>Consumer </td><td>United States</td><td>Henderson      </td><td>⋯</td><td>South</td><td>FUR-CH-10000454</td><td>Furniture      </td><td>Chairs     </td><td>Hon Deluxe Fabric Upholstered Stacking Chairs, Rounded Back     </td><td>731.94  </td><td>3</td><td>0.00</td><td> 219.5820</td><td>NA</td></tr>\n",
       "\t<tr><th scope=row>3</th><td>3</td><td>CA-2016-138688</td><td>6/12/2016 </td><td>6/16/2016 </td><td>Second Class  </td><td>DV-13045</td><td>Darrin Van Huff</td><td>Corporate</td><td>United States</td><td>Los Angeles    </td><td>⋯</td><td>West </td><td>OFF-LA-10000240</td><td>Office Supplies</td><td>Labels     </td><td>Self-Adhesive Address Labels for Typewriters by Universal       </td><td>14.62   </td><td>2</td><td>0.00</td><td>   6.8714</td><td>NA</td></tr>\n",
       "\t<tr><th scope=row>4</th><td>4</td><td>US-2015-108966</td><td>10/11/2015</td><td>10/18/2015</td><td>Standard Class</td><td>SO-20335</td><td>Sean O'Donnell </td><td>Consumer </td><td>United States</td><td>Fort Lauderdale</td><td>⋯</td><td>South</td><td>FUR-TA-10000577</td><td>Furniture      </td><td>Tables     </td><td>Bretford CR4500 Series Slim Rectangular Table                   </td><td>957.5775</td><td>5</td><td>0.45</td><td>-383.0310</td><td>NA</td></tr>\n",
       "\t<tr><th scope=row>5</th><td>5</td><td>US-2015-108966</td><td>10/11/2015</td><td>10/18/2015</td><td>Standard Class</td><td>SO-20335</td><td>Sean O'Donnell </td><td>Consumer </td><td>United States</td><td>Fort Lauderdale</td><td>⋯</td><td>South</td><td>OFF-ST-10000760</td><td>Office Supplies</td><td>Storage    </td><td>Eldon Fold 'N Roll Cart System                                  </td><td>22.368  </td><td>2</td><td>0.20</td><td>   2.5164</td><td>NA</td></tr>\n",
       "\t<tr><th scope=row>6</th><td>6</td><td>CA-2014-115812</td><td>6/9/2014  </td><td>6/14/2014 </td><td>Standard Class</td><td>BH-11710</td><td>Brosina Hoffman</td><td>Consumer </td><td>United States</td><td>Los Angeles    </td><td>⋯</td><td>West </td><td>FUR-FU-10001487</td><td>Furniture      </td><td>Furnishings</td><td>Eldon Expressions Wood and Plastic Desk Accessories, Cherry Wood</td><td>48.86   </td><td>7</td><td>0.00</td><td>  14.1694</td><td>NA</td></tr>\n",
       "</tbody>\n",
       "</table>\n"
      ],
      "text/latex": [
       "A data.frame: 6 × 22\n",
       "\\begin{tabular}{r|lllllllllllllllllllll}\n",
       "  & row\\_id & order\\_id & order\\_date & ship\\_date & ship\\_mode & customer\\_id & customer\\_name & segment & country & city & ⋯ & region & product\\_id & category & sub\\_category & product\\_name & sales & quantity & discount & profit & X\\\\\n",
       "  & <int> & <chr> & <chr> & <chr> & <chr> & <chr> & <chr> & <chr> & <chr> & <chr> & ⋯ & <chr> & <chr> & <chr> & <chr> & <chr> & <chr> & <dbl> & <dbl> & <dbl> & <dbl>\\\\\n",
       "\\hline\n",
       "\t1 & 1 & CA-2016-152156 & 11/8/2016  & 11/11/2016 & Second Class   & CG-12520 & Claire Gute     & Consumer  & United States & Henderson       & ⋯ & South & FUR-BO-10001798 & Furniture       & Bookcases   & Bush Somerset Collection Bookcase                                & 261.96   & 2 & 0.00 &   41.9136 & NA\\\\\n",
       "\t2 & 2 & CA-2016-152156 & 11/8/2016  & 11/11/2016 & Second Class   & CG-12520 & Claire Gute     & Consumer  & United States & Henderson       & ⋯ & South & FUR-CH-10000454 & Furniture       & Chairs      & Hon Deluxe Fabric Upholstered Stacking Chairs, Rounded Back      & 731.94   & 3 & 0.00 &  219.5820 & NA\\\\\n",
       "\t3 & 3 & CA-2016-138688 & 6/12/2016  & 6/16/2016  & Second Class   & DV-13045 & Darrin Van Huff & Corporate & United States & Los Angeles     & ⋯ & West  & OFF-LA-10000240 & Office Supplies & Labels      & Self-Adhesive Address Labels for Typewriters by Universal        & 14.62    & 2 & 0.00 &    6.8714 & NA\\\\\n",
       "\t4 & 4 & US-2015-108966 & 10/11/2015 & 10/18/2015 & Standard Class & SO-20335 & Sean O'Donnell  & Consumer  & United States & Fort Lauderdale & ⋯ & South & FUR-TA-10000577 & Furniture       & Tables      & Bretford CR4500 Series Slim Rectangular Table                    & 957.5775 & 5 & 0.45 & -383.0310 & NA\\\\\n",
       "\t5 & 5 & US-2015-108966 & 10/11/2015 & 10/18/2015 & Standard Class & SO-20335 & Sean O'Donnell  & Consumer  & United States & Fort Lauderdale & ⋯ & South & OFF-ST-10000760 & Office Supplies & Storage     & Eldon Fold 'N Roll Cart System                                   & 22.368   & 2 & 0.20 &    2.5164 & NA\\\\\n",
       "\t6 & 6 & CA-2014-115812 & 6/9/2014   & 6/14/2014  & Standard Class & BH-11710 & Brosina Hoffman & Consumer  & United States & Los Angeles     & ⋯ & West  & FUR-FU-10001487 & Furniture       & Furnishings & Eldon Expressions Wood and Plastic Desk Accessories, Cherry Wood & 48.86    & 7 & 0.00 &   14.1694 & NA\\\\\n",
       "\\end{tabular}\n"
      ],
      "text/markdown": [
       "\n",
       "A data.frame: 6 × 22\n",
       "\n",
       "| <!--/--> | row_id &lt;int&gt; | order_id &lt;chr&gt; | order_date &lt;chr&gt; | ship_date &lt;chr&gt; | ship_mode &lt;chr&gt; | customer_id &lt;chr&gt; | customer_name &lt;chr&gt; | segment &lt;chr&gt; | country &lt;chr&gt; | city &lt;chr&gt; | ⋯ ⋯ | region &lt;chr&gt; | product_id &lt;chr&gt; | category &lt;chr&gt; | sub_category &lt;chr&gt; | product_name &lt;chr&gt; | sales &lt;chr&gt; | quantity &lt;dbl&gt; | discount &lt;dbl&gt; | profit &lt;dbl&gt; | X &lt;dbl&gt; |\n",
       "|---|---|---|---|---|---|---|---|---|---|---|---|---|---|---|---|---|---|---|---|---|---|\n",
       "| 1 | 1 | CA-2016-152156 | 11/8/2016  | 11/11/2016 | Second Class   | CG-12520 | Claire Gute     | Consumer  | United States | Henderson       | ⋯ | South | FUR-BO-10001798 | Furniture       | Bookcases   | Bush Somerset Collection Bookcase                                | 261.96   | 2 | 0.00 |   41.9136 | NA |\n",
       "| 2 | 2 | CA-2016-152156 | 11/8/2016  | 11/11/2016 | Second Class   | CG-12520 | Claire Gute     | Consumer  | United States | Henderson       | ⋯ | South | FUR-CH-10000454 | Furniture       | Chairs      | Hon Deluxe Fabric Upholstered Stacking Chairs, Rounded Back      | 731.94   | 3 | 0.00 |  219.5820 | NA |\n",
       "| 3 | 3 | CA-2016-138688 | 6/12/2016  | 6/16/2016  | Second Class   | DV-13045 | Darrin Van Huff | Corporate | United States | Los Angeles     | ⋯ | West  | OFF-LA-10000240 | Office Supplies | Labels      | Self-Adhesive Address Labels for Typewriters by Universal        | 14.62    | 2 | 0.00 |    6.8714 | NA |\n",
       "| 4 | 4 | US-2015-108966 | 10/11/2015 | 10/18/2015 | Standard Class | SO-20335 | Sean O'Donnell  | Consumer  | United States | Fort Lauderdale | ⋯ | South | FUR-TA-10000577 | Furniture       | Tables      | Bretford CR4500 Series Slim Rectangular Table                    | 957.5775 | 5 | 0.45 | -383.0310 | NA |\n",
       "| 5 | 5 | US-2015-108966 | 10/11/2015 | 10/18/2015 | Standard Class | SO-20335 | Sean O'Donnell  | Consumer  | United States | Fort Lauderdale | ⋯ | South | OFF-ST-10000760 | Office Supplies | Storage     | Eldon Fold 'N Roll Cart System                                   | 22.368   | 2 | 0.20 |    2.5164 | NA |\n",
       "| 6 | 6 | CA-2014-115812 | 6/9/2014   | 6/14/2014  | Standard Class | BH-11710 | Brosina Hoffman | Consumer  | United States | Los Angeles     | ⋯ | West  | FUR-FU-10001487 | Furniture       | Furnishings | Eldon Expressions Wood and Plastic Desk Accessories, Cherry Wood | 48.86    | 7 | 0.00 |   14.1694 | NA |\n",
       "\n"
      ],
      "text/plain": [
       "  row_id order_id       order_date ship_date  ship_mode      customer_id\n",
       "1 1      CA-2016-152156 11/8/2016  11/11/2016 Second Class   CG-12520   \n",
       "2 2      CA-2016-152156 11/8/2016  11/11/2016 Second Class   CG-12520   \n",
       "3 3      CA-2016-138688 6/12/2016  6/16/2016  Second Class   DV-13045   \n",
       "4 4      US-2015-108966 10/11/2015 10/18/2015 Standard Class SO-20335   \n",
       "5 5      US-2015-108966 10/11/2015 10/18/2015 Standard Class SO-20335   \n",
       "6 6      CA-2014-115812 6/9/2014   6/14/2014  Standard Class BH-11710   \n",
       "  customer_name   segment   country       city            ⋯ region\n",
       "1 Claire Gute     Consumer  United States Henderson       ⋯ South \n",
       "2 Claire Gute     Consumer  United States Henderson       ⋯ South \n",
       "3 Darrin Van Huff Corporate United States Los Angeles     ⋯ West  \n",
       "4 Sean O'Donnell  Consumer  United States Fort Lauderdale ⋯ South \n",
       "5 Sean O'Donnell  Consumer  United States Fort Lauderdale ⋯ South \n",
       "6 Brosina Hoffman Consumer  United States Los Angeles     ⋯ West  \n",
       "  product_id      category        sub_category\n",
       "1 FUR-BO-10001798 Furniture       Bookcases   \n",
       "2 FUR-CH-10000454 Furniture       Chairs      \n",
       "3 OFF-LA-10000240 Office Supplies Labels      \n",
       "4 FUR-TA-10000577 Furniture       Tables      \n",
       "5 OFF-ST-10000760 Office Supplies Storage     \n",
       "6 FUR-FU-10001487 Furniture       Furnishings \n",
       "  product_name                                                     sales   \n",
       "1 Bush Somerset Collection Bookcase                                261.96  \n",
       "2 Hon Deluxe Fabric Upholstered Stacking Chairs, Rounded Back      731.94  \n",
       "3 Self-Adhesive Address Labels for Typewriters by Universal        14.62   \n",
       "4 Bretford CR4500 Series Slim Rectangular Table                    957.5775\n",
       "5 Eldon Fold 'N Roll Cart System                                   22.368  \n",
       "6 Eldon Expressions Wood and Plastic Desk Accessories, Cherry Wood 48.86   \n",
       "  quantity discount profit    X \n",
       "1 2        0.00       41.9136 NA\n",
       "2 3        0.00      219.5820 NA\n",
       "3 2        0.00        6.8714 NA\n",
       "4 5        0.45     -383.0310 NA\n",
       "5 2        0.20        2.5164 NA\n",
       "6 7        0.00       14.1694 NA"
      ]
     },
     "metadata": {},
     "output_type": "display_data"
    },
    {
     "data": {
      "text/html": [
       "<table class=\"dataframe\">\n",
       "<caption>A data.frame: 6 × 22</caption>\n",
       "<thead>\n",
       "\t<tr><th></th><th scope=col>row_id</th><th scope=col>order_id</th><th scope=col>order_date</th><th scope=col>ship_date</th><th scope=col>ship_mode</th><th scope=col>customer_id</th><th scope=col>customer_name</th><th scope=col>segment</th><th scope=col>country</th><th scope=col>city</th><th scope=col>⋯</th><th scope=col>region</th><th scope=col>product_id</th><th scope=col>category</th><th scope=col>sub_category</th><th scope=col>product_name</th><th scope=col>sales</th><th scope=col>quantity</th><th scope=col>discount</th><th scope=col>profit</th><th scope=col>X</th></tr>\n",
       "\t<tr><th></th><th scope=col>&lt;int&gt;</th><th scope=col>&lt;chr&gt;</th><th scope=col>&lt;chr&gt;</th><th scope=col>&lt;chr&gt;</th><th scope=col>&lt;chr&gt;</th><th scope=col>&lt;chr&gt;</th><th scope=col>&lt;chr&gt;</th><th scope=col>&lt;chr&gt;</th><th scope=col>&lt;chr&gt;</th><th scope=col>&lt;chr&gt;</th><th scope=col>⋯</th><th scope=col>&lt;chr&gt;</th><th scope=col>&lt;chr&gt;</th><th scope=col>&lt;chr&gt;</th><th scope=col>&lt;chr&gt;</th><th scope=col>&lt;chr&gt;</th><th scope=col>&lt;chr&gt;</th><th scope=col>&lt;dbl&gt;</th><th scope=col>&lt;dbl&gt;</th><th scope=col>&lt;dbl&gt;</th><th scope=col>&lt;dbl&gt;</th></tr>\n",
       "</thead>\n",
       "<tbody>\n",
       "\t<tr><th scope=row>9989</th><td>9989</td><td>CA-2017-163629</td><td>11/17/2017</td><td>11/21/2017</td><td>Standard Class</td><td>RA-19885</td><td>Ruben Ausman    </td><td>Corporate</td><td>United States</td><td>Athens     </td><td>⋯</td><td>South</td><td>TEC-PH-10004006</td><td>Technology     </td><td>Phones     </td><td>Panasonic KX - TS880B Telephone                                          </td><td>206.1  </td><td>5</td><td>0.0</td><td>55.6470</td><td>NA</td></tr>\n",
       "\t<tr><th scope=row>9990</th><td>9990</td><td>CA-2014-110422</td><td>1/21/2014 </td><td>1/23/2014 </td><td>Second Class  </td><td>TB-21400</td><td>Tom Boeckenhauer</td><td>Consumer </td><td>United States</td><td>Miami      </td><td>⋯</td><td>South</td><td>FUR-FU-10001889</td><td>Furniture      </td><td>Furnishings</td><td>Ultra Door Pull Handle                                                   </td><td>25.248 </td><td>3</td><td>0.2</td><td> 4.1028</td><td>NA</td></tr>\n",
       "\t<tr><th scope=row>9991</th><td>9991</td><td>CA-2017-121258</td><td>2/26/2017 </td><td>3/3/2017  </td><td>Standard Class</td><td>DB-13060</td><td>Dave Brooks     </td><td>Consumer </td><td>United States</td><td>Costa Mesa </td><td>⋯</td><td>West </td><td>FUR-FU-10000747</td><td>Furniture      </td><td>Furnishings</td><td>Tenex B1-RE Series Chair Mats for Low Pile Carpets                       </td><td>91.96  </td><td>2</td><td>0.0</td><td>15.6332</td><td>NA</td></tr>\n",
       "\t<tr><th scope=row>9992</th><td>9992</td><td>CA-2017-121258</td><td>2/26/2017 </td><td>3/3/2017  </td><td>Standard Class</td><td>DB-13060</td><td>Dave Brooks     </td><td>Consumer </td><td>United States</td><td>Costa Mesa </td><td>⋯</td><td>West </td><td>TEC-PH-10003645</td><td>Technology     </td><td>Phones     </td><td>Aastra 57i VoIP phone                                                    </td><td>258.576</td><td>2</td><td>0.2</td><td>19.3932</td><td>NA</td></tr>\n",
       "\t<tr><th scope=row>9993</th><td>9993</td><td>CA-2017-121258</td><td>2/26/2017 </td><td>3/3/2017  </td><td>Standard Class</td><td>DB-13060</td><td>Dave Brooks     </td><td>Consumer </td><td>United States</td><td>Costa Mesa </td><td>⋯</td><td>West </td><td>OFF-PA-10004041</td><td>Office Supplies</td><td>Paper      </td><td>It's Hot Message Books with Stickers, 2 3/4\" x 5\"                        </td><td>29.6   </td><td>4</td><td>0.0</td><td>13.3200</td><td>NA</td></tr>\n",
       "\t<tr><th scope=row>9994</th><td>9994</td><td>CA-2017-119914</td><td>5/4/2017  </td><td>5/9/2017  </td><td>Second Class  </td><td>CC-12220</td><td>Chris Cortes    </td><td>Consumer </td><td>United States</td><td>Westminster</td><td>⋯</td><td>West </td><td>OFF-AP-10002684</td><td>Office Supplies</td><td>Appliances </td><td>Acco 7-Outlet Masterpiece Power Center, Wihtout Fax/Phone Line Protection</td><td>243.16 </td><td>2</td><td>0.0</td><td>72.9480</td><td>NA</td></tr>\n",
       "</tbody>\n",
       "</table>\n"
      ],
      "text/latex": [
       "A data.frame: 6 × 22\n",
       "\\begin{tabular}{r|lllllllllllllllllllll}\n",
       "  & row\\_id & order\\_id & order\\_date & ship\\_date & ship\\_mode & customer\\_id & customer\\_name & segment & country & city & ⋯ & region & product\\_id & category & sub\\_category & product\\_name & sales & quantity & discount & profit & X\\\\\n",
       "  & <int> & <chr> & <chr> & <chr> & <chr> & <chr> & <chr> & <chr> & <chr> & <chr> & ⋯ & <chr> & <chr> & <chr> & <chr> & <chr> & <chr> & <dbl> & <dbl> & <dbl> & <dbl>\\\\\n",
       "\\hline\n",
       "\t9989 & 9989 & CA-2017-163629 & 11/17/2017 & 11/21/2017 & Standard Class & RA-19885 & Ruben Ausman     & Corporate & United States & Athens      & ⋯ & South & TEC-PH-10004006 & Technology      & Phones      & Panasonic KX - TS880B Telephone                                           & 206.1   & 5 & 0.0 & 55.6470 & NA\\\\\n",
       "\t9990 & 9990 & CA-2014-110422 & 1/21/2014  & 1/23/2014  & Second Class   & TB-21400 & Tom Boeckenhauer & Consumer  & United States & Miami       & ⋯ & South & FUR-FU-10001889 & Furniture       & Furnishings & Ultra Door Pull Handle                                                    & 25.248  & 3 & 0.2 &  4.1028 & NA\\\\\n",
       "\t9991 & 9991 & CA-2017-121258 & 2/26/2017  & 3/3/2017   & Standard Class & DB-13060 & Dave Brooks      & Consumer  & United States & Costa Mesa  & ⋯ & West  & FUR-FU-10000747 & Furniture       & Furnishings & Tenex B1-RE Series Chair Mats for Low Pile Carpets                        & 91.96   & 2 & 0.0 & 15.6332 & NA\\\\\n",
       "\t9992 & 9992 & CA-2017-121258 & 2/26/2017  & 3/3/2017   & Standard Class & DB-13060 & Dave Brooks      & Consumer  & United States & Costa Mesa  & ⋯ & West  & TEC-PH-10003645 & Technology      & Phones      & Aastra 57i VoIP phone                                                     & 258.576 & 2 & 0.2 & 19.3932 & NA\\\\\n",
       "\t9993 & 9993 & CA-2017-121258 & 2/26/2017  & 3/3/2017   & Standard Class & DB-13060 & Dave Brooks      & Consumer  & United States & Costa Mesa  & ⋯ & West  & OFF-PA-10004041 & Office Supplies & Paper       & It's Hot Message Books with Stickers, 2 3/4\" x 5\"                         & 29.6    & 4 & 0.0 & 13.3200 & NA\\\\\n",
       "\t9994 & 9994 & CA-2017-119914 & 5/4/2017   & 5/9/2017   & Second Class   & CC-12220 & Chris Cortes     & Consumer  & United States & Westminster & ⋯ & West  & OFF-AP-10002684 & Office Supplies & Appliances  & Acco 7-Outlet Masterpiece Power Center, Wihtout Fax/Phone Line Protection & 243.16  & 2 & 0.0 & 72.9480 & NA\\\\\n",
       "\\end{tabular}\n"
      ],
      "text/markdown": [
       "\n",
       "A data.frame: 6 × 22\n",
       "\n",
       "| <!--/--> | row_id &lt;int&gt; | order_id &lt;chr&gt; | order_date &lt;chr&gt; | ship_date &lt;chr&gt; | ship_mode &lt;chr&gt; | customer_id &lt;chr&gt; | customer_name &lt;chr&gt; | segment &lt;chr&gt; | country &lt;chr&gt; | city &lt;chr&gt; | ⋯ ⋯ | region &lt;chr&gt; | product_id &lt;chr&gt; | category &lt;chr&gt; | sub_category &lt;chr&gt; | product_name &lt;chr&gt; | sales &lt;chr&gt; | quantity &lt;dbl&gt; | discount &lt;dbl&gt; | profit &lt;dbl&gt; | X &lt;dbl&gt; |\n",
       "|---|---|---|---|---|---|---|---|---|---|---|---|---|---|---|---|---|---|---|---|---|---|\n",
       "| 9989 | 9989 | CA-2017-163629 | 11/17/2017 | 11/21/2017 | Standard Class | RA-19885 | Ruben Ausman     | Corporate | United States | Athens      | ⋯ | South | TEC-PH-10004006 | Technology      | Phones      | Panasonic KX - TS880B Telephone                                           | 206.1   | 5 | 0.0 | 55.6470 | NA |\n",
       "| 9990 | 9990 | CA-2014-110422 | 1/21/2014  | 1/23/2014  | Second Class   | TB-21400 | Tom Boeckenhauer | Consumer  | United States | Miami       | ⋯ | South | FUR-FU-10001889 | Furniture       | Furnishings | Ultra Door Pull Handle                                                    | 25.248  | 3 | 0.2 |  4.1028 | NA |\n",
       "| 9991 | 9991 | CA-2017-121258 | 2/26/2017  | 3/3/2017   | Standard Class | DB-13060 | Dave Brooks      | Consumer  | United States | Costa Mesa  | ⋯ | West  | FUR-FU-10000747 | Furniture       | Furnishings | Tenex B1-RE Series Chair Mats for Low Pile Carpets                        | 91.96   | 2 | 0.0 | 15.6332 | NA |\n",
       "| 9992 | 9992 | CA-2017-121258 | 2/26/2017  | 3/3/2017   | Standard Class | DB-13060 | Dave Brooks      | Consumer  | United States | Costa Mesa  | ⋯ | West  | TEC-PH-10003645 | Technology      | Phones      | Aastra 57i VoIP phone                                                     | 258.576 | 2 | 0.2 | 19.3932 | NA |\n",
       "| 9993 | 9993 | CA-2017-121258 | 2/26/2017  | 3/3/2017   | Standard Class | DB-13060 | Dave Brooks      | Consumer  | United States | Costa Mesa  | ⋯ | West  | OFF-PA-10004041 | Office Supplies | Paper       | It's Hot Message Books with Stickers, 2 3/4\" x 5\"                         | 29.6    | 4 | 0.0 | 13.3200 | NA |\n",
       "| 9994 | 9994 | CA-2017-119914 | 5/4/2017   | 5/9/2017   | Second Class   | CC-12220 | Chris Cortes     | Consumer  | United States | Westminster | ⋯ | West  | OFF-AP-10002684 | Office Supplies | Appliances  | Acco 7-Outlet Masterpiece Power Center, Wihtout Fax/Phone Line Protection | 243.16  | 2 | 0.0 | 72.9480 | NA |\n",
       "\n"
      ],
      "text/plain": [
       "     row_id order_id       order_date ship_date  ship_mode      customer_id\n",
       "9989 9989   CA-2017-163629 11/17/2017 11/21/2017 Standard Class RA-19885   \n",
       "9990 9990   CA-2014-110422 1/21/2014  1/23/2014  Second Class   TB-21400   \n",
       "9991 9991   CA-2017-121258 2/26/2017  3/3/2017   Standard Class DB-13060   \n",
       "9992 9992   CA-2017-121258 2/26/2017  3/3/2017   Standard Class DB-13060   \n",
       "9993 9993   CA-2017-121258 2/26/2017  3/3/2017   Standard Class DB-13060   \n",
       "9994 9994   CA-2017-119914 5/4/2017   5/9/2017   Second Class   CC-12220   \n",
       "     customer_name    segment   country       city        ⋯ region\n",
       "9989 Ruben Ausman     Corporate United States Athens      ⋯ South \n",
       "9990 Tom Boeckenhauer Consumer  United States Miami       ⋯ South \n",
       "9991 Dave Brooks      Consumer  United States Costa Mesa  ⋯ West  \n",
       "9992 Dave Brooks      Consumer  United States Costa Mesa  ⋯ West  \n",
       "9993 Dave Brooks      Consumer  United States Costa Mesa  ⋯ West  \n",
       "9994 Chris Cortes     Consumer  United States Westminster ⋯ West  \n",
       "     product_id      category        sub_category\n",
       "9989 TEC-PH-10004006 Technology      Phones      \n",
       "9990 FUR-FU-10001889 Furniture       Furnishings \n",
       "9991 FUR-FU-10000747 Furniture       Furnishings \n",
       "9992 TEC-PH-10003645 Technology      Phones      \n",
       "9993 OFF-PA-10004041 Office Supplies Paper       \n",
       "9994 OFF-AP-10002684 Office Supplies Appliances  \n",
       "     product_name                                                             \n",
       "9989 Panasonic KX - TS880B Telephone                                          \n",
       "9990 Ultra Door Pull Handle                                                   \n",
       "9991 Tenex B1-RE Series Chair Mats for Low Pile Carpets                       \n",
       "9992 Aastra 57i VoIP phone                                                    \n",
       "9993 It's Hot Message Books with Stickers, 2 3/4\" x 5\"                        \n",
       "9994 Acco 7-Outlet Masterpiece Power Center, Wihtout Fax/Phone Line Protection\n",
       "     sales   quantity discount profit  X \n",
       "9989 206.1   5        0.0      55.6470 NA\n",
       "9990 25.248  3        0.2       4.1028 NA\n",
       "9991 91.96   2        0.0      15.6332 NA\n",
       "9992 258.576 2        0.2      19.3932 NA\n",
       "9993 29.6    4        0.0      13.3200 NA\n",
       "9994 243.16  2        0.0      72.9480 NA"
      ]
     },
     "metadata": {},
     "output_type": "display_data"
    }
   ],
   "source": [
    "# see some trailer \n",
    "head(x)\n",
    "tail(x)"
   ]
  },
  {
   "cell_type": "code",
   "execution_count": 6,
   "id": "40567189-d273-4e26-8774-2012a342afe2",
   "metadata": {},
   "outputs": [
    {
     "data": {
      "text/html": [
       "<table class=\"dataframe\">\n",
       "<caption>A data.frame: 9994 × 22</caption>\n",
       "<thead>\n",
       "\t<tr><th scope=col>row_id</th><th scope=col>order_id</th><th scope=col>order_date</th><th scope=col>ship_date</th><th scope=col>ship_mode</th><th scope=col>customer_id</th><th scope=col>customer_name</th><th scope=col>segment</th><th scope=col>country</th><th scope=col>city</th><th scope=col>⋯</th><th scope=col>region</th><th scope=col>product_id</th><th scope=col>category</th><th scope=col>sub_category</th><th scope=col>product_name</th><th scope=col>sales</th><th scope=col>quantity</th><th scope=col>discount</th><th scope=col>profit</th><th scope=col>X</th></tr>\n",
       "\t<tr><th scope=col>&lt;int&gt;</th><th scope=col>&lt;chr&gt;</th><th scope=col>&lt;chr&gt;</th><th scope=col>&lt;chr&gt;</th><th scope=col>&lt;chr&gt;</th><th scope=col>&lt;chr&gt;</th><th scope=col>&lt;chr&gt;</th><th scope=col>&lt;chr&gt;</th><th scope=col>&lt;chr&gt;</th><th scope=col>&lt;chr&gt;</th><th scope=col>⋯</th><th scope=col>&lt;chr&gt;</th><th scope=col>&lt;chr&gt;</th><th scope=col>&lt;chr&gt;</th><th scope=col>&lt;chr&gt;</th><th scope=col>&lt;chr&gt;</th><th scope=col>&lt;chr&gt;</th><th scope=col>&lt;dbl&gt;</th><th scope=col>&lt;dbl&gt;</th><th scope=col>&lt;dbl&gt;</th><th scope=col>&lt;dbl&gt;</th></tr>\n",
       "</thead>\n",
       "<tbody>\n",
       "\t<tr><td> 1</td><td>CA-2016-152156</td><td>11/8/2016 </td><td>11/11/2016</td><td>Second Class  </td><td>CG-12520</td><td>Claire Gute       </td><td>Consumer   </td><td>United States</td><td>Henderson      </td><td>⋯</td><td>South  </td><td>FUR-BO-10001798</td><td>Furniture      </td><td>Bookcases  </td><td>Bush Somerset Collection Bookcase                                           </td><td>261.96  </td><td>2</td><td>0.00</td><td>   41.9136</td><td>NA</td></tr>\n",
       "\t<tr><td> 2</td><td>CA-2016-152156</td><td>11/8/2016 </td><td>11/11/2016</td><td>Second Class  </td><td>CG-12520</td><td>Claire Gute       </td><td>Consumer   </td><td>United States</td><td>Henderson      </td><td>⋯</td><td>South  </td><td>FUR-CH-10000454</td><td>Furniture      </td><td>Chairs     </td><td>Hon Deluxe Fabric Upholstered Stacking Chairs, Rounded Back                 </td><td>731.94  </td><td>3</td><td>0.00</td><td>  219.5820</td><td>NA</td></tr>\n",
       "\t<tr><td> 3</td><td>CA-2016-138688</td><td>6/12/2016 </td><td>6/16/2016 </td><td>Second Class  </td><td>DV-13045</td><td>Darrin Van Huff   </td><td>Corporate  </td><td>United States</td><td>Los Angeles    </td><td>⋯</td><td>West   </td><td>OFF-LA-10000240</td><td>Office Supplies</td><td>Labels     </td><td>Self-Adhesive Address Labels for Typewriters by Universal                   </td><td>14.62   </td><td>2</td><td>0.00</td><td>    6.8714</td><td>NA</td></tr>\n",
       "\t<tr><td> 4</td><td>US-2015-108966</td><td>10/11/2015</td><td>10/18/2015</td><td>Standard Class</td><td>SO-20335</td><td>Sean O'Donnell    </td><td>Consumer   </td><td>United States</td><td>Fort Lauderdale</td><td>⋯</td><td>South  </td><td>FUR-TA-10000577</td><td>Furniture      </td><td>Tables     </td><td>Bretford CR4500 Series Slim Rectangular Table                               </td><td>957.5775</td><td>5</td><td>0.45</td><td> -383.0310</td><td>NA</td></tr>\n",
       "\t<tr><td> 5</td><td>US-2015-108966</td><td>10/11/2015</td><td>10/18/2015</td><td>Standard Class</td><td>SO-20335</td><td>Sean O'Donnell    </td><td>Consumer   </td><td>United States</td><td>Fort Lauderdale</td><td>⋯</td><td>South  </td><td>OFF-ST-10000760</td><td>Office Supplies</td><td>Storage    </td><td>Eldon Fold 'N Roll Cart System                                              </td><td>22.368  </td><td>2</td><td>0.20</td><td>    2.5164</td><td>NA</td></tr>\n",
       "\t<tr><td> 6</td><td>CA-2014-115812</td><td>6/9/2014  </td><td>6/14/2014 </td><td>Standard Class</td><td>BH-11710</td><td>Brosina Hoffman   </td><td>Consumer   </td><td>United States</td><td>Los Angeles    </td><td>⋯</td><td>West   </td><td>FUR-FU-10001487</td><td>Furniture      </td><td>Furnishings</td><td>Eldon Expressions Wood and Plastic Desk Accessories, Cherry Wood            </td><td>48.86   </td><td>7</td><td>0.00</td><td>   14.1694</td><td>NA</td></tr>\n",
       "\t<tr><td> 7</td><td>CA-2014-115812</td><td>6/9/2014  </td><td>6/14/2014 </td><td>Standard Class</td><td>BH-11710</td><td>Brosina Hoffman   </td><td>Consumer   </td><td>United States</td><td>Los Angeles    </td><td>⋯</td><td>West   </td><td>OFF-AR-10002833</td><td>Office Supplies</td><td>Art        </td><td>Newell 322                                                                  </td><td>7.28    </td><td>4</td><td>0.00</td><td>    1.9656</td><td>NA</td></tr>\n",
       "\t<tr><td> 8</td><td>CA-2014-115812</td><td>6/9/2014  </td><td>6/14/2014 </td><td>Standard Class</td><td>BH-11710</td><td>Brosina Hoffman   </td><td>Consumer   </td><td>United States</td><td>Los Angeles    </td><td>⋯</td><td>West   </td><td>TEC-PH-10002275</td><td>Technology     </td><td>Phones     </td><td>Mitel 5320 IP Phone VoIP phone                                              </td><td>907.152 </td><td>6</td><td>0.20</td><td>   90.7152</td><td>NA</td></tr>\n",
       "\t<tr><td> 9</td><td>CA-2014-115812</td><td>6/9/2014  </td><td>6/14/2014 </td><td>Standard Class</td><td>BH-11710</td><td>Brosina Hoffman   </td><td>Consumer   </td><td>United States</td><td>Los Angeles    </td><td>⋯</td><td>West   </td><td>OFF-BI-10003910</td><td>Office Supplies</td><td>Binders    </td><td>DXL Angle-View Binders with Locking Rings by Samsill                        </td><td>18.504  </td><td>3</td><td>0.20</td><td>    5.7825</td><td>NA</td></tr>\n",
       "\t<tr><td>10</td><td>CA-2014-115812</td><td>6/9/2014  </td><td>6/14/2014 </td><td>Standard Class</td><td>BH-11710</td><td>Brosina Hoffman   </td><td>Consumer   </td><td>United States</td><td>Los Angeles    </td><td>⋯</td><td>West   </td><td>OFF-AP-10002892</td><td>Office Supplies</td><td>Appliances </td><td>Belkin F5C206VTEL 6 Outlet Surge                                            </td><td>114.9   </td><td>5</td><td>0.00</td><td>   34.4700</td><td>NA</td></tr>\n",
       "\t<tr><td>11</td><td>CA-2014-115812</td><td>6/9/2014  </td><td>6/14/2014 </td><td>Standard Class</td><td>BH-11710</td><td>Brosina Hoffman   </td><td>Consumer   </td><td>United States</td><td>Los Angeles    </td><td>⋯</td><td>West   </td><td>FUR-TA-10001539</td><td>Furniture      </td><td>Tables     </td><td>Chromcraft Rectangular Conference Tables                                    </td><td>1706.184</td><td>9</td><td>0.20</td><td>   85.3092</td><td>NA</td></tr>\n",
       "\t<tr><td>12</td><td>CA-2014-115812</td><td>6/9/2014  </td><td>6/14/2014 </td><td>Standard Class</td><td>BH-11710</td><td>Brosina Hoffman   </td><td>Consumer   </td><td>United States</td><td>Los Angeles    </td><td>⋯</td><td>West   </td><td>TEC-PH-10002033</td><td>Technology     </td><td>Phones     </td><td>Konftel 250 Conference�phone�- Charcoal black                               </td><td>911.424 </td><td>4</td><td>0.20</td><td>   68.3568</td><td>NA</td></tr>\n",
       "\t<tr><td>13</td><td>CA-2017-114412</td><td>4/15/2017 </td><td>4/20/2017 </td><td>Standard Class</td><td>AA-10480</td><td>Andrew Allen      </td><td>Consumer   </td><td>United States</td><td>Concord        </td><td>⋯</td><td>South  </td><td>OFF-PA-10002365</td><td>Office Supplies</td><td>Paper      </td><td>Xerox 1967                                                                  </td><td>15.552  </td><td>3</td><td>0.20</td><td>    5.4432</td><td>NA</td></tr>\n",
       "\t<tr><td>14</td><td>CA-2016-161389</td><td>12/5/2016 </td><td>12/10/2016</td><td>Standard Class</td><td>IM-15070</td><td>Irene Maddox      </td><td>Consumer   </td><td>United States</td><td>Seattle        </td><td>⋯</td><td>West   </td><td>OFF-BI-10003656</td><td>Office Supplies</td><td>Binders    </td><td>Fellowes PB200 Plastic Comb Binding Machine                                 </td><td>407.976 </td><td>3</td><td>0.20</td><td>  132.5922</td><td>NA</td></tr>\n",
       "\t<tr><td>15</td><td>US-2015-118983</td><td>11/22/2015</td><td>11/26/2015</td><td>Standard Class</td><td>HP-14815</td><td>Harold Pawlan     </td><td>Home Office</td><td>United States</td><td>Fort Worth     </td><td>⋯</td><td>Central</td><td>OFF-AP-10002311</td><td>Office Supplies</td><td>Appliances </td><td>Holmes Replacement Filter for HEPA Air Cleaner, Very Large Room, HEPA Filter</td><td>68.81   </td><td>5</td><td>0.80</td><td> -123.8580</td><td>NA</td></tr>\n",
       "\t<tr><td>16</td><td>US-2015-118983</td><td>11/22/2015</td><td>11/26/2015</td><td>Standard Class</td><td>HP-14815</td><td>Harold Pawlan     </td><td>Home Office</td><td>United States</td><td>Fort Worth     </td><td>⋯</td><td>Central</td><td>OFF-BI-10000756</td><td>Office Supplies</td><td>Binders    </td><td>Storex DuraTech Recycled Plastic Frosted Binders                            </td><td>2.544   </td><td>3</td><td>0.80</td><td>   -3.8160</td><td>NA</td></tr>\n",
       "\t<tr><td>17</td><td>CA-2014-105893</td><td>11/11/2014</td><td>11/18/2014</td><td>Standard Class</td><td>PK-19075</td><td>Pete Kriz         </td><td>Consumer   </td><td>United States</td><td>Madison        </td><td>⋯</td><td>Central</td><td>OFF-ST-10004186</td><td>Office Supplies</td><td>Storage    </td><td>Stur-D-Stor Shelving, Vertical 5-Shelf: 72\"H x 36\"W x 18 1/2\"D              </td><td>665.88  </td><td>6</td><td>0.00</td><td>   13.3176</td><td>NA</td></tr>\n",
       "\t<tr><td>18</td><td>CA-2014-167164</td><td>5/13/2014 </td><td>5/15/2014 </td><td>Second Class  </td><td>AG-10270</td><td>Alejandro Grove   </td><td>Consumer   </td><td>United States</td><td>West Jordan    </td><td>⋯</td><td>West   </td><td>OFF-ST-10000107</td><td>Office Supplies</td><td>Storage    </td><td>Fellowes Super Stor/Drawer                                                  </td><td>55.5    </td><td>2</td><td>0.00</td><td>    9.9900</td><td>NA</td></tr>\n",
       "\t<tr><td>19</td><td>CA-2014-143336</td><td>8/27/2014 </td><td>9/1/2014  </td><td>Second Class  </td><td>ZD-21925</td><td>Zuschuss Donatelli</td><td>Consumer   </td><td>United States</td><td>San Francisco  </td><td>⋯</td><td>West   </td><td>OFF-AR-10003056</td><td>Office Supplies</td><td>Art        </td><td>Newell 341                                                                  </td><td>8.56    </td><td>2</td><td>0.00</td><td>    2.4824</td><td>NA</td></tr>\n",
       "\t<tr><td>20</td><td>CA-2014-143336</td><td>8/27/2014 </td><td>9/1/2014  </td><td>Second Class  </td><td>ZD-21925</td><td>Zuschuss Donatelli</td><td>Consumer   </td><td>United States</td><td>San Francisco  </td><td>⋯</td><td>West   </td><td>TEC-PH-10001949</td><td>Technology     </td><td>Phones     </td><td>Cisco SPA 501G IP Phone                                                     </td><td>213.48  </td><td>3</td><td>0.20</td><td>   16.0110</td><td>NA</td></tr>\n",
       "\t<tr><td>21</td><td>CA-2014-143336</td><td>8/27/2014 </td><td>9/1/2014  </td><td>Second Class  </td><td>ZD-21925</td><td>Zuschuss Donatelli</td><td>Consumer   </td><td>United States</td><td>San Francisco  </td><td>⋯</td><td>West   </td><td>OFF-BI-10002215</td><td>Office Supplies</td><td>Binders    </td><td>Wilson Jones Hanging View Binder, White, 1\"                                 </td><td>22.72   </td><td>4</td><td>0.20</td><td>    7.3840</td><td>NA</td></tr>\n",
       "\t<tr><td>22</td><td>CA-2016-137330</td><td>12/9/2016 </td><td>12/13/2016</td><td>Standard Class</td><td>KB-16585</td><td>Ken Black         </td><td>Corporate  </td><td>United States</td><td>Fremont        </td><td>⋯</td><td>Central</td><td>OFF-AR-10000246</td><td>Office Supplies</td><td>Art        </td><td>Newell 318                                                                  </td><td>19.46   </td><td>7</td><td>0.00</td><td>    5.0596</td><td>NA</td></tr>\n",
       "\t<tr><td>23</td><td>CA-2016-137330</td><td>12/9/2016 </td><td>12/13/2016</td><td>Standard Class</td><td>KB-16585</td><td>Ken Black         </td><td>Corporate  </td><td>United States</td><td>Fremont        </td><td>⋯</td><td>Central</td><td>OFF-AP-10001492</td><td>Office Supplies</td><td>Appliances </td><td>Acco Six-Outlet Power Strip, 4' Cord Length                                 </td><td>60.34   </td><td>7</td><td>0.00</td><td>   15.6884</td><td>NA</td></tr>\n",
       "\t<tr><td>24</td><td>US-2017-156909</td><td>7/16/2017 </td><td>7/18/2017 </td><td>Second Class  </td><td>SF-20065</td><td>Sandra Flanagan   </td><td>Consumer   </td><td>United States</td><td>Philadelphia   </td><td>⋯</td><td>East   </td><td>FUR-CH-10002774</td><td>Furniture      </td><td>Chairs     </td><td>Global Deluxe Stacking Chair, Gray                                          </td><td>71.372  </td><td>2</td><td>0.30</td><td>   -1.0196</td><td>NA</td></tr>\n",
       "\t<tr><td>25</td><td>CA-2015-106320</td><td>9/25/2015 </td><td>9/30/2015 </td><td>Standard Class</td><td>EB-13870</td><td>Emily Burns       </td><td>Consumer   </td><td>United States</td><td>Orem           </td><td>⋯</td><td>West   </td><td>FUR-TA-10000577</td><td>Furniture      </td><td>Tables     </td><td>Bretford CR4500 Series Slim Rectangular Table                               </td><td>1044.63 </td><td>3</td><td>0.00</td><td>  240.2649</td><td>NA</td></tr>\n",
       "\t<tr><td>26</td><td>CA-2016-121755</td><td>1/16/2016 </td><td>1/20/2016 </td><td>Second Class  </td><td>EH-13945</td><td>Eric Hoffmann     </td><td>Consumer   </td><td>United States</td><td>Los Angeles    </td><td>⋯</td><td>West   </td><td>OFF-BI-10001634</td><td>Office Supplies</td><td>Binders    </td><td>Wilson Jones Active Use Binders                                             </td><td>11.648  </td><td>2</td><td>0.20</td><td>    4.2224</td><td>NA</td></tr>\n",
       "\t<tr><td>27</td><td>CA-2016-121755</td><td>1/16/2016 </td><td>1/20/2016 </td><td>Second Class  </td><td>EH-13945</td><td>Eric Hoffmann     </td><td>Consumer   </td><td>United States</td><td>Los Angeles    </td><td>⋯</td><td>West   </td><td>TEC-AC-10003027</td><td>Technology     </td><td>Accessories</td><td>Imation�8GB Mini TravelDrive USB 2.0�Flash Drive                            </td><td>90.57   </td><td>3</td><td>0.00</td><td>   11.7741</td><td>NA</td></tr>\n",
       "\t<tr><td>28</td><td>US-2015-150630</td><td>9/17/2015 </td><td>9/21/2015 </td><td>Standard Class</td><td>TB-21520</td><td>Tracy Blumstein   </td><td>Consumer   </td><td>United States</td><td>Philadelphia   </td><td>⋯</td><td>East   </td><td>FUR-BO-10004834</td><td>Furniture      </td><td>Bookcases  </td><td>Riverside Palais Royal Lawyers Bookcase, Royale Cherry Finish               </td><td>3083.43 </td><td>7</td><td>0.50</td><td>-1665.0522</td><td>NA</td></tr>\n",
       "\t<tr><td>29</td><td>US-2015-150630</td><td>9/17/2015 </td><td>9/21/2015 </td><td>Standard Class</td><td>TB-21520</td><td>Tracy Blumstein   </td><td>Consumer   </td><td>United States</td><td>Philadelphia   </td><td>⋯</td><td>East   </td><td>OFF-BI-10000474</td><td>Office Supplies</td><td>Binders    </td><td>Avery Recycled Flexi-View Covers for Binding Systems                        </td><td>9.618   </td><td>2</td><td>0.70</td><td>   -7.0532</td><td>NA</td></tr>\n",
       "\t<tr><td>30</td><td>US-2015-150630</td><td>9/17/2015 </td><td>9/21/2015 </td><td>Standard Class</td><td>TB-21520</td><td>Tracy Blumstein   </td><td>Consumer   </td><td>United States</td><td>Philadelphia   </td><td>⋯</td><td>East   </td><td>FUR-FU-10004848</td><td>Furniture      </td><td>Furnishings</td><td>Howard Miller 13-3/4\" Diameter Brushed Chrome Round Wall Clock              </td><td>124.2   </td><td>3</td><td>0.20</td><td>   15.5250</td><td>NA</td></tr>\n",
       "\t<tr><td>⋮</td><td>⋮</td><td>⋮</td><td>⋮</td><td>⋮</td><td>⋮</td><td>⋮</td><td>⋮</td><td>⋮</td><td>⋮</td><td>⋱</td><td>⋮</td><td>⋮</td><td>⋮</td><td>⋮</td><td>⋮</td><td>⋮</td><td>⋮</td><td>⋮</td><td>⋮</td><td>⋮</td></tr>\n",
       "\t<tr><td>9965</td><td>CA-2016-146374</td><td>12/5/2016 </td><td>12/10/2016</td><td>Second Class  </td><td>HE-14800</td><td>Harold Engle    </td><td>Corporate  </td><td>United States</td><td>Newark      </td><td>⋯</td><td>East   </td><td>FUR-FU-10002671</td><td>Furniture      </td><td>Furnishings</td><td>Electrix 20W Halogen Replacement Bulb for Zoom-In Desk Lamp                      </td><td>13.4   </td><td> 1</td><td>0.0</td><td>  6.4320</td><td>NA</td></tr>\n",
       "\t<tr><td>9966</td><td>CA-2016-146374</td><td>12/5/2016 </td><td>12/10/2016</td><td>Second Class  </td><td>HE-14800</td><td>Harold Engle    </td><td>Corporate  </td><td>United States</td><td>Newark      </td><td>⋯</td><td>East   </td><td>OFF-PA-10000349</td><td>Office Supplies</td><td>Paper      </td><td>Easy-staple paper                                                                </td><td>4.98   </td><td> 1</td><td>0.0</td><td>  2.3406</td><td>NA</td></tr>\n",
       "\t<tr><td>9967</td><td>CA-2016-146374</td><td>12/5/2016 </td><td>12/10/2016</td><td>Second Class  </td><td>HE-14800</td><td>Harold Engle    </td><td>Corporate  </td><td>United States</td><td>Newark      </td><td>⋯</td><td>East   </td><td>OFF-EN-10004483</td><td>Office Supplies</td><td>Envelopes  </td><td>#10 White Business Envelopes,4 1/8 x 9 1/2                                       </td><td>109.69 </td><td> 7</td><td>0.0</td><td> 51.5543</td><td>NA</td></tr>\n",
       "\t<tr><td>9968</td><td>CA-2017-153871</td><td>12/11/2017</td><td>12/17/2017</td><td>Standard Class</td><td>RB-19435</td><td>Richard Bierner </td><td>Consumer   </td><td>United States</td><td>Plainfield  </td><td>⋯</td><td>East   </td><td>OFF-BI-10004209</td><td>Office Supplies</td><td>Binders    </td><td>Fellowes Twister Kit, Gray/Clear, 3/pkg                                          </td><td>40.2   </td><td> 5</td><td>0.0</td><td> 18.0900</td><td>NA</td></tr>\n",
       "\t<tr><td>9969</td><td>CA-2017-153871</td><td>12/11/2017</td><td>12/17/2017</td><td>Standard Class</td><td>RB-19435</td><td>Richard Bierner </td><td>Consumer   </td><td>United States</td><td>Plainfield  </td><td>⋯</td><td>East   </td><td>OFF-BI-10004600</td><td>Office Supplies</td><td>Binders    </td><td>Ibico Ibimaster 300 Manual Binding System                                        </td><td>735.98 </td><td> 2</td><td>0.0</td><td>331.1910</td><td>NA</td></tr>\n",
       "\t<tr><td>9970</td><td>CA-2017-153871</td><td>12/11/2017</td><td>12/17/2017</td><td>Standard Class</td><td>RB-19435</td><td>Richard Bierner </td><td>Consumer   </td><td>United States</td><td>Plainfield  </td><td>⋯</td><td>East   </td><td>OFF-AP-10003622</td><td>Office Supplies</td><td>Appliances </td><td>Bravo II Megaboss 12-Amp Hard Body Upright, Replacement Belts, 2 Belts per Pack  </td><td>22.75  </td><td> 7</td><td>0.0</td><td>  6.5975</td><td>NA</td></tr>\n",
       "\t<tr><td>9971</td><td>CA-2015-103772</td><td>6/28/2015 </td><td>7/2/2015  </td><td>Standard Class</td><td>MP-17470</td><td>Mark Packer     </td><td>Home Office</td><td>United States</td><td>Smyrna      </td><td>⋯</td><td>South  </td><td>OFF-BI-10002867</td><td>Office Supplies</td><td>Binders    </td><td>GBC Recycled Regency Composition Covers                                          </td><td>119.56 </td><td> 2</td><td>0.0</td><td> 54.9976</td><td>NA</td></tr>\n",
       "\t<tr><td>9972</td><td>CA-2015-103772</td><td>6/28/2015 </td><td>7/2/2015  </td><td>Standard Class</td><td>MP-17470</td><td>Mark Packer     </td><td>Home Office</td><td>United States</td><td>Smyrna      </td><td>⋯</td><td>South  </td><td>OFF-AR-10000538</td><td>Office Supplies</td><td>Art        </td><td>Boston Model 1800 Electric Pencil Sharpener, Gray                                </td><td>140.75 </td><td> 5</td><td>0.0</td><td> 42.2250</td><td>NA</td></tr>\n",
       "\t<tr><td>9973</td><td>CA-2016-130225</td><td>9/11/2016 </td><td>9/17/2016 </td><td>Standard Class</td><td>RC-19960</td><td>Ryan Crowe      </td><td>Consumer   </td><td>United States</td><td>Houston     </td><td>⋯</td><td>Central</td><td>OFF-EN-10000056</td><td>Office Supplies</td><td>Envelopes  </td><td>Cameo Buff Policy Envelopes                                                      </td><td>99.568 </td><td> 2</td><td>0.2</td><td> 33.6042</td><td>NA</td></tr>\n",
       "\t<tr><td>9974</td><td>US-2016-103674</td><td>12/6/2016 </td><td>12/10/2016</td><td>Standard Class</td><td>AP-10720</td><td>Anne Pryor      </td><td>Home Office</td><td>United States</td><td>Los Angeles </td><td>⋯</td><td>West   </td><td>TEC-PH-10004080</td><td>Technology     </td><td>Phones     </td><td>Avaya 5410 Digital phone                                                         </td><td>271.96 </td><td> 5</td><td>0.2</td><td> 27.1960</td><td>NA</td></tr>\n",
       "\t<tr><td>9975</td><td>US-2016-103674</td><td>12/6/2016 </td><td>12/10/2016</td><td>Standard Class</td><td>AP-10720</td><td>Anne Pryor      </td><td>Home Office</td><td>United States</td><td>Los Angeles </td><td>⋯</td><td>West   </td><td>OFF-AR-10004752</td><td>Office Supplies</td><td>Art        </td><td>Blackstonian Pencils                                                             </td><td>18.69  </td><td> 7</td><td>0.0</td><td>  5.2332</td><td>NA</td></tr>\n",
       "\t<tr><td>9976</td><td>US-2016-103674</td><td>12/6/2016 </td><td>12/10/2016</td><td>Standard Class</td><td>AP-10720</td><td>Anne Pryor      </td><td>Home Office</td><td>United States</td><td>Los Angeles </td><td>⋯</td><td>West   </td><td>OFF-PA-10000743</td><td>Office Supplies</td><td>Paper      </td><td>Xerox 1977                                                                       </td><td>13.36  </td><td> 2</td><td>0.0</td><td>  6.4128</td><td>NA</td></tr>\n",
       "\t<tr><td>9977</td><td>US-2016-103674</td><td>12/6/2016 </td><td>12/10/2016</td><td>Standard Class</td><td>AP-10720</td><td>Anne Pryor      </td><td>Home Office</td><td>United States</td><td>Los Angeles </td><td>⋯</td><td>West   </td><td>TEC-PH-10002496</td><td>Technology     </td><td>Phones     </td><td>Cisco SPA301                                                                     </td><td>249.584</td><td> 2</td><td>0.2</td><td> 31.1980</td><td>NA</td></tr>\n",
       "\t<tr><td>9978</td><td>US-2016-103674</td><td>12/6/2016 </td><td>12/10/2016</td><td>Standard Class</td><td>AP-10720</td><td>Anne Pryor      </td><td>Home Office</td><td>United States</td><td>Los Angeles </td><td>⋯</td><td>West   </td><td>OFF-FA-10003467</td><td>Office Supplies</td><td>Fasteners  </td><td>Alliance Big Bands Rubber Bands, 12/Pack                                         </td><td>13.86  </td><td> 7</td><td>0.0</td><td>  0.0000</td><td>NA</td></tr>\n",
       "\t<tr><td>9979</td><td>US-2016-103674</td><td>12/6/2016 </td><td>12/10/2016</td><td>Standard Class</td><td>AP-10720</td><td>Anne Pryor      </td><td>Home Office</td><td>United States</td><td>Los Angeles </td><td>⋯</td><td>West   </td><td>OFF-BI-10003727</td><td>Office Supplies</td><td>Binders    </td><td>Avery Durable Slant Ring Binders With Label Holder                               </td><td>13.376 </td><td> 4</td><td>0.2</td><td>  4.6816</td><td>NA</td></tr>\n",
       "\t<tr><td>9980</td><td>US-2016-103674</td><td>12/6/2016 </td><td>12/10/2016</td><td>Standard Class</td><td>AP-10720</td><td>Anne Pryor      </td><td>Home Office</td><td>United States</td><td>Los Angeles </td><td>⋯</td><td>West   </td><td>OFF-BI-10002026</td><td>Office Supplies</td><td>Binders    </td><td>Ibico Recycled Linen-Style Covers                                                </td><td>437.472</td><td>14</td><td>0.2</td><td>153.1152</td><td>NA</td></tr>\n",
       "\t<tr><td>9981</td><td>US-2015-151435</td><td>9/6/2015  </td><td>9/9/2015  </td><td>Second Class  </td><td>SW-20455</td><td>Shaun Weien     </td><td>Consumer   </td><td>United States</td><td>Lafayette   </td><td>⋯</td><td>South  </td><td>FUR-TA-10001039</td><td>Furniture      </td><td>Tables     </td><td>KI Adjustable-Height Table                                                       </td><td>85.98  </td><td> 1</td><td>0.0</td><td> 22.3548</td><td>NA</td></tr>\n",
       "\t<tr><td>9982</td><td>CA-2017-163566</td><td>8/3/2017  </td><td>8/6/2017  </td><td>First Class   </td><td>TB-21055</td><td>Ted Butterfield </td><td>Consumer   </td><td>United States</td><td>Fairfield   </td><td>⋯</td><td>East   </td><td>OFF-LA-10004484</td><td>Office Supplies</td><td>Labels     </td><td>Avery 476                                                                        </td><td>16.52  </td><td> 5</td><td>0.2</td><td>  5.3690</td><td>NA</td></tr>\n",
       "\t<tr><td>9983</td><td>US-2016-157728</td><td>9/22/2016 </td><td>9/28/2016 </td><td>Standard Class</td><td>RC-19960</td><td><span style=white-space:pre-wrap>Ryan Crowe      </span></td><td><span style=white-space:pre-wrap>Consumer   </span></td><td>United States</td><td>Grand Rapids</td><td>⋯</td><td>Central</td><td>OFF-PA-10002195</td><td>Office Supplies</td><td><span style=white-space:pre-wrap>Paper      </span></td><td><span style=white-space:pre-wrap>RSVP Cards &amp; Envelopes, Blank White, 8-1/2\" X 11\", 24 Cards/25 Envelopes/Set     </span></td><td><span style=white-space:pre-wrap>35.56  </span></td><td> 7</td><td>0.0</td><td> 16.7132</td><td>NA</td></tr>\n",
       "\t<tr><td>9984</td><td>US-2016-157728</td><td>9/22/2016 </td><td>9/28/2016 </td><td>Standard Class</td><td>RC-19960</td><td>Ryan Crowe      </td><td>Consumer   </td><td>United States</td><td>Grand Rapids</td><td>⋯</td><td>Central</td><td>TEC-PH-10001305</td><td>Technology     </td><td>Phones     </td><td>Panasonic KX TS208W Corded phone                                                 </td><td>97.98  </td><td> 2</td><td>0.0</td><td> 27.4344</td><td>NA</td></tr>\n",
       "\t<tr><td>9985</td><td>CA-2015-100251</td><td>5/17/2015 </td><td>5/23/2015 </td><td>Standard Class</td><td>DV-13465</td><td>Dianna Vittorini</td><td>Consumer   </td><td>United States</td><td>Long Beach  </td><td>⋯</td><td>East   </td><td>OFF-LA-10003766</td><td>Office Supplies</td><td>Labels     </td><td>Self-Adhesive Removable Labels                                                   </td><td>31.5   </td><td>10</td><td>0.0</td><td> 15.1200</td><td>NA</td></tr>\n",
       "\t<tr><td>9986</td><td>CA-2015-100251</td><td>5/17/2015 </td><td>5/23/2015 </td><td>Standard Class</td><td>DV-13465</td><td>Dianna Vittorini</td><td>Consumer   </td><td>United States</td><td>Long Beach  </td><td>⋯</td><td>East   </td><td>OFF-SU-10000898</td><td>Office Supplies</td><td>Supplies   </td><td>Acme Hot Forged Carbon Steel Scissors with Nickel-Plated Handles, 3 7/8\" Cut, 8\"L</td><td>55.6   </td><td> 4</td><td>0.0</td><td> 16.1240</td><td>NA</td></tr>\n",
       "\t<tr><td>9987</td><td>CA-2016-125794</td><td>9/29/2016 </td><td>10/3/2016 </td><td>Standard Class</td><td>ML-17410</td><td>Maris LaWare    </td><td>Consumer   </td><td>United States</td><td>Los Angeles </td><td>⋯</td><td>West   </td><td>TEC-AC-10003399</td><td>Technology     </td><td>Accessories</td><td>Memorex Mini Travel Drive 64 GB USB 2.0 Flash Drive                              </td><td>36.24  </td><td> 1</td><td>0.0</td><td> 15.2208</td><td>NA</td></tr>\n",
       "\t<tr><td>9988</td><td>CA-2017-163629</td><td>11/17/2017</td><td>11/21/2017</td><td>Standard Class</td><td>RA-19885</td><td>Ruben Ausman    </td><td>Corporate  </td><td>United States</td><td>Athens      </td><td>⋯</td><td>South  </td><td>TEC-AC-10001539</td><td>Technology     </td><td>Accessories</td><td>Logitech G430 Surround Sound Gaming Headset with Dolby 7.1 Technology            </td><td>79.99  </td><td> 1</td><td>0.0</td><td> 28.7964</td><td>NA</td></tr>\n",
       "\t<tr><td>9989</td><td>CA-2017-163629</td><td>11/17/2017</td><td>11/21/2017</td><td>Standard Class</td><td>RA-19885</td><td>Ruben Ausman    </td><td>Corporate  </td><td>United States</td><td>Athens      </td><td>⋯</td><td>South  </td><td>TEC-PH-10004006</td><td>Technology     </td><td>Phones     </td><td>Panasonic KX - TS880B Telephone                                                  </td><td>206.1  </td><td> 5</td><td>0.0</td><td> 55.6470</td><td>NA</td></tr>\n",
       "\t<tr><td>9990</td><td>CA-2014-110422</td><td>1/21/2014 </td><td>1/23/2014 </td><td>Second Class  </td><td>TB-21400</td><td>Tom Boeckenhauer</td><td>Consumer   </td><td>United States</td><td>Miami       </td><td>⋯</td><td>South  </td><td>FUR-FU-10001889</td><td>Furniture      </td><td>Furnishings</td><td>Ultra Door Pull Handle                                                           </td><td>25.248 </td><td> 3</td><td>0.2</td><td>  4.1028</td><td>NA</td></tr>\n",
       "\t<tr><td>9991</td><td>CA-2017-121258</td><td>2/26/2017 </td><td>3/3/2017  </td><td>Standard Class</td><td>DB-13060</td><td>Dave Brooks     </td><td>Consumer   </td><td>United States</td><td>Costa Mesa  </td><td>⋯</td><td>West   </td><td>FUR-FU-10000747</td><td>Furniture      </td><td>Furnishings</td><td>Tenex B1-RE Series Chair Mats for Low Pile Carpets                               </td><td>91.96  </td><td> 2</td><td>0.0</td><td> 15.6332</td><td>NA</td></tr>\n",
       "\t<tr><td>9992</td><td>CA-2017-121258</td><td>2/26/2017 </td><td>3/3/2017  </td><td>Standard Class</td><td>DB-13060</td><td>Dave Brooks     </td><td>Consumer   </td><td>United States</td><td>Costa Mesa  </td><td>⋯</td><td>West   </td><td>TEC-PH-10003645</td><td>Technology     </td><td>Phones     </td><td>Aastra 57i VoIP phone                                                            </td><td>258.576</td><td> 2</td><td>0.2</td><td> 19.3932</td><td>NA</td></tr>\n",
       "\t<tr><td>9993</td><td>CA-2017-121258</td><td>2/26/2017 </td><td>3/3/2017  </td><td>Standard Class</td><td>DB-13060</td><td>Dave Brooks     </td><td>Consumer   </td><td>United States</td><td>Costa Mesa  </td><td>⋯</td><td>West   </td><td>OFF-PA-10004041</td><td>Office Supplies</td><td>Paper      </td><td>It's Hot Message Books with Stickers, 2 3/4\" x 5\"                                </td><td>29.6   </td><td> 4</td><td>0.0</td><td> 13.3200</td><td>NA</td></tr>\n",
       "\t<tr><td>9994</td><td>CA-2017-119914</td><td>5/4/2017  </td><td>5/9/2017  </td><td>Second Class  </td><td>CC-12220</td><td>Chris Cortes    </td><td>Consumer   </td><td>United States</td><td>Westminster </td><td>⋯</td><td>West   </td><td>OFF-AP-10002684</td><td>Office Supplies</td><td>Appliances </td><td>Acco 7-Outlet Masterpiece Power Center, Wihtout Fax/Phone Line Protection        </td><td>243.16 </td><td> 2</td><td>0.0</td><td> 72.9480</td><td>NA</td></tr>\n",
       "</tbody>\n",
       "</table>\n"
      ],
      "text/latex": [
       "A data.frame: 9994 × 22\n",
       "\\begin{tabular}{lllllllllllllllllllll}\n",
       " row\\_id & order\\_id & order\\_date & ship\\_date & ship\\_mode & customer\\_id & customer\\_name & segment & country & city & ⋯ & region & product\\_id & category & sub\\_category & product\\_name & sales & quantity & discount & profit & X\\\\\n",
       " <int> & <chr> & <chr> & <chr> & <chr> & <chr> & <chr> & <chr> & <chr> & <chr> & ⋯ & <chr> & <chr> & <chr> & <chr> & <chr> & <chr> & <dbl> & <dbl> & <dbl> & <dbl>\\\\\n",
       "\\hline\n",
       "\t  1 & CA-2016-152156 & 11/8/2016  & 11/11/2016 & Second Class   & CG-12520 & Claire Gute        & Consumer    & United States & Henderson       & ⋯ & South   & FUR-BO-10001798 & Furniture       & Bookcases   & Bush Somerset Collection Bookcase                                            & 261.96   & 2 & 0.00 &    41.9136 & NA\\\\\n",
       "\t  2 & CA-2016-152156 & 11/8/2016  & 11/11/2016 & Second Class   & CG-12520 & Claire Gute        & Consumer    & United States & Henderson       & ⋯ & South   & FUR-CH-10000454 & Furniture       & Chairs      & Hon Deluxe Fabric Upholstered Stacking Chairs, Rounded Back                  & 731.94   & 3 & 0.00 &   219.5820 & NA\\\\\n",
       "\t  3 & CA-2016-138688 & 6/12/2016  & 6/16/2016  & Second Class   & DV-13045 & Darrin Van Huff    & Corporate   & United States & Los Angeles     & ⋯ & West    & OFF-LA-10000240 & Office Supplies & Labels      & Self-Adhesive Address Labels for Typewriters by Universal                    & 14.62    & 2 & 0.00 &     6.8714 & NA\\\\\n",
       "\t  4 & US-2015-108966 & 10/11/2015 & 10/18/2015 & Standard Class & SO-20335 & Sean O'Donnell     & Consumer    & United States & Fort Lauderdale & ⋯ & South   & FUR-TA-10000577 & Furniture       & Tables      & Bretford CR4500 Series Slim Rectangular Table                                & 957.5775 & 5 & 0.45 &  -383.0310 & NA\\\\\n",
       "\t  5 & US-2015-108966 & 10/11/2015 & 10/18/2015 & Standard Class & SO-20335 & Sean O'Donnell     & Consumer    & United States & Fort Lauderdale & ⋯ & South   & OFF-ST-10000760 & Office Supplies & Storage     & Eldon Fold 'N Roll Cart System                                               & 22.368   & 2 & 0.20 &     2.5164 & NA\\\\\n",
       "\t  6 & CA-2014-115812 & 6/9/2014   & 6/14/2014  & Standard Class & BH-11710 & Brosina Hoffman    & Consumer    & United States & Los Angeles     & ⋯ & West    & FUR-FU-10001487 & Furniture       & Furnishings & Eldon Expressions Wood and Plastic Desk Accessories, Cherry Wood             & 48.86    & 7 & 0.00 &    14.1694 & NA\\\\\n",
       "\t  7 & CA-2014-115812 & 6/9/2014   & 6/14/2014  & Standard Class & BH-11710 & Brosina Hoffman    & Consumer    & United States & Los Angeles     & ⋯ & West    & OFF-AR-10002833 & Office Supplies & Art         & Newell 322                                                                   & 7.28     & 4 & 0.00 &     1.9656 & NA\\\\\n",
       "\t  8 & CA-2014-115812 & 6/9/2014   & 6/14/2014  & Standard Class & BH-11710 & Brosina Hoffman    & Consumer    & United States & Los Angeles     & ⋯ & West    & TEC-PH-10002275 & Technology      & Phones      & Mitel 5320 IP Phone VoIP phone                                               & 907.152  & 6 & 0.20 &    90.7152 & NA\\\\\n",
       "\t  9 & CA-2014-115812 & 6/9/2014   & 6/14/2014  & Standard Class & BH-11710 & Brosina Hoffman    & Consumer    & United States & Los Angeles     & ⋯ & West    & OFF-BI-10003910 & Office Supplies & Binders     & DXL Angle-View Binders with Locking Rings by Samsill                         & 18.504   & 3 & 0.20 &     5.7825 & NA\\\\\n",
       "\t 10 & CA-2014-115812 & 6/9/2014   & 6/14/2014  & Standard Class & BH-11710 & Brosina Hoffman    & Consumer    & United States & Los Angeles     & ⋯ & West    & OFF-AP-10002892 & Office Supplies & Appliances  & Belkin F5C206VTEL 6 Outlet Surge                                             & 114.9    & 5 & 0.00 &    34.4700 & NA\\\\\n",
       "\t 11 & CA-2014-115812 & 6/9/2014   & 6/14/2014  & Standard Class & BH-11710 & Brosina Hoffman    & Consumer    & United States & Los Angeles     & ⋯ & West    & FUR-TA-10001539 & Furniture       & Tables      & Chromcraft Rectangular Conference Tables                                     & 1706.184 & 9 & 0.20 &    85.3092 & NA\\\\\n",
       "\t 12 & CA-2014-115812 & 6/9/2014   & 6/14/2014  & Standard Class & BH-11710 & Brosina Hoffman    & Consumer    & United States & Los Angeles     & ⋯ & West    & TEC-PH-10002033 & Technology      & Phones      & Konftel 250 Conference�phone�- Charcoal black                                & 911.424  & 4 & 0.20 &    68.3568 & NA\\\\\n",
       "\t 13 & CA-2017-114412 & 4/15/2017  & 4/20/2017  & Standard Class & AA-10480 & Andrew Allen       & Consumer    & United States & Concord         & ⋯ & South   & OFF-PA-10002365 & Office Supplies & Paper       & Xerox 1967                                                                   & 15.552   & 3 & 0.20 &     5.4432 & NA\\\\\n",
       "\t 14 & CA-2016-161389 & 12/5/2016  & 12/10/2016 & Standard Class & IM-15070 & Irene Maddox       & Consumer    & United States & Seattle         & ⋯ & West    & OFF-BI-10003656 & Office Supplies & Binders     & Fellowes PB200 Plastic Comb Binding Machine                                  & 407.976  & 3 & 0.20 &   132.5922 & NA\\\\\n",
       "\t 15 & US-2015-118983 & 11/22/2015 & 11/26/2015 & Standard Class & HP-14815 & Harold Pawlan      & Home Office & United States & Fort Worth      & ⋯ & Central & OFF-AP-10002311 & Office Supplies & Appliances  & Holmes Replacement Filter for HEPA Air Cleaner, Very Large Room, HEPA Filter & 68.81    & 5 & 0.80 &  -123.8580 & NA\\\\\n",
       "\t 16 & US-2015-118983 & 11/22/2015 & 11/26/2015 & Standard Class & HP-14815 & Harold Pawlan      & Home Office & United States & Fort Worth      & ⋯ & Central & OFF-BI-10000756 & Office Supplies & Binders     & Storex DuraTech Recycled Plastic Frosted Binders                             & 2.544    & 3 & 0.80 &    -3.8160 & NA\\\\\n",
       "\t 17 & CA-2014-105893 & 11/11/2014 & 11/18/2014 & Standard Class & PK-19075 & Pete Kriz          & Consumer    & United States & Madison         & ⋯ & Central & OFF-ST-10004186 & Office Supplies & Storage     & Stur-D-Stor Shelving, Vertical 5-Shelf: 72\"H x 36\"W x 18 1/2\"D               & 665.88   & 6 & 0.00 &    13.3176 & NA\\\\\n",
       "\t 18 & CA-2014-167164 & 5/13/2014  & 5/15/2014  & Second Class   & AG-10270 & Alejandro Grove    & Consumer    & United States & West Jordan     & ⋯ & West    & OFF-ST-10000107 & Office Supplies & Storage     & Fellowes Super Stor/Drawer                                                   & 55.5     & 2 & 0.00 &     9.9900 & NA\\\\\n",
       "\t 19 & CA-2014-143336 & 8/27/2014  & 9/1/2014   & Second Class   & ZD-21925 & Zuschuss Donatelli & Consumer    & United States & San Francisco   & ⋯ & West    & OFF-AR-10003056 & Office Supplies & Art         & Newell 341                                                                   & 8.56     & 2 & 0.00 &     2.4824 & NA\\\\\n",
       "\t 20 & CA-2014-143336 & 8/27/2014  & 9/1/2014   & Second Class   & ZD-21925 & Zuschuss Donatelli & Consumer    & United States & San Francisco   & ⋯ & West    & TEC-PH-10001949 & Technology      & Phones      & Cisco SPA 501G IP Phone                                                      & 213.48   & 3 & 0.20 &    16.0110 & NA\\\\\n",
       "\t 21 & CA-2014-143336 & 8/27/2014  & 9/1/2014   & Second Class   & ZD-21925 & Zuschuss Donatelli & Consumer    & United States & San Francisco   & ⋯ & West    & OFF-BI-10002215 & Office Supplies & Binders     & Wilson Jones Hanging View Binder, White, 1\"                                  & 22.72    & 4 & 0.20 &     7.3840 & NA\\\\\n",
       "\t 22 & CA-2016-137330 & 12/9/2016  & 12/13/2016 & Standard Class & KB-16585 & Ken Black          & Corporate   & United States & Fremont         & ⋯ & Central & OFF-AR-10000246 & Office Supplies & Art         & Newell 318                                                                   & 19.46    & 7 & 0.00 &     5.0596 & NA\\\\\n",
       "\t 23 & CA-2016-137330 & 12/9/2016  & 12/13/2016 & Standard Class & KB-16585 & Ken Black          & Corporate   & United States & Fremont         & ⋯ & Central & OFF-AP-10001492 & Office Supplies & Appliances  & Acco Six-Outlet Power Strip, 4' Cord Length                                  & 60.34    & 7 & 0.00 &    15.6884 & NA\\\\\n",
       "\t 24 & US-2017-156909 & 7/16/2017  & 7/18/2017  & Second Class   & SF-20065 & Sandra Flanagan    & Consumer    & United States & Philadelphia    & ⋯ & East    & FUR-CH-10002774 & Furniture       & Chairs      & Global Deluxe Stacking Chair, Gray                                           & 71.372   & 2 & 0.30 &    -1.0196 & NA\\\\\n",
       "\t 25 & CA-2015-106320 & 9/25/2015  & 9/30/2015  & Standard Class & EB-13870 & Emily Burns        & Consumer    & United States & Orem            & ⋯ & West    & FUR-TA-10000577 & Furniture       & Tables      & Bretford CR4500 Series Slim Rectangular Table                                & 1044.63  & 3 & 0.00 &   240.2649 & NA\\\\\n",
       "\t 26 & CA-2016-121755 & 1/16/2016  & 1/20/2016  & Second Class   & EH-13945 & Eric Hoffmann      & Consumer    & United States & Los Angeles     & ⋯ & West    & OFF-BI-10001634 & Office Supplies & Binders     & Wilson Jones Active Use Binders                                              & 11.648   & 2 & 0.20 &     4.2224 & NA\\\\\n",
       "\t 27 & CA-2016-121755 & 1/16/2016  & 1/20/2016  & Second Class   & EH-13945 & Eric Hoffmann      & Consumer    & United States & Los Angeles     & ⋯ & West    & TEC-AC-10003027 & Technology      & Accessories & Imation�8GB Mini TravelDrive USB 2.0�Flash Drive                             & 90.57    & 3 & 0.00 &    11.7741 & NA\\\\\n",
       "\t 28 & US-2015-150630 & 9/17/2015  & 9/21/2015  & Standard Class & TB-21520 & Tracy Blumstein    & Consumer    & United States & Philadelphia    & ⋯ & East    & FUR-BO-10004834 & Furniture       & Bookcases   & Riverside Palais Royal Lawyers Bookcase, Royale Cherry Finish                & 3083.43  & 7 & 0.50 & -1665.0522 & NA\\\\\n",
       "\t 29 & US-2015-150630 & 9/17/2015  & 9/21/2015  & Standard Class & TB-21520 & Tracy Blumstein    & Consumer    & United States & Philadelphia    & ⋯ & East    & OFF-BI-10000474 & Office Supplies & Binders     & Avery Recycled Flexi-View Covers for Binding Systems                         & 9.618    & 2 & 0.70 &    -7.0532 & NA\\\\\n",
       "\t 30 & US-2015-150630 & 9/17/2015  & 9/21/2015  & Standard Class & TB-21520 & Tracy Blumstein    & Consumer    & United States & Philadelphia    & ⋯ & East    & FUR-FU-10004848 & Furniture       & Furnishings & Howard Miller 13-3/4\" Diameter Brushed Chrome Round Wall Clock               & 124.2    & 3 & 0.20 &    15.5250 & NA\\\\\n",
       "\t ⋮ & ⋮ & ⋮ & ⋮ & ⋮ & ⋮ & ⋮ & ⋮ & ⋮ & ⋮ & ⋱ & ⋮ & ⋮ & ⋮ & ⋮ & ⋮ & ⋮ & ⋮ & ⋮ & ⋮ & ⋮\\\\\n",
       "\t 9965 & CA-2016-146374 & 12/5/2016  & 12/10/2016 & Second Class   & HE-14800 & Harold Engle     & Corporate   & United States & Newark       & ⋯ & East    & FUR-FU-10002671 & Furniture       & Furnishings & Electrix 20W Halogen Replacement Bulb for Zoom-In Desk Lamp                       & 13.4    &  1 & 0.0 &   6.4320 & NA\\\\\n",
       "\t 9966 & CA-2016-146374 & 12/5/2016  & 12/10/2016 & Second Class   & HE-14800 & Harold Engle     & Corporate   & United States & Newark       & ⋯ & East    & OFF-PA-10000349 & Office Supplies & Paper       & Easy-staple paper                                                                 & 4.98    &  1 & 0.0 &   2.3406 & NA\\\\\n",
       "\t 9967 & CA-2016-146374 & 12/5/2016  & 12/10/2016 & Second Class   & HE-14800 & Harold Engle     & Corporate   & United States & Newark       & ⋯ & East    & OFF-EN-10004483 & Office Supplies & Envelopes   & \\#10 White Business Envelopes,4 1/8 x 9 1/2                                        & 109.69  &  7 & 0.0 &  51.5543 & NA\\\\\n",
       "\t 9968 & CA-2017-153871 & 12/11/2017 & 12/17/2017 & Standard Class & RB-19435 & Richard Bierner  & Consumer    & United States & Plainfield   & ⋯ & East    & OFF-BI-10004209 & Office Supplies & Binders     & Fellowes Twister Kit, Gray/Clear, 3/pkg                                           & 40.2    &  5 & 0.0 &  18.0900 & NA\\\\\n",
       "\t 9969 & CA-2017-153871 & 12/11/2017 & 12/17/2017 & Standard Class & RB-19435 & Richard Bierner  & Consumer    & United States & Plainfield   & ⋯ & East    & OFF-BI-10004600 & Office Supplies & Binders     & Ibico Ibimaster 300 Manual Binding System                                         & 735.98  &  2 & 0.0 & 331.1910 & NA\\\\\n",
       "\t 9970 & CA-2017-153871 & 12/11/2017 & 12/17/2017 & Standard Class & RB-19435 & Richard Bierner  & Consumer    & United States & Plainfield   & ⋯ & East    & OFF-AP-10003622 & Office Supplies & Appliances  & Bravo II Megaboss 12-Amp Hard Body Upright, Replacement Belts, 2 Belts per Pack   & 22.75   &  7 & 0.0 &   6.5975 & NA\\\\\n",
       "\t 9971 & CA-2015-103772 & 6/28/2015  & 7/2/2015   & Standard Class & MP-17470 & Mark Packer      & Home Office & United States & Smyrna       & ⋯ & South   & OFF-BI-10002867 & Office Supplies & Binders     & GBC Recycled Regency Composition Covers                                           & 119.56  &  2 & 0.0 &  54.9976 & NA\\\\\n",
       "\t 9972 & CA-2015-103772 & 6/28/2015  & 7/2/2015   & Standard Class & MP-17470 & Mark Packer      & Home Office & United States & Smyrna       & ⋯ & South   & OFF-AR-10000538 & Office Supplies & Art         & Boston Model 1800 Electric Pencil Sharpener, Gray                                 & 140.75  &  5 & 0.0 &  42.2250 & NA\\\\\n",
       "\t 9973 & CA-2016-130225 & 9/11/2016  & 9/17/2016  & Standard Class & RC-19960 & Ryan Crowe       & Consumer    & United States & Houston      & ⋯ & Central & OFF-EN-10000056 & Office Supplies & Envelopes   & Cameo Buff Policy Envelopes                                                       & 99.568  &  2 & 0.2 &  33.6042 & NA\\\\\n",
       "\t 9974 & US-2016-103674 & 12/6/2016  & 12/10/2016 & Standard Class & AP-10720 & Anne Pryor       & Home Office & United States & Los Angeles  & ⋯ & West    & TEC-PH-10004080 & Technology      & Phones      & Avaya 5410 Digital phone                                                          & 271.96  &  5 & 0.2 &  27.1960 & NA\\\\\n",
       "\t 9975 & US-2016-103674 & 12/6/2016  & 12/10/2016 & Standard Class & AP-10720 & Anne Pryor       & Home Office & United States & Los Angeles  & ⋯ & West    & OFF-AR-10004752 & Office Supplies & Art         & Blackstonian Pencils                                                              & 18.69   &  7 & 0.0 &   5.2332 & NA\\\\\n",
       "\t 9976 & US-2016-103674 & 12/6/2016  & 12/10/2016 & Standard Class & AP-10720 & Anne Pryor       & Home Office & United States & Los Angeles  & ⋯ & West    & OFF-PA-10000743 & Office Supplies & Paper       & Xerox 1977                                                                        & 13.36   &  2 & 0.0 &   6.4128 & NA\\\\\n",
       "\t 9977 & US-2016-103674 & 12/6/2016  & 12/10/2016 & Standard Class & AP-10720 & Anne Pryor       & Home Office & United States & Los Angeles  & ⋯ & West    & TEC-PH-10002496 & Technology      & Phones      & Cisco SPA301                                                                      & 249.584 &  2 & 0.2 &  31.1980 & NA\\\\\n",
       "\t 9978 & US-2016-103674 & 12/6/2016  & 12/10/2016 & Standard Class & AP-10720 & Anne Pryor       & Home Office & United States & Los Angeles  & ⋯ & West    & OFF-FA-10003467 & Office Supplies & Fasteners   & Alliance Big Bands Rubber Bands, 12/Pack                                          & 13.86   &  7 & 0.0 &   0.0000 & NA\\\\\n",
       "\t 9979 & US-2016-103674 & 12/6/2016  & 12/10/2016 & Standard Class & AP-10720 & Anne Pryor       & Home Office & United States & Los Angeles  & ⋯ & West    & OFF-BI-10003727 & Office Supplies & Binders     & Avery Durable Slant Ring Binders With Label Holder                                & 13.376  &  4 & 0.2 &   4.6816 & NA\\\\\n",
       "\t 9980 & US-2016-103674 & 12/6/2016  & 12/10/2016 & Standard Class & AP-10720 & Anne Pryor       & Home Office & United States & Los Angeles  & ⋯ & West    & OFF-BI-10002026 & Office Supplies & Binders     & Ibico Recycled Linen-Style Covers                                                 & 437.472 & 14 & 0.2 & 153.1152 & NA\\\\\n",
       "\t 9981 & US-2015-151435 & 9/6/2015   & 9/9/2015   & Second Class   & SW-20455 & Shaun Weien      & Consumer    & United States & Lafayette    & ⋯ & South   & FUR-TA-10001039 & Furniture       & Tables      & KI Adjustable-Height Table                                                        & 85.98   &  1 & 0.0 &  22.3548 & NA\\\\\n",
       "\t 9982 & CA-2017-163566 & 8/3/2017   & 8/6/2017   & First Class    & TB-21055 & Ted Butterfield  & Consumer    & United States & Fairfield    & ⋯ & East    & OFF-LA-10004484 & Office Supplies & Labels      & Avery 476                                                                         & 16.52   &  5 & 0.2 &   5.3690 & NA\\\\\n",
       "\t 9983 & US-2016-157728 & 9/22/2016  & 9/28/2016  & Standard Class & RC-19960 & Ryan Crowe       & Consumer    & United States & Grand Rapids & ⋯ & Central & OFF-PA-10002195 & Office Supplies & Paper       & RSVP Cards \\& Envelopes, Blank White, 8-1/2\" X 11\", 24 Cards/25 Envelopes/Set      & 35.56   &  7 & 0.0 &  16.7132 & NA\\\\\n",
       "\t 9984 & US-2016-157728 & 9/22/2016  & 9/28/2016  & Standard Class & RC-19960 & Ryan Crowe       & Consumer    & United States & Grand Rapids & ⋯ & Central & TEC-PH-10001305 & Technology      & Phones      & Panasonic KX TS208W Corded phone                                                  & 97.98   &  2 & 0.0 &  27.4344 & NA\\\\\n",
       "\t 9985 & CA-2015-100251 & 5/17/2015  & 5/23/2015  & Standard Class & DV-13465 & Dianna Vittorini & Consumer    & United States & Long Beach   & ⋯ & East    & OFF-LA-10003766 & Office Supplies & Labels      & Self-Adhesive Removable Labels                                                    & 31.5    & 10 & 0.0 &  15.1200 & NA\\\\\n",
       "\t 9986 & CA-2015-100251 & 5/17/2015  & 5/23/2015  & Standard Class & DV-13465 & Dianna Vittorini & Consumer    & United States & Long Beach   & ⋯ & East    & OFF-SU-10000898 & Office Supplies & Supplies    & Acme Hot Forged Carbon Steel Scissors with Nickel-Plated Handles, 3 7/8\" Cut, 8\"L & 55.6    &  4 & 0.0 &  16.1240 & NA\\\\\n",
       "\t 9987 & CA-2016-125794 & 9/29/2016  & 10/3/2016  & Standard Class & ML-17410 & Maris LaWare     & Consumer    & United States & Los Angeles  & ⋯ & West    & TEC-AC-10003399 & Technology      & Accessories & Memorex Mini Travel Drive 64 GB USB 2.0 Flash Drive                               & 36.24   &  1 & 0.0 &  15.2208 & NA\\\\\n",
       "\t 9988 & CA-2017-163629 & 11/17/2017 & 11/21/2017 & Standard Class & RA-19885 & Ruben Ausman     & Corporate   & United States & Athens       & ⋯ & South   & TEC-AC-10001539 & Technology      & Accessories & Logitech G430 Surround Sound Gaming Headset with Dolby 7.1 Technology             & 79.99   &  1 & 0.0 &  28.7964 & NA\\\\\n",
       "\t 9989 & CA-2017-163629 & 11/17/2017 & 11/21/2017 & Standard Class & RA-19885 & Ruben Ausman     & Corporate   & United States & Athens       & ⋯ & South   & TEC-PH-10004006 & Technology      & Phones      & Panasonic KX - TS880B Telephone                                                   & 206.1   &  5 & 0.0 &  55.6470 & NA\\\\\n",
       "\t 9990 & CA-2014-110422 & 1/21/2014  & 1/23/2014  & Second Class   & TB-21400 & Tom Boeckenhauer & Consumer    & United States & Miami        & ⋯ & South   & FUR-FU-10001889 & Furniture       & Furnishings & Ultra Door Pull Handle                                                            & 25.248  &  3 & 0.2 &   4.1028 & NA\\\\\n",
       "\t 9991 & CA-2017-121258 & 2/26/2017  & 3/3/2017   & Standard Class & DB-13060 & Dave Brooks      & Consumer    & United States & Costa Mesa   & ⋯ & West    & FUR-FU-10000747 & Furniture       & Furnishings & Tenex B1-RE Series Chair Mats for Low Pile Carpets                                & 91.96   &  2 & 0.0 &  15.6332 & NA\\\\\n",
       "\t 9992 & CA-2017-121258 & 2/26/2017  & 3/3/2017   & Standard Class & DB-13060 & Dave Brooks      & Consumer    & United States & Costa Mesa   & ⋯ & West    & TEC-PH-10003645 & Technology      & Phones      & Aastra 57i VoIP phone                                                             & 258.576 &  2 & 0.2 &  19.3932 & NA\\\\\n",
       "\t 9993 & CA-2017-121258 & 2/26/2017  & 3/3/2017   & Standard Class & DB-13060 & Dave Brooks      & Consumer    & United States & Costa Mesa   & ⋯ & West    & OFF-PA-10004041 & Office Supplies & Paper       & It's Hot Message Books with Stickers, 2 3/4\" x 5\"                                 & 29.6    &  4 & 0.0 &  13.3200 & NA\\\\\n",
       "\t 9994 & CA-2017-119914 & 5/4/2017   & 5/9/2017   & Second Class   & CC-12220 & Chris Cortes     & Consumer    & United States & Westminster  & ⋯ & West    & OFF-AP-10002684 & Office Supplies & Appliances  & Acco 7-Outlet Masterpiece Power Center, Wihtout Fax/Phone Line Protection         & 243.16  &  2 & 0.0 &  72.9480 & NA\\\\\n",
       "\\end{tabular}\n"
      ],
      "text/markdown": [
       "\n",
       "A data.frame: 9994 × 22\n",
       "\n",
       "| row_id &lt;int&gt; | order_id &lt;chr&gt; | order_date &lt;chr&gt; | ship_date &lt;chr&gt; | ship_mode &lt;chr&gt; | customer_id &lt;chr&gt; | customer_name &lt;chr&gt; | segment &lt;chr&gt; | country &lt;chr&gt; | city &lt;chr&gt; | ⋯ ⋯ | region &lt;chr&gt; | product_id &lt;chr&gt; | category &lt;chr&gt; | sub_category &lt;chr&gt; | product_name &lt;chr&gt; | sales &lt;chr&gt; | quantity &lt;dbl&gt; | discount &lt;dbl&gt; | profit &lt;dbl&gt; | X &lt;dbl&gt; |\n",
       "|---|---|---|---|---|---|---|---|---|---|---|---|---|---|---|---|---|---|---|---|---|\n",
       "|  1 | CA-2016-152156 | 11/8/2016  | 11/11/2016 | Second Class   | CG-12520 | Claire Gute        | Consumer    | United States | Henderson       | ⋯ | South   | FUR-BO-10001798 | Furniture       | Bookcases   | Bush Somerset Collection Bookcase                                            | 261.96   | 2 | 0.00 |    41.9136 | NA |\n",
       "|  2 | CA-2016-152156 | 11/8/2016  | 11/11/2016 | Second Class   | CG-12520 | Claire Gute        | Consumer    | United States | Henderson       | ⋯ | South   | FUR-CH-10000454 | Furniture       | Chairs      | Hon Deluxe Fabric Upholstered Stacking Chairs, Rounded Back                  | 731.94   | 3 | 0.00 |   219.5820 | NA |\n",
       "|  3 | CA-2016-138688 | 6/12/2016  | 6/16/2016  | Second Class   | DV-13045 | Darrin Van Huff    | Corporate   | United States | Los Angeles     | ⋯ | West    | OFF-LA-10000240 | Office Supplies | Labels      | Self-Adhesive Address Labels for Typewriters by Universal                    | 14.62    | 2 | 0.00 |     6.8714 | NA |\n",
       "|  4 | US-2015-108966 | 10/11/2015 | 10/18/2015 | Standard Class | SO-20335 | Sean O'Donnell     | Consumer    | United States | Fort Lauderdale | ⋯ | South   | FUR-TA-10000577 | Furniture       | Tables      | Bretford CR4500 Series Slim Rectangular Table                                | 957.5775 | 5 | 0.45 |  -383.0310 | NA |\n",
       "|  5 | US-2015-108966 | 10/11/2015 | 10/18/2015 | Standard Class | SO-20335 | Sean O'Donnell     | Consumer    | United States | Fort Lauderdale | ⋯ | South   | OFF-ST-10000760 | Office Supplies | Storage     | Eldon Fold 'N Roll Cart System                                               | 22.368   | 2 | 0.20 |     2.5164 | NA |\n",
       "|  6 | CA-2014-115812 | 6/9/2014   | 6/14/2014  | Standard Class | BH-11710 | Brosina Hoffman    | Consumer    | United States | Los Angeles     | ⋯ | West    | FUR-FU-10001487 | Furniture       | Furnishings | Eldon Expressions Wood and Plastic Desk Accessories, Cherry Wood             | 48.86    | 7 | 0.00 |    14.1694 | NA |\n",
       "|  7 | CA-2014-115812 | 6/9/2014   | 6/14/2014  | Standard Class | BH-11710 | Brosina Hoffman    | Consumer    | United States | Los Angeles     | ⋯ | West    | OFF-AR-10002833 | Office Supplies | Art         | Newell 322                                                                   | 7.28     | 4 | 0.00 |     1.9656 | NA |\n",
       "|  8 | CA-2014-115812 | 6/9/2014   | 6/14/2014  | Standard Class | BH-11710 | Brosina Hoffman    | Consumer    | United States | Los Angeles     | ⋯ | West    | TEC-PH-10002275 | Technology      | Phones      | Mitel 5320 IP Phone VoIP phone                                               | 907.152  | 6 | 0.20 |    90.7152 | NA |\n",
       "|  9 | CA-2014-115812 | 6/9/2014   | 6/14/2014  | Standard Class | BH-11710 | Brosina Hoffman    | Consumer    | United States | Los Angeles     | ⋯ | West    | OFF-BI-10003910 | Office Supplies | Binders     | DXL Angle-View Binders with Locking Rings by Samsill                         | 18.504   | 3 | 0.20 |     5.7825 | NA |\n",
       "| 10 | CA-2014-115812 | 6/9/2014   | 6/14/2014  | Standard Class | BH-11710 | Brosina Hoffman    | Consumer    | United States | Los Angeles     | ⋯ | West    | OFF-AP-10002892 | Office Supplies | Appliances  | Belkin F5C206VTEL 6 Outlet Surge                                             | 114.9    | 5 | 0.00 |    34.4700 | NA |\n",
       "| 11 | CA-2014-115812 | 6/9/2014   | 6/14/2014  | Standard Class | BH-11710 | Brosina Hoffman    | Consumer    | United States | Los Angeles     | ⋯ | West    | FUR-TA-10001539 | Furniture       | Tables      | Chromcraft Rectangular Conference Tables                                     | 1706.184 | 9 | 0.20 |    85.3092 | NA |\n",
       "| 12 | CA-2014-115812 | 6/9/2014   | 6/14/2014  | Standard Class | BH-11710 | Brosina Hoffman    | Consumer    | United States | Los Angeles     | ⋯ | West    | TEC-PH-10002033 | Technology      | Phones      | Konftel 250 Conference�phone�- Charcoal black                                | 911.424  | 4 | 0.20 |    68.3568 | NA |\n",
       "| 13 | CA-2017-114412 | 4/15/2017  | 4/20/2017  | Standard Class | AA-10480 | Andrew Allen       | Consumer    | United States | Concord         | ⋯ | South   | OFF-PA-10002365 | Office Supplies | Paper       | Xerox 1967                                                                   | 15.552   | 3 | 0.20 |     5.4432 | NA |\n",
       "| 14 | CA-2016-161389 | 12/5/2016  | 12/10/2016 | Standard Class | IM-15070 | Irene Maddox       | Consumer    | United States | Seattle         | ⋯ | West    | OFF-BI-10003656 | Office Supplies | Binders     | Fellowes PB200 Plastic Comb Binding Machine                                  | 407.976  | 3 | 0.20 |   132.5922 | NA |\n",
       "| 15 | US-2015-118983 | 11/22/2015 | 11/26/2015 | Standard Class | HP-14815 | Harold Pawlan      | Home Office | United States | Fort Worth      | ⋯ | Central | OFF-AP-10002311 | Office Supplies | Appliances  | Holmes Replacement Filter for HEPA Air Cleaner, Very Large Room, HEPA Filter | 68.81    | 5 | 0.80 |  -123.8580 | NA |\n",
       "| 16 | US-2015-118983 | 11/22/2015 | 11/26/2015 | Standard Class | HP-14815 | Harold Pawlan      | Home Office | United States | Fort Worth      | ⋯ | Central | OFF-BI-10000756 | Office Supplies | Binders     | Storex DuraTech Recycled Plastic Frosted Binders                             | 2.544    | 3 | 0.80 |    -3.8160 | NA |\n",
       "| 17 | CA-2014-105893 | 11/11/2014 | 11/18/2014 | Standard Class | PK-19075 | Pete Kriz          | Consumer    | United States | Madison         | ⋯ | Central | OFF-ST-10004186 | Office Supplies | Storage     | Stur-D-Stor Shelving, Vertical 5-Shelf: 72\"H x 36\"W x 18 1/2\"D               | 665.88   | 6 | 0.00 |    13.3176 | NA |\n",
       "| 18 | CA-2014-167164 | 5/13/2014  | 5/15/2014  | Second Class   | AG-10270 | Alejandro Grove    | Consumer    | United States | West Jordan     | ⋯ | West    | OFF-ST-10000107 | Office Supplies | Storage     | Fellowes Super Stor/Drawer                                                   | 55.5     | 2 | 0.00 |     9.9900 | NA |\n",
       "| 19 | CA-2014-143336 | 8/27/2014  | 9/1/2014   | Second Class   | ZD-21925 | Zuschuss Donatelli | Consumer    | United States | San Francisco   | ⋯ | West    | OFF-AR-10003056 | Office Supplies | Art         | Newell 341                                                                   | 8.56     | 2 | 0.00 |     2.4824 | NA |\n",
       "| 20 | CA-2014-143336 | 8/27/2014  | 9/1/2014   | Second Class   | ZD-21925 | Zuschuss Donatelli | Consumer    | United States | San Francisco   | ⋯ | West    | TEC-PH-10001949 | Technology      | Phones      | Cisco SPA 501G IP Phone                                                      | 213.48   | 3 | 0.20 |    16.0110 | NA |\n",
       "| 21 | CA-2014-143336 | 8/27/2014  | 9/1/2014   | Second Class   | ZD-21925 | Zuschuss Donatelli | Consumer    | United States | San Francisco   | ⋯ | West    | OFF-BI-10002215 | Office Supplies | Binders     | Wilson Jones Hanging View Binder, White, 1\"                                  | 22.72    | 4 | 0.20 |     7.3840 | NA |\n",
       "| 22 | CA-2016-137330 | 12/9/2016  | 12/13/2016 | Standard Class | KB-16585 | Ken Black          | Corporate   | United States | Fremont         | ⋯ | Central | OFF-AR-10000246 | Office Supplies | Art         | Newell 318                                                                   | 19.46    | 7 | 0.00 |     5.0596 | NA |\n",
       "| 23 | CA-2016-137330 | 12/9/2016  | 12/13/2016 | Standard Class | KB-16585 | Ken Black          | Corporate   | United States | Fremont         | ⋯ | Central | OFF-AP-10001492 | Office Supplies | Appliances  | Acco Six-Outlet Power Strip, 4' Cord Length                                  | 60.34    | 7 | 0.00 |    15.6884 | NA |\n",
       "| 24 | US-2017-156909 | 7/16/2017  | 7/18/2017  | Second Class   | SF-20065 | Sandra Flanagan    | Consumer    | United States | Philadelphia    | ⋯ | East    | FUR-CH-10002774 | Furniture       | Chairs      | Global Deluxe Stacking Chair, Gray                                           | 71.372   | 2 | 0.30 |    -1.0196 | NA |\n",
       "| 25 | CA-2015-106320 | 9/25/2015  | 9/30/2015  | Standard Class | EB-13870 | Emily Burns        | Consumer    | United States | Orem            | ⋯ | West    | FUR-TA-10000577 | Furniture       | Tables      | Bretford CR4500 Series Slim Rectangular Table                                | 1044.63  | 3 | 0.00 |   240.2649 | NA |\n",
       "| 26 | CA-2016-121755 | 1/16/2016  | 1/20/2016  | Second Class   | EH-13945 | Eric Hoffmann      | Consumer    | United States | Los Angeles     | ⋯ | West    | OFF-BI-10001634 | Office Supplies | Binders     | Wilson Jones Active Use Binders                                              | 11.648   | 2 | 0.20 |     4.2224 | NA |\n",
       "| 27 | CA-2016-121755 | 1/16/2016  | 1/20/2016  | Second Class   | EH-13945 | Eric Hoffmann      | Consumer    | United States | Los Angeles     | ⋯ | West    | TEC-AC-10003027 | Technology      | Accessories | Imation�8GB Mini TravelDrive USB 2.0�Flash Drive                             | 90.57    | 3 | 0.00 |    11.7741 | NA |\n",
       "| 28 | US-2015-150630 | 9/17/2015  | 9/21/2015  | Standard Class | TB-21520 | Tracy Blumstein    | Consumer    | United States | Philadelphia    | ⋯ | East    | FUR-BO-10004834 | Furniture       | Bookcases   | Riverside Palais Royal Lawyers Bookcase, Royale Cherry Finish                | 3083.43  | 7 | 0.50 | -1665.0522 | NA |\n",
       "| 29 | US-2015-150630 | 9/17/2015  | 9/21/2015  | Standard Class | TB-21520 | Tracy Blumstein    | Consumer    | United States | Philadelphia    | ⋯ | East    | OFF-BI-10000474 | Office Supplies | Binders     | Avery Recycled Flexi-View Covers for Binding Systems                         | 9.618    | 2 | 0.70 |    -7.0532 | NA |\n",
       "| 30 | US-2015-150630 | 9/17/2015  | 9/21/2015  | Standard Class | TB-21520 | Tracy Blumstein    | Consumer    | United States | Philadelphia    | ⋯ | East    | FUR-FU-10004848 | Furniture       | Furnishings | Howard Miller 13-3/4\" Diameter Brushed Chrome Round Wall Clock               | 124.2    | 3 | 0.20 |    15.5250 | NA |\n",
       "| ⋮ | ⋮ | ⋮ | ⋮ | ⋮ | ⋮ | ⋮ | ⋮ | ⋮ | ⋮ | ⋱ | ⋮ | ⋮ | ⋮ | ⋮ | ⋮ | ⋮ | ⋮ | ⋮ | ⋮ | ⋮ |\n",
       "| 9965 | CA-2016-146374 | 12/5/2016  | 12/10/2016 | Second Class   | HE-14800 | Harold Engle     | Corporate   | United States | Newark       | ⋯ | East    | FUR-FU-10002671 | Furniture       | Furnishings | Electrix 20W Halogen Replacement Bulb for Zoom-In Desk Lamp                       | 13.4    |  1 | 0.0 |   6.4320 | NA |\n",
       "| 9966 | CA-2016-146374 | 12/5/2016  | 12/10/2016 | Second Class   | HE-14800 | Harold Engle     | Corporate   | United States | Newark       | ⋯ | East    | OFF-PA-10000349 | Office Supplies | Paper       | Easy-staple paper                                                                 | 4.98    |  1 | 0.0 |   2.3406 | NA |\n",
       "| 9967 | CA-2016-146374 | 12/5/2016  | 12/10/2016 | Second Class   | HE-14800 | Harold Engle     | Corporate   | United States | Newark       | ⋯ | East    | OFF-EN-10004483 | Office Supplies | Envelopes   | #10 White Business Envelopes,4 1/8 x 9 1/2                                        | 109.69  |  7 | 0.0 |  51.5543 | NA |\n",
       "| 9968 | CA-2017-153871 | 12/11/2017 | 12/17/2017 | Standard Class | RB-19435 | Richard Bierner  | Consumer    | United States | Plainfield   | ⋯ | East    | OFF-BI-10004209 | Office Supplies | Binders     | Fellowes Twister Kit, Gray/Clear, 3/pkg                                           | 40.2    |  5 | 0.0 |  18.0900 | NA |\n",
       "| 9969 | CA-2017-153871 | 12/11/2017 | 12/17/2017 | Standard Class | RB-19435 | Richard Bierner  | Consumer    | United States | Plainfield   | ⋯ | East    | OFF-BI-10004600 | Office Supplies | Binders     | Ibico Ibimaster 300 Manual Binding System                                         | 735.98  |  2 | 0.0 | 331.1910 | NA |\n",
       "| 9970 | CA-2017-153871 | 12/11/2017 | 12/17/2017 | Standard Class | RB-19435 | Richard Bierner  | Consumer    | United States | Plainfield   | ⋯ | East    | OFF-AP-10003622 | Office Supplies | Appliances  | Bravo II Megaboss 12-Amp Hard Body Upright, Replacement Belts, 2 Belts per Pack   | 22.75   |  7 | 0.0 |   6.5975 | NA |\n",
       "| 9971 | CA-2015-103772 | 6/28/2015  | 7/2/2015   | Standard Class | MP-17470 | Mark Packer      | Home Office | United States | Smyrna       | ⋯ | South   | OFF-BI-10002867 | Office Supplies | Binders     | GBC Recycled Regency Composition Covers                                           | 119.56  |  2 | 0.0 |  54.9976 | NA |\n",
       "| 9972 | CA-2015-103772 | 6/28/2015  | 7/2/2015   | Standard Class | MP-17470 | Mark Packer      | Home Office | United States | Smyrna       | ⋯ | South   | OFF-AR-10000538 | Office Supplies | Art         | Boston Model 1800 Electric Pencil Sharpener, Gray                                 | 140.75  |  5 | 0.0 |  42.2250 | NA |\n",
       "| 9973 | CA-2016-130225 | 9/11/2016  | 9/17/2016  | Standard Class | RC-19960 | Ryan Crowe       | Consumer    | United States | Houston      | ⋯ | Central | OFF-EN-10000056 | Office Supplies | Envelopes   | Cameo Buff Policy Envelopes                                                       | 99.568  |  2 | 0.2 |  33.6042 | NA |\n",
       "| 9974 | US-2016-103674 | 12/6/2016  | 12/10/2016 | Standard Class | AP-10720 | Anne Pryor       | Home Office | United States | Los Angeles  | ⋯ | West    | TEC-PH-10004080 | Technology      | Phones      | Avaya 5410 Digital phone                                                          | 271.96  |  5 | 0.2 |  27.1960 | NA |\n",
       "| 9975 | US-2016-103674 | 12/6/2016  | 12/10/2016 | Standard Class | AP-10720 | Anne Pryor       | Home Office | United States | Los Angeles  | ⋯ | West    | OFF-AR-10004752 | Office Supplies | Art         | Blackstonian Pencils                                                              | 18.69   |  7 | 0.0 |   5.2332 | NA |\n",
       "| 9976 | US-2016-103674 | 12/6/2016  | 12/10/2016 | Standard Class | AP-10720 | Anne Pryor       | Home Office | United States | Los Angeles  | ⋯ | West    | OFF-PA-10000743 | Office Supplies | Paper       | Xerox 1977                                                                        | 13.36   |  2 | 0.0 |   6.4128 | NA |\n",
       "| 9977 | US-2016-103674 | 12/6/2016  | 12/10/2016 | Standard Class | AP-10720 | Anne Pryor       | Home Office | United States | Los Angeles  | ⋯ | West    | TEC-PH-10002496 | Technology      | Phones      | Cisco SPA301                                                                      | 249.584 |  2 | 0.2 |  31.1980 | NA |\n",
       "| 9978 | US-2016-103674 | 12/6/2016  | 12/10/2016 | Standard Class | AP-10720 | Anne Pryor       | Home Office | United States | Los Angeles  | ⋯ | West    | OFF-FA-10003467 | Office Supplies | Fasteners   | Alliance Big Bands Rubber Bands, 12/Pack                                          | 13.86   |  7 | 0.0 |   0.0000 | NA |\n",
       "| 9979 | US-2016-103674 | 12/6/2016  | 12/10/2016 | Standard Class | AP-10720 | Anne Pryor       | Home Office | United States | Los Angeles  | ⋯ | West    | OFF-BI-10003727 | Office Supplies | Binders     | Avery Durable Slant Ring Binders With Label Holder                                | 13.376  |  4 | 0.2 |   4.6816 | NA |\n",
       "| 9980 | US-2016-103674 | 12/6/2016  | 12/10/2016 | Standard Class | AP-10720 | Anne Pryor       | Home Office | United States | Los Angeles  | ⋯ | West    | OFF-BI-10002026 | Office Supplies | Binders     | Ibico Recycled Linen-Style Covers                                                 | 437.472 | 14 | 0.2 | 153.1152 | NA |\n",
       "| 9981 | US-2015-151435 | 9/6/2015   | 9/9/2015   | Second Class   | SW-20455 | Shaun Weien      | Consumer    | United States | Lafayette    | ⋯ | South   | FUR-TA-10001039 | Furniture       | Tables      | KI Adjustable-Height Table                                                        | 85.98   |  1 | 0.0 |  22.3548 | NA |\n",
       "| 9982 | CA-2017-163566 | 8/3/2017   | 8/6/2017   | First Class    | TB-21055 | Ted Butterfield  | Consumer    | United States | Fairfield    | ⋯ | East    | OFF-LA-10004484 | Office Supplies | Labels      | Avery 476                                                                         | 16.52   |  5 | 0.2 |   5.3690 | NA |\n",
       "| 9983 | US-2016-157728 | 9/22/2016  | 9/28/2016  | Standard Class | RC-19960 | Ryan Crowe       | Consumer    | United States | Grand Rapids | ⋯ | Central | OFF-PA-10002195 | Office Supplies | Paper       | RSVP Cards &amp; Envelopes, Blank White, 8-1/2\" X 11\", 24 Cards/25 Envelopes/Set      | 35.56   |  7 | 0.0 |  16.7132 | NA |\n",
       "| 9984 | US-2016-157728 | 9/22/2016  | 9/28/2016  | Standard Class | RC-19960 | Ryan Crowe       | Consumer    | United States | Grand Rapids | ⋯ | Central | TEC-PH-10001305 | Technology      | Phones      | Panasonic KX TS208W Corded phone                                                  | 97.98   |  2 | 0.0 |  27.4344 | NA |\n",
       "| 9985 | CA-2015-100251 | 5/17/2015  | 5/23/2015  | Standard Class | DV-13465 | Dianna Vittorini | Consumer    | United States | Long Beach   | ⋯ | East    | OFF-LA-10003766 | Office Supplies | Labels      | Self-Adhesive Removable Labels                                                    | 31.5    | 10 | 0.0 |  15.1200 | NA |\n",
       "| 9986 | CA-2015-100251 | 5/17/2015  | 5/23/2015  | Standard Class | DV-13465 | Dianna Vittorini | Consumer    | United States | Long Beach   | ⋯ | East    | OFF-SU-10000898 | Office Supplies | Supplies    | Acme Hot Forged Carbon Steel Scissors with Nickel-Plated Handles, 3 7/8\" Cut, 8\"L | 55.6    |  4 | 0.0 |  16.1240 | NA |\n",
       "| 9987 | CA-2016-125794 | 9/29/2016  | 10/3/2016  | Standard Class | ML-17410 | Maris LaWare     | Consumer    | United States | Los Angeles  | ⋯ | West    | TEC-AC-10003399 | Technology      | Accessories | Memorex Mini Travel Drive 64 GB USB 2.0 Flash Drive                               | 36.24   |  1 | 0.0 |  15.2208 | NA |\n",
       "| 9988 | CA-2017-163629 | 11/17/2017 | 11/21/2017 | Standard Class | RA-19885 | Ruben Ausman     | Corporate   | United States | Athens       | ⋯ | South   | TEC-AC-10001539 | Technology      | Accessories | Logitech G430 Surround Sound Gaming Headset with Dolby 7.1 Technology             | 79.99   |  1 | 0.0 |  28.7964 | NA |\n",
       "| 9989 | CA-2017-163629 | 11/17/2017 | 11/21/2017 | Standard Class | RA-19885 | Ruben Ausman     | Corporate   | United States | Athens       | ⋯ | South   | TEC-PH-10004006 | Technology      | Phones      | Panasonic KX - TS880B Telephone                                                   | 206.1   |  5 | 0.0 |  55.6470 | NA |\n",
       "| 9990 | CA-2014-110422 | 1/21/2014  | 1/23/2014  | Second Class   | TB-21400 | Tom Boeckenhauer | Consumer    | United States | Miami        | ⋯ | South   | FUR-FU-10001889 | Furniture       | Furnishings | Ultra Door Pull Handle                                                            | 25.248  |  3 | 0.2 |   4.1028 | NA |\n",
       "| 9991 | CA-2017-121258 | 2/26/2017  | 3/3/2017   | Standard Class | DB-13060 | Dave Brooks      | Consumer    | United States | Costa Mesa   | ⋯ | West    | FUR-FU-10000747 | Furniture       | Furnishings | Tenex B1-RE Series Chair Mats for Low Pile Carpets                                | 91.96   |  2 | 0.0 |  15.6332 | NA |\n",
       "| 9992 | CA-2017-121258 | 2/26/2017  | 3/3/2017   | Standard Class | DB-13060 | Dave Brooks      | Consumer    | United States | Costa Mesa   | ⋯ | West    | TEC-PH-10003645 | Technology      | Phones      | Aastra 57i VoIP phone                                                             | 258.576 |  2 | 0.2 |  19.3932 | NA |\n",
       "| 9993 | CA-2017-121258 | 2/26/2017  | 3/3/2017   | Standard Class | DB-13060 | Dave Brooks      | Consumer    | United States | Costa Mesa   | ⋯ | West    | OFF-PA-10004041 | Office Supplies | Paper       | It's Hot Message Books with Stickers, 2 3/4\" x 5\"                                 | 29.6    |  4 | 0.0 |  13.3200 | NA |\n",
       "| 9994 | CA-2017-119914 | 5/4/2017   | 5/9/2017   | Second Class   | CC-12220 | Chris Cortes     | Consumer    | United States | Westminster  | ⋯ | West    | OFF-AP-10002684 | Office Supplies | Appliances  | Acco 7-Outlet Masterpiece Power Center, Wihtout Fax/Phone Line Protection         | 243.16  |  2 | 0.0 |  72.9480 | NA |\n",
       "\n"
      ],
      "text/plain": [
       "     row_id order_id       order_date ship_date  ship_mode      customer_id\n",
       "1     1     CA-2016-152156 11/8/2016  11/11/2016 Second Class   CG-12520   \n",
       "2     2     CA-2016-152156 11/8/2016  11/11/2016 Second Class   CG-12520   \n",
       "3     3     CA-2016-138688 6/12/2016  6/16/2016  Second Class   DV-13045   \n",
       "4     4     US-2015-108966 10/11/2015 10/18/2015 Standard Class SO-20335   \n",
       "5     5     US-2015-108966 10/11/2015 10/18/2015 Standard Class SO-20335   \n",
       "6     6     CA-2014-115812 6/9/2014   6/14/2014  Standard Class BH-11710   \n",
       "7     7     CA-2014-115812 6/9/2014   6/14/2014  Standard Class BH-11710   \n",
       "8     8     CA-2014-115812 6/9/2014   6/14/2014  Standard Class BH-11710   \n",
       "9     9     CA-2014-115812 6/9/2014   6/14/2014  Standard Class BH-11710   \n",
       "10   10     CA-2014-115812 6/9/2014   6/14/2014  Standard Class BH-11710   \n",
       "11   11     CA-2014-115812 6/9/2014   6/14/2014  Standard Class BH-11710   \n",
       "12   12     CA-2014-115812 6/9/2014   6/14/2014  Standard Class BH-11710   \n",
       "13   13     CA-2017-114412 4/15/2017  4/20/2017  Standard Class AA-10480   \n",
       "14   14     CA-2016-161389 12/5/2016  12/10/2016 Standard Class IM-15070   \n",
       "15   15     US-2015-118983 11/22/2015 11/26/2015 Standard Class HP-14815   \n",
       "16   16     US-2015-118983 11/22/2015 11/26/2015 Standard Class HP-14815   \n",
       "17   17     CA-2014-105893 11/11/2014 11/18/2014 Standard Class PK-19075   \n",
       "18   18     CA-2014-167164 5/13/2014  5/15/2014  Second Class   AG-10270   \n",
       "19   19     CA-2014-143336 8/27/2014  9/1/2014   Second Class   ZD-21925   \n",
       "20   20     CA-2014-143336 8/27/2014  9/1/2014   Second Class   ZD-21925   \n",
       "21   21     CA-2014-143336 8/27/2014  9/1/2014   Second Class   ZD-21925   \n",
       "22   22     CA-2016-137330 12/9/2016  12/13/2016 Standard Class KB-16585   \n",
       "23   23     CA-2016-137330 12/9/2016  12/13/2016 Standard Class KB-16585   \n",
       "24   24     US-2017-156909 7/16/2017  7/18/2017  Second Class   SF-20065   \n",
       "25   25     CA-2015-106320 9/25/2015  9/30/2015  Standard Class EB-13870   \n",
       "26   26     CA-2016-121755 1/16/2016  1/20/2016  Second Class   EH-13945   \n",
       "27   27     CA-2016-121755 1/16/2016  1/20/2016  Second Class   EH-13945   \n",
       "28   28     US-2015-150630 9/17/2015  9/21/2015  Standard Class TB-21520   \n",
       "29   29     US-2015-150630 9/17/2015  9/21/2015  Standard Class TB-21520   \n",
       "30   30     US-2015-150630 9/17/2015  9/21/2015  Standard Class TB-21520   \n",
       "⋮    ⋮      ⋮              ⋮          ⋮          ⋮              ⋮          \n",
       "9965 9965   CA-2016-146374 12/5/2016  12/10/2016 Second Class   HE-14800   \n",
       "9966 9966   CA-2016-146374 12/5/2016  12/10/2016 Second Class   HE-14800   \n",
       "9967 9967   CA-2016-146374 12/5/2016  12/10/2016 Second Class   HE-14800   \n",
       "9968 9968   CA-2017-153871 12/11/2017 12/17/2017 Standard Class RB-19435   \n",
       "9969 9969   CA-2017-153871 12/11/2017 12/17/2017 Standard Class RB-19435   \n",
       "9970 9970   CA-2017-153871 12/11/2017 12/17/2017 Standard Class RB-19435   \n",
       "9971 9971   CA-2015-103772 6/28/2015  7/2/2015   Standard Class MP-17470   \n",
       "9972 9972   CA-2015-103772 6/28/2015  7/2/2015   Standard Class MP-17470   \n",
       "9973 9973   CA-2016-130225 9/11/2016  9/17/2016  Standard Class RC-19960   \n",
       "9974 9974   US-2016-103674 12/6/2016  12/10/2016 Standard Class AP-10720   \n",
       "9975 9975   US-2016-103674 12/6/2016  12/10/2016 Standard Class AP-10720   \n",
       "9976 9976   US-2016-103674 12/6/2016  12/10/2016 Standard Class AP-10720   \n",
       "9977 9977   US-2016-103674 12/6/2016  12/10/2016 Standard Class AP-10720   \n",
       "9978 9978   US-2016-103674 12/6/2016  12/10/2016 Standard Class AP-10720   \n",
       "9979 9979   US-2016-103674 12/6/2016  12/10/2016 Standard Class AP-10720   \n",
       "9980 9980   US-2016-103674 12/6/2016  12/10/2016 Standard Class AP-10720   \n",
       "9981 9981   US-2015-151435 9/6/2015   9/9/2015   Second Class   SW-20455   \n",
       "9982 9982   CA-2017-163566 8/3/2017   8/6/2017   First Class    TB-21055   \n",
       "9983 9983   US-2016-157728 9/22/2016  9/28/2016  Standard Class RC-19960   \n",
       "9984 9984   US-2016-157728 9/22/2016  9/28/2016  Standard Class RC-19960   \n",
       "9985 9985   CA-2015-100251 5/17/2015  5/23/2015  Standard Class DV-13465   \n",
       "9986 9986   CA-2015-100251 5/17/2015  5/23/2015  Standard Class DV-13465   \n",
       "9987 9987   CA-2016-125794 9/29/2016  10/3/2016  Standard Class ML-17410   \n",
       "9988 9988   CA-2017-163629 11/17/2017 11/21/2017 Standard Class RA-19885   \n",
       "9989 9989   CA-2017-163629 11/17/2017 11/21/2017 Standard Class RA-19885   \n",
       "9990 9990   CA-2014-110422 1/21/2014  1/23/2014  Second Class   TB-21400   \n",
       "9991 9991   CA-2017-121258 2/26/2017  3/3/2017   Standard Class DB-13060   \n",
       "9992 9992   CA-2017-121258 2/26/2017  3/3/2017   Standard Class DB-13060   \n",
       "9993 9993   CA-2017-121258 2/26/2017  3/3/2017   Standard Class DB-13060   \n",
       "9994 9994   CA-2017-119914 5/4/2017   5/9/2017   Second Class   CC-12220   \n",
       "     customer_name      segment     country       city            ⋯ region \n",
       "1    Claire Gute        Consumer    United States Henderson       ⋯ South  \n",
       "2    Claire Gute        Consumer    United States Henderson       ⋯ South  \n",
       "3    Darrin Van Huff    Corporate   United States Los Angeles     ⋯ West   \n",
       "4    Sean O'Donnell     Consumer    United States Fort Lauderdale ⋯ South  \n",
       "5    Sean O'Donnell     Consumer    United States Fort Lauderdale ⋯ South  \n",
       "6    Brosina Hoffman    Consumer    United States Los Angeles     ⋯ West   \n",
       "7    Brosina Hoffman    Consumer    United States Los Angeles     ⋯ West   \n",
       "8    Brosina Hoffman    Consumer    United States Los Angeles     ⋯ West   \n",
       "9    Brosina Hoffman    Consumer    United States Los Angeles     ⋯ West   \n",
       "10   Brosina Hoffman    Consumer    United States Los Angeles     ⋯ West   \n",
       "11   Brosina Hoffman    Consumer    United States Los Angeles     ⋯ West   \n",
       "12   Brosina Hoffman    Consumer    United States Los Angeles     ⋯ West   \n",
       "13   Andrew Allen       Consumer    United States Concord         ⋯ South  \n",
       "14   Irene Maddox       Consumer    United States Seattle         ⋯ West   \n",
       "15   Harold Pawlan      Home Office United States Fort Worth      ⋯ Central\n",
       "16   Harold Pawlan      Home Office United States Fort Worth      ⋯ Central\n",
       "17   Pete Kriz          Consumer    United States Madison         ⋯ Central\n",
       "18   Alejandro Grove    Consumer    United States West Jordan     ⋯ West   \n",
       "19   Zuschuss Donatelli Consumer    United States San Francisco   ⋯ West   \n",
       "20   Zuschuss Donatelli Consumer    United States San Francisco   ⋯ West   \n",
       "21   Zuschuss Donatelli Consumer    United States San Francisco   ⋯ West   \n",
       "22   Ken Black          Corporate   United States Fremont         ⋯ Central\n",
       "23   Ken Black          Corporate   United States Fremont         ⋯ Central\n",
       "24   Sandra Flanagan    Consumer    United States Philadelphia    ⋯ East   \n",
       "25   Emily Burns        Consumer    United States Orem            ⋯ West   \n",
       "26   Eric Hoffmann      Consumer    United States Los Angeles     ⋯ West   \n",
       "27   Eric Hoffmann      Consumer    United States Los Angeles     ⋯ West   \n",
       "28   Tracy Blumstein    Consumer    United States Philadelphia    ⋯ East   \n",
       "29   Tracy Blumstein    Consumer    United States Philadelphia    ⋯ East   \n",
       "30   Tracy Blumstein    Consumer    United States Philadelphia    ⋯ East   \n",
       "⋮    ⋮                  ⋮           ⋮             ⋮               ⋱ ⋮      \n",
       "9965 Harold Engle       Corporate   United States Newark          ⋯ East   \n",
       "9966 Harold Engle       Corporate   United States Newark          ⋯ East   \n",
       "9967 Harold Engle       Corporate   United States Newark          ⋯ East   \n",
       "9968 Richard Bierner    Consumer    United States Plainfield      ⋯ East   \n",
       "9969 Richard Bierner    Consumer    United States Plainfield      ⋯ East   \n",
       "9970 Richard Bierner    Consumer    United States Plainfield      ⋯ East   \n",
       "9971 Mark Packer        Home Office United States Smyrna          ⋯ South  \n",
       "9972 Mark Packer        Home Office United States Smyrna          ⋯ South  \n",
       "9973 Ryan Crowe         Consumer    United States Houston         ⋯ Central\n",
       "9974 Anne Pryor         Home Office United States Los Angeles     ⋯ West   \n",
       "9975 Anne Pryor         Home Office United States Los Angeles     ⋯ West   \n",
       "9976 Anne Pryor         Home Office United States Los Angeles     ⋯ West   \n",
       "9977 Anne Pryor         Home Office United States Los Angeles     ⋯ West   \n",
       "9978 Anne Pryor         Home Office United States Los Angeles     ⋯ West   \n",
       "9979 Anne Pryor         Home Office United States Los Angeles     ⋯ West   \n",
       "9980 Anne Pryor         Home Office United States Los Angeles     ⋯ West   \n",
       "9981 Shaun Weien        Consumer    United States Lafayette       ⋯ South  \n",
       "9982 Ted Butterfield    Consumer    United States Fairfield       ⋯ East   \n",
       "9983 Ryan Crowe         Consumer    United States Grand Rapids    ⋯ Central\n",
       "9984 Ryan Crowe         Consumer    United States Grand Rapids    ⋯ Central\n",
       "9985 Dianna Vittorini   Consumer    United States Long Beach      ⋯ East   \n",
       "9986 Dianna Vittorini   Consumer    United States Long Beach      ⋯ East   \n",
       "9987 Maris LaWare       Consumer    United States Los Angeles     ⋯ West   \n",
       "9988 Ruben Ausman       Corporate   United States Athens          ⋯ South  \n",
       "9989 Ruben Ausman       Corporate   United States Athens          ⋯ South  \n",
       "9990 Tom Boeckenhauer   Consumer    United States Miami           ⋯ South  \n",
       "9991 Dave Brooks        Consumer    United States Costa Mesa      ⋯ West   \n",
       "9992 Dave Brooks        Consumer    United States Costa Mesa      ⋯ West   \n",
       "9993 Dave Brooks        Consumer    United States Costa Mesa      ⋯ West   \n",
       "9994 Chris Cortes       Consumer    United States Westminster     ⋯ West   \n",
       "     product_id      category        sub_category\n",
       "1    FUR-BO-10001798 Furniture       Bookcases   \n",
       "2    FUR-CH-10000454 Furniture       Chairs      \n",
       "3    OFF-LA-10000240 Office Supplies Labels      \n",
       "4    FUR-TA-10000577 Furniture       Tables      \n",
       "5    OFF-ST-10000760 Office Supplies Storage     \n",
       "6    FUR-FU-10001487 Furniture       Furnishings \n",
       "7    OFF-AR-10002833 Office Supplies Art         \n",
       "8    TEC-PH-10002275 Technology      Phones      \n",
       "9    OFF-BI-10003910 Office Supplies Binders     \n",
       "10   OFF-AP-10002892 Office Supplies Appliances  \n",
       "11   FUR-TA-10001539 Furniture       Tables      \n",
       "12   TEC-PH-10002033 Technology      Phones      \n",
       "13   OFF-PA-10002365 Office Supplies Paper       \n",
       "14   OFF-BI-10003656 Office Supplies Binders     \n",
       "15   OFF-AP-10002311 Office Supplies Appliances  \n",
       "16   OFF-BI-10000756 Office Supplies Binders     \n",
       "17   OFF-ST-10004186 Office Supplies Storage     \n",
       "18   OFF-ST-10000107 Office Supplies Storage     \n",
       "19   OFF-AR-10003056 Office Supplies Art         \n",
       "20   TEC-PH-10001949 Technology      Phones      \n",
       "21   OFF-BI-10002215 Office Supplies Binders     \n",
       "22   OFF-AR-10000246 Office Supplies Art         \n",
       "23   OFF-AP-10001492 Office Supplies Appliances  \n",
       "24   FUR-CH-10002774 Furniture       Chairs      \n",
       "25   FUR-TA-10000577 Furniture       Tables      \n",
       "26   OFF-BI-10001634 Office Supplies Binders     \n",
       "27   TEC-AC-10003027 Technology      Accessories \n",
       "28   FUR-BO-10004834 Furniture       Bookcases   \n",
       "29   OFF-BI-10000474 Office Supplies Binders     \n",
       "30   FUR-FU-10004848 Furniture       Furnishings \n",
       "⋮    ⋮               ⋮               ⋮           \n",
       "9965 FUR-FU-10002671 Furniture       Furnishings \n",
       "9966 OFF-PA-10000349 Office Supplies Paper       \n",
       "9967 OFF-EN-10004483 Office Supplies Envelopes   \n",
       "9968 OFF-BI-10004209 Office Supplies Binders     \n",
       "9969 OFF-BI-10004600 Office Supplies Binders     \n",
       "9970 OFF-AP-10003622 Office Supplies Appliances  \n",
       "9971 OFF-BI-10002867 Office Supplies Binders     \n",
       "9972 OFF-AR-10000538 Office Supplies Art         \n",
       "9973 OFF-EN-10000056 Office Supplies Envelopes   \n",
       "9974 TEC-PH-10004080 Technology      Phones      \n",
       "9975 OFF-AR-10004752 Office Supplies Art         \n",
       "9976 OFF-PA-10000743 Office Supplies Paper       \n",
       "9977 TEC-PH-10002496 Technology      Phones      \n",
       "9978 OFF-FA-10003467 Office Supplies Fasteners   \n",
       "9979 OFF-BI-10003727 Office Supplies Binders     \n",
       "9980 OFF-BI-10002026 Office Supplies Binders     \n",
       "9981 FUR-TA-10001039 Furniture       Tables      \n",
       "9982 OFF-LA-10004484 Office Supplies Labels      \n",
       "9983 OFF-PA-10002195 Office Supplies Paper       \n",
       "9984 TEC-PH-10001305 Technology      Phones      \n",
       "9985 OFF-LA-10003766 Office Supplies Labels      \n",
       "9986 OFF-SU-10000898 Office Supplies Supplies    \n",
       "9987 TEC-AC-10003399 Technology      Accessories \n",
       "9988 TEC-AC-10001539 Technology      Accessories \n",
       "9989 TEC-PH-10004006 Technology      Phones      \n",
       "9990 FUR-FU-10001889 Furniture       Furnishings \n",
       "9991 FUR-FU-10000747 Furniture       Furnishings \n",
       "9992 TEC-PH-10003645 Technology      Phones      \n",
       "9993 OFF-PA-10004041 Office Supplies Paper       \n",
       "9994 OFF-AP-10002684 Office Supplies Appliances  \n",
       "     product_name                                                                     \n",
       "1    Bush Somerset Collection Bookcase                                                \n",
       "2    Hon Deluxe Fabric Upholstered Stacking Chairs, Rounded Back                      \n",
       "3    Self-Adhesive Address Labels for Typewriters by Universal                        \n",
       "4    Bretford CR4500 Series Slim Rectangular Table                                    \n",
       "5    Eldon Fold 'N Roll Cart System                                                   \n",
       "6    Eldon Expressions Wood and Plastic Desk Accessories, Cherry Wood                 \n",
       "7    Newell 322                                                                       \n",
       "8    Mitel 5320 IP Phone VoIP phone                                                   \n",
       "9    DXL Angle-View Binders with Locking Rings by Samsill                             \n",
       "10   Belkin F5C206VTEL 6 Outlet Surge                                                 \n",
       "11   Chromcraft Rectangular Conference Tables                                         \n",
       "12   Konftel 250 Conference�phone�- Charcoal black                                    \n",
       "13   Xerox 1967                                                                       \n",
       "14   Fellowes PB200 Plastic Comb Binding Machine                                      \n",
       "15   Holmes Replacement Filter for HEPA Air Cleaner, Very Large Room, HEPA Filter     \n",
       "16   Storex DuraTech Recycled Plastic Frosted Binders                                 \n",
       "17   Stur-D-Stor Shelving, Vertical 5-Shelf: 72\"H x 36\"W x 18 1/2\"D                   \n",
       "18   Fellowes Super Stor/Drawer                                                       \n",
       "19   Newell 341                                                                       \n",
       "20   Cisco SPA 501G IP Phone                                                          \n",
       "21   Wilson Jones Hanging View Binder, White, 1\"                                      \n",
       "22   Newell 318                                                                       \n",
       "23   Acco Six-Outlet Power Strip, 4' Cord Length                                      \n",
       "24   Global Deluxe Stacking Chair, Gray                                               \n",
       "25   Bretford CR4500 Series Slim Rectangular Table                                    \n",
       "26   Wilson Jones Active Use Binders                                                  \n",
       "27   Imation�8GB Mini TravelDrive USB 2.0�Flash Drive                                 \n",
       "28   Riverside Palais Royal Lawyers Bookcase, Royale Cherry Finish                    \n",
       "29   Avery Recycled Flexi-View Covers for Binding Systems                             \n",
       "30   Howard Miller 13-3/4\" Diameter Brushed Chrome Round Wall Clock                   \n",
       "⋮    ⋮                                                                                \n",
       "9965 Electrix 20W Halogen Replacement Bulb for Zoom-In Desk Lamp                      \n",
       "9966 Easy-staple paper                                                                \n",
       "9967 #10 White Business Envelopes,4 1/8 x 9 1/2                                       \n",
       "9968 Fellowes Twister Kit, Gray/Clear, 3/pkg                                          \n",
       "9969 Ibico Ibimaster 300 Manual Binding System                                        \n",
       "9970 Bravo II Megaboss 12-Amp Hard Body Upright, Replacement Belts, 2 Belts per Pack  \n",
       "9971 GBC Recycled Regency Composition Covers                                          \n",
       "9972 Boston Model 1800 Electric Pencil Sharpener, Gray                                \n",
       "9973 Cameo Buff Policy Envelopes                                                      \n",
       "9974 Avaya 5410 Digital phone                                                         \n",
       "9975 Blackstonian Pencils                                                             \n",
       "9976 Xerox 1977                                                                       \n",
       "9977 Cisco SPA301                                                                     \n",
       "9978 Alliance Big Bands Rubber Bands, 12/Pack                                         \n",
       "9979 Avery Durable Slant Ring Binders With Label Holder                               \n",
       "9980 Ibico Recycled Linen-Style Covers                                                \n",
       "9981 KI Adjustable-Height Table                                                       \n",
       "9982 Avery 476                                                                        \n",
       "9983 RSVP Cards & Envelopes, Blank White, 8-1/2\" X 11\", 24 Cards/25 Envelopes/Set     \n",
       "9984 Panasonic KX TS208W Corded phone                                                 \n",
       "9985 Self-Adhesive Removable Labels                                                   \n",
       "9986 Acme Hot Forged Carbon Steel Scissors with Nickel-Plated Handles, 3 7/8\" Cut, 8\"L\n",
       "9987 Memorex Mini Travel Drive 64 GB USB 2.0 Flash Drive                              \n",
       "9988 Logitech G430 Surround Sound Gaming Headset with Dolby 7.1 Technology            \n",
       "9989 Panasonic KX - TS880B Telephone                                                  \n",
       "9990 Ultra Door Pull Handle                                                           \n",
       "9991 Tenex B1-RE Series Chair Mats for Low Pile Carpets                               \n",
       "9992 Aastra 57i VoIP phone                                                            \n",
       "9993 It's Hot Message Books with Stickers, 2 3/4\" x 5\"                                \n",
       "9994 Acco 7-Outlet Masterpiece Power Center, Wihtout Fax/Phone Line Protection        \n",
       "     sales    quantity discount profit     X \n",
       "1    261.96   2        0.00        41.9136 NA\n",
       "2    731.94   3        0.00       219.5820 NA\n",
       "3    14.62    2        0.00         6.8714 NA\n",
       "4    957.5775 5        0.45      -383.0310 NA\n",
       "5    22.368   2        0.20         2.5164 NA\n",
       "6    48.86    7        0.00        14.1694 NA\n",
       "7    7.28     4        0.00         1.9656 NA\n",
       "8    907.152  6        0.20        90.7152 NA\n",
       "9    18.504   3        0.20         5.7825 NA\n",
       "10   114.9    5        0.00        34.4700 NA\n",
       "11   1706.184 9        0.20        85.3092 NA\n",
       "12   911.424  4        0.20        68.3568 NA\n",
       "13   15.552   3        0.20         5.4432 NA\n",
       "14   407.976  3        0.20       132.5922 NA\n",
       "15   68.81    5        0.80      -123.8580 NA\n",
       "16   2.544    3        0.80        -3.8160 NA\n",
       "17   665.88   6        0.00        13.3176 NA\n",
       "18   55.5     2        0.00         9.9900 NA\n",
       "19   8.56     2        0.00         2.4824 NA\n",
       "20   213.48   3        0.20        16.0110 NA\n",
       "21   22.72    4        0.20         7.3840 NA\n",
       "22   19.46    7        0.00         5.0596 NA\n",
       "23   60.34    7        0.00        15.6884 NA\n",
       "24   71.372   2        0.30        -1.0196 NA\n",
       "25   1044.63  3        0.00       240.2649 NA\n",
       "26   11.648   2        0.20         4.2224 NA\n",
       "27   90.57    3        0.00        11.7741 NA\n",
       "28   3083.43  7        0.50     -1665.0522 NA\n",
       "29   9.618    2        0.70        -7.0532 NA\n",
       "30   124.2    3        0.20        15.5250 NA\n",
       "⋮    ⋮        ⋮        ⋮        ⋮          ⋮ \n",
       "9965 13.4      1       0.0        6.4320   NA\n",
       "9966 4.98      1       0.0        2.3406   NA\n",
       "9967 109.69    7       0.0       51.5543   NA\n",
       "9968 40.2      5       0.0       18.0900   NA\n",
       "9969 735.98    2       0.0      331.1910   NA\n",
       "9970 22.75     7       0.0        6.5975   NA\n",
       "9971 119.56    2       0.0       54.9976   NA\n",
       "9972 140.75    5       0.0       42.2250   NA\n",
       "9973 99.568    2       0.2       33.6042   NA\n",
       "9974 271.96    5       0.2       27.1960   NA\n",
       "9975 18.69     7       0.0        5.2332   NA\n",
       "9976 13.36     2       0.0        6.4128   NA\n",
       "9977 249.584   2       0.2       31.1980   NA\n",
       "9978 13.86     7       0.0        0.0000   NA\n",
       "9979 13.376    4       0.2        4.6816   NA\n",
       "9980 437.472  14       0.2      153.1152   NA\n",
       "9981 85.98     1       0.0       22.3548   NA\n",
       "9982 16.52     5       0.2        5.3690   NA\n",
       "9983 35.56     7       0.0       16.7132   NA\n",
       "9984 97.98     2       0.0       27.4344   NA\n",
       "9985 31.5     10       0.0       15.1200   NA\n",
       "9986 55.6      4       0.0       16.1240   NA\n",
       "9987 36.24     1       0.0       15.2208   NA\n",
       "9988 79.99     1       0.0       28.7964   NA\n",
       "9989 206.1     5       0.0       55.6470   NA\n",
       "9990 25.248    3       0.2        4.1028   NA\n",
       "9991 91.96     2       0.0       15.6332   NA\n",
       "9992 258.576   2       0.2       19.3932   NA\n",
       "9993 29.6      4       0.0       13.3200   NA\n",
       "9994 243.16    2       0.0       72.9480   NA"
      ]
     },
     "metadata": {},
     "output_type": "display_data"
    }
   ],
   "source": [
    "# first good look of dataset with tidy manner\n",
    "View(x)"
   ]
  },
  {
   "cell_type": "markdown",
   "id": "336c4c79-2e11-44bf-811e-85ebfb94b57b",
   "metadata": {},
   "source": [
    "##### now its time to deeply understnd the dataset"
   ]
  },
  {
   "cell_type": "code",
   "execution_count": 7,
   "id": "59cbdbd6-40d6-439b-a9bf-e76e1307072f",
   "metadata": {},
   "outputs": [
    {
     "data": {
      "text/html": [
       "<style>\n",
       ".list-inline {list-style: none; margin:0; padding: 0}\n",
       ".list-inline>li {display: inline-block}\n",
       ".list-inline>li:not(:last-child)::after {content: \"\\00b7\"; padding: 0 .5ex}\n",
       "</style>\n",
       "<ol class=list-inline><li>9994</li><li>22</li></ol>\n"
      ],
      "text/latex": [
       "\\begin{enumerate*}\n",
       "\\item 9994\n",
       "\\item 22\n",
       "\\end{enumerate*}\n"
      ],
      "text/markdown": [
       "1. 9994\n",
       "2. 22\n",
       "\n",
       "\n"
      ],
      "text/plain": [
       "[1] 9994   22"
      ]
     },
     "metadata": {},
     "output_type": "display_data"
    }
   ],
   "source": [
    "# see the dimenstion of the dataset\n",
    "dim(x)"
   ]
  },
  {
   "cell_type": "markdown",
   "id": "d3842f99-a9c7-43ff-9352-91fc8b2b2050",
   "metadata": {},
   "source": [
    "##### wooow ! the dataset have 9994 observations and 22 variables"
   ]
  },
  {
   "cell_type": "code",
   "execution_count": 8,
   "id": "7ff42675-a49b-4d35-bfb2-2593dc5ebbd4",
   "metadata": {},
   "outputs": [
    {
     "data": {
      "text/html": [
       "22"
      ],
      "text/latex": [
       "22"
      ],
      "text/markdown": [
       "22"
      ],
      "text/plain": [
       "[1] 22"
      ]
     },
     "metadata": {},
     "output_type": "display_data"
    }
   ],
   "source": [
    "# let see how many variable are there\n",
    "length(x)"
   ]
  },
  {
   "cell_type": "code",
   "execution_count": 9,
   "id": "c515d34a-0157-4dd8-819a-d3cc188bec97",
   "metadata": {},
   "outputs": [
    {
     "data": {
      "text/html": [
       "<style>\n",
       ".list-inline {list-style: none; margin:0; padding: 0}\n",
       ".list-inline>li {display: inline-block}\n",
       ".list-inline>li:not(:last-child)::after {content: \"\\00b7\"; padding: 0 .5ex}\n",
       "</style>\n",
       "<ol class=list-inline><li>'row_id'</li><li>'order_id'</li><li>'order_date'</li><li>'ship_date'</li><li>'ship_mode'</li><li>'customer_id'</li><li>'customer_name'</li><li>'segment'</li><li>'country'</li><li>'city'</li><li>'state'</li><li>'postal_code'</li><li>'region'</li><li>'product_id'</li><li>'category'</li><li>'sub_category'</li><li>'product_name'</li><li>'sales'</li><li>'quantity'</li><li>'discount'</li><li>'profit'</li><li>'X'</li></ol>\n"
      ],
      "text/latex": [
       "\\begin{enumerate*}\n",
       "\\item 'row\\_id'\n",
       "\\item 'order\\_id'\n",
       "\\item 'order\\_date'\n",
       "\\item 'ship\\_date'\n",
       "\\item 'ship\\_mode'\n",
       "\\item 'customer\\_id'\n",
       "\\item 'customer\\_name'\n",
       "\\item 'segment'\n",
       "\\item 'country'\n",
       "\\item 'city'\n",
       "\\item 'state'\n",
       "\\item 'postal\\_code'\n",
       "\\item 'region'\n",
       "\\item 'product\\_id'\n",
       "\\item 'category'\n",
       "\\item 'sub\\_category'\n",
       "\\item 'product\\_name'\n",
       "\\item 'sales'\n",
       "\\item 'quantity'\n",
       "\\item 'discount'\n",
       "\\item 'profit'\n",
       "\\item 'X'\n",
       "\\end{enumerate*}\n"
      ],
      "text/markdown": [
       "1. 'row_id'\n",
       "2. 'order_id'\n",
       "3. 'order_date'\n",
       "4. 'ship_date'\n",
       "5. 'ship_mode'\n",
       "6. 'customer_id'\n",
       "7. 'customer_name'\n",
       "8. 'segment'\n",
       "9. 'country'\n",
       "10. 'city'\n",
       "11. 'state'\n",
       "12. 'postal_code'\n",
       "13. 'region'\n",
       "14. 'product_id'\n",
       "15. 'category'\n",
       "16. 'sub_category'\n",
       "17. 'product_name'\n",
       "18. 'sales'\n",
       "19. 'quantity'\n",
       "20. 'discount'\n",
       "21. 'profit'\n",
       "22. 'X'\n",
       "\n",
       "\n"
      ],
      "text/plain": [
       " [1] \"row_id\"        \"order_id\"      \"order_date\"    \"ship_date\"    \n",
       " [5] \"ship_mode\"     \"customer_id\"   \"customer_name\" \"segment\"      \n",
       " [9] \"country\"       \"city\"          \"state\"         \"postal_code\"  \n",
       "[13] \"region\"        \"product_id\"    \"category\"      \"sub_category\" \n",
       "[17] \"product_name\"  \"sales\"         \"quantity\"      \"discount\"     \n",
       "[21] \"profit\"        \"X\"            "
      ]
     },
     "metadata": {},
     "output_type": "display_data"
    }
   ],
   "source": [
    "# let see all the names of the 22 variables \n",
    "names(x)"
   ]
  },
  {
   "cell_type": "code",
   "execution_count": 10,
   "id": "b6c549ef-0550-462d-b75e-790cb3ea5ce3",
   "metadata": {},
   "outputs": [
    {
     "name": "stdout",
     "output_type": "stream",
     "text": [
      "Rows: 9,994\n",
      "Columns: 22\n",
      "$ row_id        \u001b[3m\u001b[90m<int>\u001b[39m\u001b[23m 1, 2, 3, 4, 5, 6, 7, 8, 9, 10, 11, 12, 13, 14, 15, 16, 1…\n",
      "$ order_id      \u001b[3m\u001b[90m<chr>\u001b[39m\u001b[23m \"CA-2016-152156\", \"CA-2016-152156\", \"CA-2016-138688\", \"U…\n",
      "$ order_date    \u001b[3m\u001b[90m<chr>\u001b[39m\u001b[23m \"11/8/2016\", \"11/8/2016\", \"6/12/2016\", \"10/11/2015\", \"10…\n",
      "$ ship_date     \u001b[3m\u001b[90m<chr>\u001b[39m\u001b[23m \"11/11/2016\", \"11/11/2016\", \"6/16/2016\", \"10/18/2015\", \"…\n",
      "$ ship_mode     \u001b[3m\u001b[90m<chr>\u001b[39m\u001b[23m \"Second Class\", \"Second Class\", \"Second Class\", \"Standar…\n",
      "$ customer_id   \u001b[3m\u001b[90m<chr>\u001b[39m\u001b[23m \"CG-12520\", \"CG-12520\", \"DV-13045\", \"SO-20335\", \"SO-2033…\n",
      "$ customer_name \u001b[3m\u001b[90m<chr>\u001b[39m\u001b[23m \"Claire Gute\", \"Claire Gute\", \"Darrin Van Huff\", \"Sean O…\n",
      "$ segment       \u001b[3m\u001b[90m<chr>\u001b[39m\u001b[23m \"Consumer\", \"Consumer\", \"Corporate\", \"Consumer\", \"Consum…\n",
      "$ country       \u001b[3m\u001b[90m<chr>\u001b[39m\u001b[23m \"United States\", \"United States\", \"United States\", \"Unit…\n",
      "$ city          \u001b[3m\u001b[90m<chr>\u001b[39m\u001b[23m \"Henderson\", \"Henderson\", \"Los Angeles\", \"Fort Lauderdal…\n",
      "$ state         \u001b[3m\u001b[90m<chr>\u001b[39m\u001b[23m \"Kentucky\", \"Kentucky\", \"California\", \"Florida\", \"Florid…\n",
      "$ postal_code   \u001b[3m\u001b[90m<int>\u001b[39m\u001b[23m 42420, 42420, 90036, 33311, 33311, 90032, 90032, 90032, …\n",
      "$ region        \u001b[3m\u001b[90m<chr>\u001b[39m\u001b[23m \"South\", \"South\", \"West\", \"South\", \"South\", \"West\", \"Wes…\n",
      "$ product_id    \u001b[3m\u001b[90m<chr>\u001b[39m\u001b[23m \"FUR-BO-10001798\", \"FUR-CH-10000454\", \"OFF-LA-10000240\",…\n",
      "$ category      \u001b[3m\u001b[90m<chr>\u001b[39m\u001b[23m \"Furniture\", \"Furniture\", \"Office Supplies\", \"Furniture\"…\n",
      "$ sub_category  \u001b[3m\u001b[90m<chr>\u001b[39m\u001b[23m \"Bookcases\", \"Chairs\", \"Labels\", \"Tables\", \"Storage\", \"F…\n",
      "$ product_name  \u001b[3m\u001b[90m<chr>\u001b[39m\u001b[23m \"Bush Somerset Collection Bookcase\", \"Hon Deluxe Fabric …\n",
      "$ sales         \u001b[3m\u001b[90m<chr>\u001b[39m\u001b[23m \"261.96\", \"731.94\", \"14.62\", \"957.5775\", \"22.368\", \"48.8…\n",
      "$ quantity      \u001b[3m\u001b[90m<dbl>\u001b[39m\u001b[23m 2, 3, 2, 5, 2, 7, 4, 6, 3, 5, 9, 4, 3, 3, 5, 3, 6, 2, 2,…\n",
      "$ discount      \u001b[3m\u001b[90m<dbl>\u001b[39m\u001b[23m 0.00, 0.00, 0.00, 0.45, 0.20, 0.00, 0.00, 0.20, 0.20, 0.…\n",
      "$ profit        \u001b[3m\u001b[90m<dbl>\u001b[39m\u001b[23m 41.9136, 219.5820, 6.8714, -383.0310, 2.5164, 14.1694, 1…\n",
      "$ X             \u001b[3m\u001b[90m<dbl>\u001b[39m\u001b[23m NA, NA, NA, NA, NA, NA, NA, NA, NA, NA, NA, NA, NA, NA, …\n"
     ]
    }
   ],
   "source": [
    "# let see what is the structure and datatype of variables \n",
    "glimpse(x)"
   ]
  },
  {
   "cell_type": "markdown",
   "id": "59c18e14-55c1-4dfe-a839-6c9594665957",
   "metadata": {},
   "source": [
    "##### wow ! there is 9994 observations and 22 variables"
   ]
  },
  {
   "cell_type": "code",
   "execution_count": 11,
   "id": "7d0a83c9-8cbc-4455-bb38-f75378d77e9e",
   "metadata": {},
   "outputs": [
    {
     "data": {
      "text/html": [
       "'character'"
      ],
      "text/latex": [
       "'character'"
      ],
      "text/markdown": [
       "'character'"
      ],
      "text/plain": [
       "[1] \"character\""
      ]
     },
     "metadata": {},
     "output_type": "display_data"
    },
    {
     "data": {
      "text/html": [
       "'character'"
      ],
      "text/latex": [
       "'character'"
      ],
      "text/markdown": [
       "'character'"
      ],
      "text/plain": [
       "[1] \"character\""
      ]
     },
     "metadata": {},
     "output_type": "display_data"
    },
    {
     "data": {
      "text/html": [
       "'character'"
      ],
      "text/latex": [
       "'character'"
      ],
      "text/markdown": [
       "'character'"
      ],
      "text/plain": [
       "[1] \"character\""
      ]
     },
     "metadata": {},
     "output_type": "display_data"
    }
   ],
   "source": [
    "# let point it out all the improper datatype of variable\n",
    "class(x$order_date)\n",
    "class(x$ship_date)\n",
    "class(x$sales)          "
   ]
  },
  {
   "cell_type": "code",
   "execution_count": 12,
   "id": "7783bbd6-1439-44cb-a8f2-c73d63f0f915",
   "metadata": {},
   "outputs": [
    {
     "data": {
      "text/html": [
       "9994"
      ],
      "text/latex": [
       "9994"
      ],
      "text/markdown": [
       "9994"
      ],
      "text/plain": [
       "[1] 9994"
      ]
     },
     "metadata": {},
     "output_type": "display_data"
    },
    {
     "data": {
      "text/html": [
       "9994"
      ],
      "text/latex": [
       "9994"
      ],
      "text/markdown": [
       "9994"
      ],
      "text/plain": [
       "[1] 9994"
      ]
     },
     "metadata": {},
     "output_type": "display_data"
    },
    {
     "data": {
      "text/html": [
       "9994"
      ],
      "text/latex": [
       "9994"
      ],
      "text/markdown": [
       "9994"
      ],
      "text/plain": [
       "[1] 9994"
      ]
     },
     "metadata": {},
     "output_type": "display_data"
    }
   ],
   "source": [
    "# do some prove for no of obs.\n",
    "length(x$profit)\n",
    "length(x$segment)\n",
    "length(x$discount)"
   ]
  },
  {
   "cell_type": "markdown",
   "id": "4407d12e-fd33-454c-9f21-ab31e97b87ba",
   "metadata": {},
   "source": [
    "##### let see some on the segment data"
   ]
  },
  {
   "cell_type": "code",
   "execution_count": 13,
   "id": "5a3e38f9-d0cd-4013-abdc-e82a35ce5085",
   "metadata": {},
   "outputs": [
    {
     "data": {
      "text/html": [
       "<style>\n",
       ".list-inline {list-style: none; margin:0; padding: 0}\n",
       ".list-inline>li {display: inline-block}\n",
       ".list-inline>li:not(:last-child)::after {content: \"\\00b7\"; padding: 0 .5ex}\n",
       "</style>\n",
       "<ol class=list-inline><li>'Consumer'</li><li>'Corporate'</li><li>'Home Office'</li></ol>\n"
      ],
      "text/latex": [
       "\\begin{enumerate*}\n",
       "\\item 'Consumer'\n",
       "\\item 'Corporate'\n",
       "\\item 'Home Office'\n",
       "\\end{enumerate*}\n"
      ],
      "text/markdown": [
       "1. 'Consumer'\n",
       "2. 'Corporate'\n",
       "3. 'Home Office'\n",
       "\n",
       "\n"
      ],
      "text/plain": [
       "[1] \"Consumer\"    \"Corporate\"   \"Home Office\""
      ]
     },
     "metadata": {},
     "output_type": "display_data"
    }
   ],
   "source": [
    "# let see the unique values in some variable matrix\n",
    "unique(x$segment)"
   ]
  },
  {
   "cell_type": "code",
   "execution_count": 14,
   "id": "f755b2e4-9805-43dc-85d8-dea77ce9c759",
   "metadata": {},
   "outputs": [
    {
     "data": {
      "text/plain": [
       "\n",
       "   Consumer   Corporate Home Office \n",
       "       5191        3020        1783 "
      ]
     },
     "metadata": {},
     "output_type": "display_data"
    }
   ],
   "source": [
    "# let see the frequency of the segment variable\n",
    "table(x$segment)"
   ]
  },
  {
   "cell_type": "code",
   "execution_count": 15,
   "id": "2a5adab3-da87-49a3-8a15-18537a355b70",
   "metadata": {},
   "outputs": [
    {
     "data": {
      "text/html": [
       "<style>\n",
       ".dl-inline {width: auto; margin:0; padding: 0}\n",
       ".dl-inline>dt, .dl-inline>dd {float: none; width: auto; display: inline-block}\n",
       ".dl-inline>dt::after {content: \":\\0020\"; padding-right: .5ex}\n",
       ".dl-inline>dt:not(:first-of-type) {padding-left: .5ex}\n",
       "</style><dl class=dl-inline><dt>Home Office</dt><dd>-1783</dd><dt>Corporate</dt><dd>-3020</dd><dt>Consumer</dt><dd>-5191</dd></dl>\n"
      ],
      "text/latex": [
       "\\begin{description*}\n",
       "\\item[Home Office] -1783\n",
       "\\item[Corporate] -3020\n",
       "\\item[Consumer] -5191\n",
       "\\end{description*}\n"
      ],
      "text/markdown": [
       "Home Office\n",
       ":   -1783Corporate\n",
       ":   -3020Consumer\n",
       ":   -5191\n",
       "\n"
      ],
      "text/plain": [
       "\n",
       "Home Office   Corporate    Consumer \n",
       "      -1783       -3020       -5191 "
      ]
     },
     "metadata": {},
     "output_type": "display_data"
    }
   ],
   "source": [
    "desc(sort(table(x$segment)))"
   ]
  },
  {
   "cell_type": "code",
   "execution_count": 16,
   "id": "0d09e3f3-e8f5-464a-9a10-e59ec7cf8422",
   "metadata": {},
   "outputs": [
    {
     "data": {
      "text/plain": [
       "\n",
       "   Consumer   Corporate Home Office \n",
       "       5191        3020        1783 "
      ]
     },
     "metadata": {},
     "output_type": "display_data"
    }
   ],
   "source": [
    "# let see with tidy manner\n",
    "View(sort(table(x$segment),decreasing = TRUE))"
   ]
  },
  {
   "cell_type": "code",
   "execution_count": 17,
   "id": "7013d298-63eb-4b37-8cb4-8c23cddf5d6e",
   "metadata": {},
   "outputs": [
    {
     "data": {
      "image/png": "[encoded data removed]",
      "text/plain": [
       "plot without title"
      ]
     },
     "metadata": {
      "image/png": {
       "height": 420,
       "width": 420
      }
     },
     "output_type": "display_data"
    }
   ],
   "source": [
    "# let see by graph \n",
    "barplot(sort(table(x$segment),decreasing = TRUE))"
   ]
  },
  {
   "cell_type": "code",
   "execution_count": 20,
   "id": "76b1b4da-8875-49e8-81b1-5c13954d607e",
   "metadata": {},
   "outputs": [
    {
     "data": {
      "text/html": [
       "<style>\n",
       ".dl-inline {width: auto; margin:0; padding: 0}\n",
       ".dl-inline>dt, .dl-inline>dd {float: none; width: auto; display: inline-block}\n",
       ".dl-inline>dt::after {content: \":\\0020\"; padding-right: .5ex}\n",
       ".dl-inline>dt:not(:first-of-type) {padding-left: .5ex}\n",
       "</style><dl class=dl-inline><dt>First Class</dt><dd>-1538</dd><dt>Same Day</dt><dd>-543</dd><dt>Second Class</dt><dd>-1945</dd><dt>Standard Class</dt><dd>-5968</dd></dl>\n"
      ],
      "text/latex": [
       "\\begin{description*}\n",
       "\\item[First Class] -1538\n",
       "\\item[Same Day] -543\n",
       "\\item[Second Class] -1945\n",
       "\\item[Standard Class] -5968\n",
       "\\end{description*}\n"
      ],
      "text/markdown": [
       "First Class\n",
       ":   -1538Same Day\n",
       ":   -543Second Class\n",
       ":   -1945Standard Class\n",
       ":   -5968\n",
       "\n"
      ],
      "text/plain": [
       "\n",
       "   First Class       Same Day   Second Class Standard Class \n",
       "         -1538           -543          -1945          -5968 "
      ]
     },
     "metadata": {},
     "output_type": "display_data"
    }
   ],
   "source": [
    "# let see the ship_mode matrix\n",
    "desc(table(x$ship_mode))"
   ]
  },
  {
   "cell_type": "code",
   "execution_count": 24,
   "id": "2e63b572-4309-41bb-9012-8739c79095b3",
   "metadata": {},
   "outputs": [
    {
     "data": {
      "image/png": "[encoded data removed]",
      "text/plain": [
       "plot without title"
      ]
     },
     "metadata": {
      "image/png": {
       "height": 420,
       "width": 420
      }
     },
     "output_type": "display_data"
    }
   ],
   "source": [
    "# let observe by grap of ship mode\n",
    "barplot(table(x$ship_mode))"
   ]
  },
  {
   "cell_type": "code",
   "execution_count": 25,
   "id": "0ceddc33-0644-4b0d-a03f-647320d9fb01",
   "metadata": {},
   "outputs": [
    {
     "data": {
      "text/html": [
       "<style>\n",
       ".dl-inline {width: auto; margin:0; padding: 0}\n",
       ".dl-inline>dt, .dl-inline>dd {float: none; width: auto; display: inline-block}\n",
       ".dl-inline>dt::after {content: \":\\0020\"; padding-right: .5ex}\n",
       ".dl-inline>dt:not(:first-of-type) {padding-left: .5ex}\n",
       "</style><dl class=dl-inline><dt>Alabama</dt><dd>-61</dd><dt>Arizona</dt><dd>-224</dd><dt>Arkansas</dt><dd>-60</dd><dt>California</dt><dd>-2001</dd><dt>Colorado</dt><dd>-182</dd><dt>Connecticut</dt><dd>-82</dd><dt>Delaware</dt><dd>-96</dd><dt>District of Columbia</dt><dd>-10</dd><dt>Florida</dt><dd>-383</dd><dt>Georgia</dt><dd>-184</dd><dt>Idaho</dt><dd>-21</dd><dt>Illinois</dt><dd>-492</dd><dt>Indiana</dt><dd>-149</dd><dt>Iowa</dt><dd>-30</dd><dt>Kansas</dt><dd>-24</dd><dt>Kentucky</dt><dd>-139</dd><dt>Louisiana</dt><dd>-42</dd><dt>Maine</dt><dd>-8</dd><dt>Maryland</dt><dd>-105</dd><dt>Massachusetts</dt><dd>-135</dd><dt>Michigan</dt><dd>-255</dd><dt>Minnesota</dt><dd>-89</dd><dt>Mississippi</dt><dd>-53</dd><dt>Missouri</dt><dd>-66</dd><dt>Montana</dt><dd>-15</dd><dt>Nebraska</dt><dd>-38</dd><dt>Nevada</dt><dd>-39</dd><dt>New Hampshire</dt><dd>-27</dd><dt>New Jersey</dt><dd>-130</dd><dt>New Mexico</dt><dd>-37</dd><dt>New York</dt><dd>-1128</dd><dt>North Carolina</dt><dd>-249</dd><dt>North Dakota</dt><dd>-7</dd><dt>Ohio</dt><dd>-469</dd><dt>Oklahoma</dt><dd>-66</dd><dt>Oregon</dt><dd>-124</dd><dt>Pennsylvania</dt><dd>-587</dd><dt>Rhode Island</dt><dd>-56</dd><dt>South Carolina</dt><dd>-42</dd><dt>South Dakota</dt><dd>-12</dd><dt>Tennessee</dt><dd>-183</dd><dt>Texas</dt><dd>-985</dd><dt>Utah</dt><dd>-53</dd><dt>Vermont</dt><dd>-11</dd><dt>Virginia</dt><dd>-224</dd><dt>Washington</dt><dd>-506</dd><dt>West Virginia</dt><dd>-4</dd><dt>Wisconsin</dt><dd>-110</dd><dt>Wyoming</dt><dd>-1</dd></dl>\n"
      ],
      "text/latex": [
       "\\begin{description*}\n",
       "\\item[Alabama] -61\n",
       "\\item[Arizona] -224\n",
       "\\item[Arkansas] -60\n",
       "\\item[California] -2001\n",
       "\\item[Colorado] -182\n",
       "\\item[Connecticut] -82\n",
       "\\item[Delaware] -96\n",
       "\\item[District of Columbia] -10\n",
       "\\item[Florida] -383\n",
       "\\item[Georgia] -184\n",
       "\\item[Idaho] -21\n",
       "\\item[Illinois] -492\n",
       "\\item[Indiana] -149\n",
       "\\item[Iowa] -30\n",
       "\\item[Kansas] -24\n",
       "\\item[Kentucky] -139\n",
       "\\item[Louisiana] -42\n",
       "\\item[Maine] -8\n",
       "\\item[Maryland] -105\n",
       "\\item[Massachusetts] -135\n",
       "\\item[Michigan] -255\n",
       "\\item[Minnesota] -89\n",
       "\\item[Mississippi] -53\n",
       "\\item[Missouri] -66\n",
       "\\item[Montana] -15\n",
       "\\item[Nebraska] -38\n",
       "\\item[Nevada] -39\n",
       "\\item[New Hampshire] -27\n",
       "\\item[New Jersey] -130\n",
       "\\item[New Mexico] -37\n",
       "\\item[New York] -1128\n",
       "\\item[North Carolina] -249\n",
       "\\item[North Dakota] -7\n",
       "\\item[Ohio] -469\n",
       "\\item[Oklahoma] -66\n",
       "\\item[Oregon] -124\n",
       "\\item[Pennsylvania] -587\n",
       "\\item[Rhode Island] -56\n",
       "\\item[South Carolina] -42\n",
       "\\item[South Dakota] -12\n",
       "\\item[Tennessee] -183\n",
       "\\item[Texas] -985\n",
       "\\item[Utah] -53\n",
       "\\item[Vermont] -11\n",
       "\\item[Virginia] -224\n",
       "\\item[Washington] -506\n",
       "\\item[West Virginia] -4\n",
       "\\item[Wisconsin] -110\n",
       "\\item[Wyoming] -1\n",
       "\\end{description*}\n"
      ],
      "text/markdown": [
       "Alabama\n",
       ":   -61Arizona\n",
       ":   -224Arkansas\n",
       ":   -60California\n",
       ":   -2001Colorado\n",
       ":   -182Connecticut\n",
       ":   -82Delaware\n",
       ":   -96District of Columbia\n",
       ":   -10Florida\n",
       ":   -383Georgia\n",
       ":   -184Idaho\n",
       ":   -21Illinois\n",
       ":   -492Indiana\n",
       ":   -149Iowa\n",
       ":   -30Kansas\n",
       ":   -24Kentucky\n",
       ":   -139Louisiana\n",
       ":   -42Maine\n",
       ":   -8Maryland\n",
       ":   -105Massachusetts\n",
       ":   -135Michigan\n",
       ":   -255Minnesota\n",
       ":   -89Mississippi\n",
       ":   -53Missouri\n",
       ":   -66Montana\n",
       ":   -15Nebraska\n",
       ":   -38Nevada\n",
       ":   -39New Hampshire\n",
       ":   -27New Jersey\n",
       ":   -130New Mexico\n",
       ":   -37New York\n",
       ":   -1128North Carolina\n",
       ":   -249North Dakota\n",
       ":   -7Ohio\n",
       ":   -469Oklahoma\n",
       ":   -66Oregon\n",
       ":   -124Pennsylvania\n",
       ":   -587Rhode Island\n",
       ":   -56South Carolina\n",
       ":   -42South Dakota\n",
       ":   -12Tennessee\n",
       ":   -183Texas\n",
       ":   -985Utah\n",
       ":   -53Vermont\n",
       ":   -11Virginia\n",
       ":   -224Washington\n",
       ":   -506West Virginia\n",
       ":   -4Wisconsin\n",
       ":   -110Wyoming\n",
       ":   -1\n",
       "\n"
      ],
      "text/plain": [
       "\n",
       "             Alabama              Arizona             Arkansas \n",
       "                 -61                 -224                  -60 \n",
       "          California             Colorado          Connecticut \n",
       "               -2001                 -182                  -82 \n",
       "            Delaware District of Columbia              Florida \n",
       "                 -96                  -10                 -383 \n",
       "             Georgia                Idaho             Illinois \n",
       "                -184                  -21                 -492 \n",
       "             Indiana                 Iowa               Kansas \n",
       "                -149                  -30                  -24 \n",
       "            Kentucky            Louisiana                Maine \n",
       "                -139                  -42                   -8 \n",
       "            Maryland        Massachusetts             Michigan \n",
       "                -105                 -135                 -255 \n",
       "           Minnesota          Mississippi             Missouri \n",
       "                 -89                  -53                  -66 \n",
       "             Montana             Nebraska               Nevada \n",
       "                 -15                  -38                  -39 \n",
       "       New Hampshire           New Jersey           New Mexico \n",
       "                 -27                 -130                  -37 \n",
       "            New York       North Carolina         North Dakota \n",
       "               -1128                 -249                   -7 \n",
       "                Ohio             Oklahoma               Oregon \n",
       "                -469                  -66                 -124 \n",
       "        Pennsylvania         Rhode Island       South Carolina \n",
       "                -587                  -56                  -42 \n",
       "        South Dakota            Tennessee                Texas \n",
       "                 -12                 -183                 -985 \n",
       "                Utah              Vermont             Virginia \n",
       "                 -53                  -11                 -224 \n",
       "          Washington        West Virginia            Wisconsin \n",
       "                -506                   -4                 -110 \n",
       "             Wyoming \n",
       "                  -1 "
      ]
     },
     "metadata": {},
     "output_type": "display_data"
    }
   ],
   "source": [
    "# let see the state matrix\n",
    "desc(table(x$state))"
   ]
  },
  {
   "cell_type": "code",
   "execution_count": 32,
   "id": "0fc3a5b0-a6a1-475e-878c-43fdfff675aa",
   "metadata": {},
   "outputs": [
    {
     "data": {
      "image/png": "[encoded data removed]",
      "text/plain": [
       "plot without title"
      ]
     },
     "metadata": {
      "image/png": {
       "height": 420,
       "width": 420
      }
     },
     "output_type": "display_data"
    }
   ],
   "source": [
    "#let see the region vector\n",
    "barplot(table(x$region))"
   ]
  },
  {
   "cell_type": "code",
   "execution_count": 43,
   "id": "4fc06e7c-cd0b-4e98-9484-008af1c15420",
   "metadata": {},
   "outputs": [
    {
     "data": {
      "text/html": [
       "<style>\n",
       ".dl-inline {width: auto; margin:0; padding: 0}\n",
       ".dl-inline>dt, .dl-inline>dd {float: none; width: auto; display: inline-block}\n",
       ".dl-inline>dt::after {content: \":\\0020\"; padding-right: .5ex}\n",
       ".dl-inline>dt:not(:first-of-type) {padding-left: .5ex}\n",
       "</style><dl class=dl-inline><dt>Furniture</dt><dd>-2121</dd><dt>Office Supplies</dt><dd>-6026</dd><dt>Technology</dt><dd>-1847</dd></dl>\n"
      ],
      "text/latex": [
       "\\begin{description*}\n",
       "\\item[Furniture] -2121\n",
       "\\item[Office Supplies] -6026\n",
       "\\item[Technology] -1847\n",
       "\\end{description*}\n"
      ],
      "text/markdown": [
       "Furniture\n",
       ":   -2121Office Supplies\n",
       ":   -6026Technology\n",
       ":   -1847\n",
       "\n"
      ],
      "text/plain": [
       "\n",
       "      Furniture Office Supplies      Technology \n",
       "          -2121           -6026           -1847 "
      ]
     },
     "metadata": {},
     "output_type": "display_data"
    }
   ],
   "source": [
    "# let see the category vecto\n",
    "desc(table(x$category))"
   ]
  },
  {
   "cell_type": "code",
   "execution_count": 44,
   "id": "a812d9b6-bdad-4305-9a5a-c9d0ce45b7a4",
   "metadata": {},
   "outputs": [
    {
     "data": {
      "image/png": "[encoded data removed]",
      "text/plain": [
       "plot without title"
      ]
     },
     "metadata": {
      "image/png": {
       "height": 420,
       "width": 420
      }
     },
     "output_type": "display_data"
    }
   ],
   "source": [
    "# let see category vector by graph\n",
    "barplot((table(x$category)))"
   ]
  },
  {
   "cell_type": "code",
   "execution_count": 46,
   "id": "def82b18-6cb9-4083-90b0-ed9fa5fcba5f",
   "metadata": {},
   "outputs": [
    {
     "data": {
      "text/html": [
       "<style>\n",
       ".dl-inline {width: auto; margin:0; padding: 0}\n",
       ".dl-inline>dt, .dl-inline>dd {float: none; width: auto; display: inline-block}\n",
       ".dl-inline>dt::after {content: \":\\0020\"; padding-right: .5ex}\n",
       ".dl-inline>dt:not(:first-of-type) {padding-left: .5ex}\n",
       "</style><dl class=dl-inline><dt>Accessories</dt><dd>-775</dd><dt>Appliances</dt><dd>-466</dd><dt>Art</dt><dd>-796</dd><dt>Binders</dt><dd>-1523</dd><dt>Bookcases</dt><dd>-228</dd><dt>Chairs</dt><dd>-617</dd><dt>Copiers</dt><dd>-68</dd><dt>Envelopes</dt><dd>-254</dd><dt>Fasteners</dt><dd>-217</dd><dt>Furnishings</dt><dd>-957</dd><dt>Labels</dt><dd>-364</dd><dt>Machines</dt><dd>-115</dd><dt>Paper</dt><dd>-1370</dd><dt>Phones</dt><dd>-889</dd><dt>Storage</dt><dd>-846</dd><dt>Supplies</dt><dd>-190</dd><dt>Tables</dt><dd>-319</dd></dl>\n"
      ],
      "text/latex": [
       "\\begin{description*}\n",
       "\\item[Accessories] -775\n",
       "\\item[Appliances] -466\n",
       "\\item[Art] -796\n",
       "\\item[Binders] -1523\n",
       "\\item[Bookcases] -228\n",
       "\\item[Chairs] -617\n",
       "\\item[Copiers] -68\n",
       "\\item[Envelopes] -254\n",
       "\\item[Fasteners] -217\n",
       "\\item[Furnishings] -957\n",
       "\\item[Labels] -364\n",
       "\\item[Machines] -115\n",
       "\\item[Paper] -1370\n",
       "\\item[Phones] -889\n",
       "\\item[Storage] -846\n",
       "\\item[Supplies] -190\n",
       "\\item[Tables] -319\n",
       "\\end{description*}\n"
      ],
      "text/markdown": [
       "Accessories\n",
       ":   -775Appliances\n",
       ":   -466Art\n",
       ":   -796Binders\n",
       ":   -1523Bookcases\n",
       ":   -228Chairs\n",
       ":   -617Copiers\n",
       ":   -68Envelopes\n",
       ":   -254Fasteners\n",
       ":   -217Furnishings\n",
       ":   -957Labels\n",
       ":   -364Machines\n",
       ":   -115Paper\n",
       ":   -1370Phones\n",
       ":   -889Storage\n",
       ":   -846Supplies\n",
       ":   -190Tables\n",
       ":   -319\n",
       "\n"
      ],
      "text/plain": [
       "\n",
       "Accessories  Appliances         Art     Binders   Bookcases      Chairs \n",
       "       -775        -466        -796       -1523        -228        -617 \n",
       "    Copiers   Envelopes   Fasteners Furnishings      Labels    Machines \n",
       "        -68        -254        -217        -957        -364        -115 \n",
       "      Paper      Phones     Storage    Supplies      Tables \n",
       "      -1370        -889        -846        -190        -319 "
      ]
     },
     "metadata": {},
     "output_type": "display_data"
    }
   ],
   "source": [
    "# let see the sub_category vector\n",
    "desc(table(x$sub_category))"
   ]
  },
  {
   "cell_type": "markdown",
   "id": "bd975e31-29eb-481e-90ee-3a25c022c851",
   "metadata": {},
   "source": [
    "##### **NULL values** \n",
    "###### it is very important to see the NULL / NA values in the data set . for larger number of frequency I have to take some another steps to identify those NULL values. "
   ]
  },
  {
   "cell_type": "code",
   "execution_count": 51,
   "id": "3cd8521a-dc61-4b87-9ec0-9d7ccf6718e4",
   "metadata": {},
   "outputs": [
    {
     "name": "stderr",
     "output_type": "stream",
     "text": [
      "Warning message in cbind(parts$left, chars$ellip_h, parts$right, deparse.level = 0L):\n",
      "\"number of rows of result is not a multiple of vector length (arg 2)\"\n",
      "Warning message in cbind(parts$left, chars$ellip_h, parts$right, deparse.level = 0L):\n",
      "\"number of rows of result is not a multiple of vector length (arg 2)\"\n",
      "Warning message in cbind(parts$left, chars$ellip_h, parts$right, deparse.level = 0L):\n",
      "\"number of rows of result is not a multiple of vector length (arg 2)\"\n",
      "Warning message in cbind(parts$left, chars$ellip_h, parts$right, deparse.level = 0L):\n",
      "\"number of rows of result is not a multiple of vector length (arg 2)\"\n"
     ]
    },
    {
     "data": {
      "text/html": [
       "<table class=\"dataframe\">\n",
       "<caption>A data.frame: 0 × 22</caption>\n",
       "<thead>\n",
       "\t<tr><th scope=col>row_id</th><th scope=col>order_id</th><th scope=col>order_date</th><th scope=col>ship_date</th><th scope=col>ship_mode</th><th scope=col>customer_id</th><th scope=col>customer_name</th><th scope=col>segment</th><th scope=col>country</th><th scope=col>city</th><th scope=col>⋯</th><th scope=col>region</th><th scope=col>product_id</th><th scope=col>category</th><th scope=col>sub_category</th><th scope=col>product_name</th><th scope=col>sales</th><th scope=col>quantity</th><th scope=col>discount</th><th scope=col>profit</th><th scope=col>X</th></tr>\n",
       "\t<tr><th scope=col>&lt;int&gt;</th><th scope=col>&lt;chr&gt;</th><th scope=col>&lt;chr&gt;</th><th scope=col>&lt;chr&gt;</th><th scope=col>&lt;chr&gt;</th><th scope=col>&lt;chr&gt;</th><th scope=col>&lt;chr&gt;</th><th scope=col>&lt;chr&gt;</th><th scope=col>&lt;chr&gt;</th><th scope=col>&lt;chr&gt;</th><th scope=col>⋯</th><th scope=col>&lt;chr&gt;</th><th scope=col>&lt;chr&gt;</th><th scope=col>&lt;chr&gt;</th><th scope=col>&lt;chr&gt;</th><th scope=col>&lt;chr&gt;</th><th scope=col>&lt;chr&gt;</th><th scope=col>&lt;dbl&gt;</th><th scope=col>&lt;dbl&gt;</th><th scope=col>&lt;dbl&gt;</th><th scope=col>&lt;dbl&gt;</th></tr>\n",
       "</thead>\n",
       "<tbody>\n",
       "</tbody>\n",
       "</table>\n"
      ],
      "text/latex": [
       "A data.frame: 0 × 22\n",
       "\\begin{tabular}{lllllllllllllllllllll}\n",
       " row\\_id & order\\_id & order\\_date & ship\\_date & ship\\_mode & customer\\_id & customer\\_name & segment & country & city & ⋯ & region & product\\_id & category & sub\\_category & product\\_name & sales & quantity & discount & profit & X\\\\\n",
       " <int> & <chr> & <chr> & <chr> & <chr> & <chr> & <chr> & <chr> & <chr> & <chr> & ⋯ & <chr> & <chr> & <chr> & <chr> & <chr> & <chr> & <dbl> & <dbl> & <dbl> & <dbl>\\\\\n",
       "\\hline\n",
       "\\end{tabular}\n"
      ],
      "text/markdown": [
       "\n",
       "A data.frame: 0 × 22\n",
       "\n",
       "| row_id &lt;int&gt; | order_id &lt;chr&gt; | order_date &lt;chr&gt; | ship_date &lt;chr&gt; | ship_mode &lt;chr&gt; | customer_id &lt;chr&gt; | customer_name &lt;chr&gt; | segment &lt;chr&gt; | country &lt;chr&gt; | city &lt;chr&gt; | ⋯ ⋯ | region &lt;chr&gt; | product_id &lt;chr&gt; | category &lt;chr&gt; | sub_category &lt;chr&gt; | product_name &lt;chr&gt; | sales &lt;chr&gt; | quantity &lt;dbl&gt; | discount &lt;dbl&gt; | profit &lt;dbl&gt; | X &lt;dbl&gt; |\n",
       "|---|---|---|---|---|---|---|---|---|---|---|---|---|---|---|---|---|---|---|---|---|\n",
       "\n"
      ],
      "text/plain": [
       "     row_id order_id order_date ship_date ship_mode customer_id customer_name\n",
       "     segment country city ⋯ region product_id category sub_category\n",
       "     product_name sales quantity discount profit X"
      ]
     },
     "metadata": {},
     "output_type": "display_data"
    }
   ],
   "source": [
    "x[is.na(x$order_id), ]"
   ]
  },
  {
   "cell_type": "code",
   "execution_count": 52,
   "id": "03fbcd9f-37d5-47c2-8d93-5b60fb3093e5",
   "metadata": {},
   "outputs": [
    {
     "name": "stderr",
     "output_type": "stream",
     "text": [
      "Warning message in cbind(parts$left, chars$ellip_h, parts$right, deparse.level = 0L):\n",
      "\"number of rows of result is not a multiple of vector length (arg 2)\"\n",
      "Warning message in cbind(parts$left, chars$ellip_h, parts$right, deparse.level = 0L):\n",
      "\"number of rows of result is not a multiple of vector length (arg 2)\"\n",
      "Warning message in cbind(parts$left, chars$ellip_h, parts$right, deparse.level = 0L):\n",
      "\"number of rows of result is not a multiple of vector length (arg 2)\"\n",
      "Warning message in cbind(parts$left, chars$ellip_h, parts$right, deparse.level = 0L):\n",
      "\"number of rows of result is not a multiple of vector length (arg 2)\"\n"
     ]
    },
    {
     "data": {
      "text/html": [
       "<table class=\"dataframe\">\n",
       "<caption>A data.frame: 0 × 22</caption>\n",
       "<thead>\n",
       "\t<tr><th scope=col>row_id</th><th scope=col>order_id</th><th scope=col>order_date</th><th scope=col>ship_date</th><th scope=col>ship_mode</th><th scope=col>customer_id</th><th scope=col>customer_name</th><th scope=col>segment</th><th scope=col>country</th><th scope=col>city</th><th scope=col>⋯</th><th scope=col>region</th><th scope=col>product_id</th><th scope=col>category</th><th scope=col>sub_category</th><th scope=col>product_name</th><th scope=col>sales</th><th scope=col>quantity</th><th scope=col>discount</th><th scope=col>profit</th><th scope=col>X</th></tr>\n",
       "\t<tr><th scope=col>&lt;int&gt;</th><th scope=col>&lt;chr&gt;</th><th scope=col>&lt;chr&gt;</th><th scope=col>&lt;chr&gt;</th><th scope=col>&lt;chr&gt;</th><th scope=col>&lt;chr&gt;</th><th scope=col>&lt;chr&gt;</th><th scope=col>&lt;chr&gt;</th><th scope=col>&lt;chr&gt;</th><th scope=col>&lt;chr&gt;</th><th scope=col>⋯</th><th scope=col>&lt;chr&gt;</th><th scope=col>&lt;chr&gt;</th><th scope=col>&lt;chr&gt;</th><th scope=col>&lt;chr&gt;</th><th scope=col>&lt;chr&gt;</th><th scope=col>&lt;chr&gt;</th><th scope=col>&lt;dbl&gt;</th><th scope=col>&lt;dbl&gt;</th><th scope=col>&lt;dbl&gt;</th><th scope=col>&lt;dbl&gt;</th></tr>\n",
       "</thead>\n",
       "<tbody>\n",
       "</tbody>\n",
       "</table>\n"
      ],
      "text/latex": [
       "A data.frame: 0 × 22\n",
       "\\begin{tabular}{lllllllllllllllllllll}\n",
       " row\\_id & order\\_id & order\\_date & ship\\_date & ship\\_mode & customer\\_id & customer\\_name & segment & country & city & ⋯ & region & product\\_id & category & sub\\_category & product\\_name & sales & quantity & discount & profit & X\\\\\n",
       " <int> & <chr> & <chr> & <chr> & <chr> & <chr> & <chr> & <chr> & <chr> & <chr> & ⋯ & <chr> & <chr> & <chr> & <chr> & <chr> & <chr> & <dbl> & <dbl> & <dbl> & <dbl>\\\\\n",
       "\\hline\n",
       "\\end{tabular}\n"
      ],
      "text/markdown": [
       "\n",
       "A data.frame: 0 × 22\n",
       "\n",
       "| row_id &lt;int&gt; | order_id &lt;chr&gt; | order_date &lt;chr&gt; | ship_date &lt;chr&gt; | ship_mode &lt;chr&gt; | customer_id &lt;chr&gt; | customer_name &lt;chr&gt; | segment &lt;chr&gt; | country &lt;chr&gt; | city &lt;chr&gt; | ⋯ ⋯ | region &lt;chr&gt; | product_id &lt;chr&gt; | category &lt;chr&gt; | sub_category &lt;chr&gt; | product_name &lt;chr&gt; | sales &lt;chr&gt; | quantity &lt;dbl&gt; | discount &lt;dbl&gt; | profit &lt;dbl&gt; | X &lt;dbl&gt; |\n",
       "|---|---|---|---|---|---|---|---|---|---|---|---|---|---|---|---|---|---|---|---|---|\n",
       "\n"
      ],
      "text/plain": [
       "     row_id order_id order_date ship_date ship_mode customer_id customer_name\n",
       "     segment country city ⋯ region product_id category sub_category\n",
       "     product_name sales quantity discount profit X"
      ]
     },
     "metadata": {},
     "output_type": "display_data"
    }
   ],
   "source": [
    "x[is.na(x$order_date), ]"
   ]
  },
  {
   "cell_type": "code",
   "execution_count": 54,
   "id": "b9f6b9f5-193c-4086-986e-7de163f5d453",
   "metadata": {},
   "outputs": [
    {
     "name": "stderr",
     "output_type": "stream",
     "text": [
      "Warning message in cbind(parts$left, chars$ellip_h, parts$right, deparse.level = 0L):\n",
      "\"number of rows of result is not a multiple of vector length (arg 2)\"\n",
      "Warning message in cbind(parts$left, chars$ellip_h, parts$right, deparse.level = 0L):\n",
      "\"number of rows of result is not a multiple of vector length (arg 2)\"\n",
      "Warning message in cbind(parts$left, chars$ellip_h, parts$right, deparse.level = 0L):\n",
      "\"number of rows of result is not a multiple of vector length (arg 2)\"\n",
      "Warning message in cbind(parts$left, chars$ellip_h, parts$right, deparse.level = 0L):\n",
      "\"number of rows of result is not a multiple of vector length (arg 2)\"\n"
     ]
    },
    {
     "data": {
      "text/html": [
       "<table class=\"dataframe\">\n",
       "<caption>A data.frame: 0 × 22</caption>\n",
       "<thead>\n",
       "\t<tr><th scope=col>row_id</th><th scope=col>order_id</th><th scope=col>order_date</th><th scope=col>ship_date</th><th scope=col>ship_mode</th><th scope=col>customer_id</th><th scope=col>customer_name</th><th scope=col>segment</th><th scope=col>country</th><th scope=col>city</th><th scope=col>⋯</th><th scope=col>region</th><th scope=col>product_id</th><th scope=col>category</th><th scope=col>sub_category</th><th scope=col>product_name</th><th scope=col>sales</th><th scope=col>quantity</th><th scope=col>discount</th><th scope=col>profit</th><th scope=col>X</th></tr>\n",
       "\t<tr><th scope=col>&lt;int&gt;</th><th scope=col>&lt;chr&gt;</th><th scope=col>&lt;chr&gt;</th><th scope=col>&lt;chr&gt;</th><th scope=col>&lt;chr&gt;</th><th scope=col>&lt;chr&gt;</th><th scope=col>&lt;chr&gt;</th><th scope=col>&lt;chr&gt;</th><th scope=col>&lt;chr&gt;</th><th scope=col>&lt;chr&gt;</th><th scope=col>⋯</th><th scope=col>&lt;chr&gt;</th><th scope=col>&lt;chr&gt;</th><th scope=col>&lt;chr&gt;</th><th scope=col>&lt;chr&gt;</th><th scope=col>&lt;chr&gt;</th><th scope=col>&lt;chr&gt;</th><th scope=col>&lt;dbl&gt;</th><th scope=col>&lt;dbl&gt;</th><th scope=col>&lt;dbl&gt;</th><th scope=col>&lt;dbl&gt;</th></tr>\n",
       "</thead>\n",
       "<tbody>\n",
       "</tbody>\n",
       "</table>\n"
      ],
      "text/latex": [
       "A data.frame: 0 × 22\n",
       "\\begin{tabular}{lllllllllllllllllllll}\n",
       " row\\_id & order\\_id & order\\_date & ship\\_date & ship\\_mode & customer\\_id & customer\\_name & segment & country & city & ⋯ & region & product\\_id & category & sub\\_category & product\\_name & sales & quantity & discount & profit & X\\\\\n",
       " <int> & <chr> & <chr> & <chr> & <chr> & <chr> & <chr> & <chr> & <chr> & <chr> & ⋯ & <chr> & <chr> & <chr> & <chr> & <chr> & <chr> & <dbl> & <dbl> & <dbl> & <dbl>\\\\\n",
       "\\hline\n",
       "\\end{tabular}\n"
      ],
      "text/markdown": [
       "\n",
       "A data.frame: 0 × 22\n",
       "\n",
       "| row_id &lt;int&gt; | order_id &lt;chr&gt; | order_date &lt;chr&gt; | ship_date &lt;chr&gt; | ship_mode &lt;chr&gt; | customer_id &lt;chr&gt; | customer_name &lt;chr&gt; | segment &lt;chr&gt; | country &lt;chr&gt; | city &lt;chr&gt; | ⋯ ⋯ | region &lt;chr&gt; | product_id &lt;chr&gt; | category &lt;chr&gt; | sub_category &lt;chr&gt; | product_name &lt;chr&gt; | sales &lt;chr&gt; | quantity &lt;dbl&gt; | discount &lt;dbl&gt; | profit &lt;dbl&gt; | X &lt;dbl&gt; |\n",
       "|---|---|---|---|---|---|---|---|---|---|---|---|---|---|---|---|---|---|---|---|---|\n",
       "\n"
      ],
      "text/plain": [
       "     row_id order_id order_date ship_date ship_mode customer_id customer_name\n",
       "     segment country city ⋯ region product_id category sub_category\n",
       "     product_name sales quantity discount profit X"
      ]
     },
     "metadata": {},
     "output_type": "display_data"
    }
   ],
   "source": [
    "x[is.na(x$order_date), ]"
   ]
  },
  {
   "cell_type": "code",
   "execution_count": 55,
   "id": "f31d0d66-74c8-4ba9-82ab-a5e2bae47882",
   "metadata": {},
   "outputs": [
    {
     "name": "stderr",
     "output_type": "stream",
     "text": [
      "Warning message in cbind(parts$left, chars$ellip_h, parts$right, deparse.level = 0L):\n",
      "\"number of rows of result is not a multiple of vector length (arg 2)\"\n",
      "Warning message in cbind(parts$left, chars$ellip_h, parts$right, deparse.level = 0L):\n",
      "\"number of rows of result is not a multiple of vector length (arg 2)\"\n",
      "Warning message in cbind(parts$left, chars$ellip_h, parts$right, deparse.level = 0L):\n",
      "\"number of rows of result is not a multiple of vector length (arg 2)\"\n",
      "Warning message in cbind(parts$left, chars$ellip_h, parts$right, deparse.level = 0L):\n",
      "\"number of rows of result is not a multiple of vector length (arg 2)\"\n"
     ]
    },
    {
     "data": {
      "text/html": [
       "<table class=\"dataframe\">\n",
       "<caption>A data.frame: 0 × 22</caption>\n",
       "<thead>\n",
       "\t<tr><th scope=col>row_id</th><th scope=col>order_id</th><th scope=col>order_date</th><th scope=col>ship_date</th><th scope=col>ship_mode</th><th scope=col>customer_id</th><th scope=col>customer_name</th><th scope=col>segment</th><th scope=col>country</th><th scope=col>city</th><th scope=col>⋯</th><th scope=col>region</th><th scope=col>product_id</th><th scope=col>category</th><th scope=col>sub_category</th><th scope=col>product_name</th><th scope=col>sales</th><th scope=col>quantity</th><th scope=col>discount</th><th scope=col>profit</th><th scope=col>X</th></tr>\n",
       "\t<tr><th scope=col>&lt;int&gt;</th><th scope=col>&lt;chr&gt;</th><th scope=col>&lt;chr&gt;</th><th scope=col>&lt;chr&gt;</th><th scope=col>&lt;chr&gt;</th><th scope=col>&lt;chr&gt;</th><th scope=col>&lt;chr&gt;</th><th scope=col>&lt;chr&gt;</th><th scope=col>&lt;chr&gt;</th><th scope=col>&lt;chr&gt;</th><th scope=col>⋯</th><th scope=col>&lt;chr&gt;</th><th scope=col>&lt;chr&gt;</th><th scope=col>&lt;chr&gt;</th><th scope=col>&lt;chr&gt;</th><th scope=col>&lt;chr&gt;</th><th scope=col>&lt;chr&gt;</th><th scope=col>&lt;dbl&gt;</th><th scope=col>&lt;dbl&gt;</th><th scope=col>&lt;dbl&gt;</th><th scope=col>&lt;dbl&gt;</th></tr>\n",
       "</thead>\n",
       "<tbody>\n",
       "</tbody>\n",
       "</table>\n"
      ],
      "text/latex": [
       "A data.frame: 0 × 22\n",
       "\\begin{tabular}{lllllllllllllllllllll}\n",
       " row\\_id & order\\_id & order\\_date & ship\\_date & ship\\_mode & customer\\_id & customer\\_name & segment & country & city & ⋯ & region & product\\_id & category & sub\\_category & product\\_name & sales & quantity & discount & profit & X\\\\\n",
       " <int> & <chr> & <chr> & <chr> & <chr> & <chr> & <chr> & <chr> & <chr> & <chr> & ⋯ & <chr> & <chr> & <chr> & <chr> & <chr> & <chr> & <dbl> & <dbl> & <dbl> & <dbl>\\\\\n",
       "\\hline\n",
       "\\end{tabular}\n"
      ],
      "text/markdown": [
       "\n",
       "A data.frame: 0 × 22\n",
       "\n",
       "| row_id &lt;int&gt; | order_id &lt;chr&gt; | order_date &lt;chr&gt; | ship_date &lt;chr&gt; | ship_mode &lt;chr&gt; | customer_id &lt;chr&gt; | customer_name &lt;chr&gt; | segment &lt;chr&gt; | country &lt;chr&gt; | city &lt;chr&gt; | ⋯ ⋯ | region &lt;chr&gt; | product_id &lt;chr&gt; | category &lt;chr&gt; | sub_category &lt;chr&gt; | product_name &lt;chr&gt; | sales &lt;chr&gt; | quantity &lt;dbl&gt; | discount &lt;dbl&gt; | profit &lt;dbl&gt; | X &lt;dbl&gt; |\n",
       "|---|---|---|---|---|---|---|---|---|---|---|---|---|---|---|---|---|---|---|---|---|\n",
       "\n"
      ],
      "text/plain": [
       "     row_id order_id order_date ship_date ship_mode customer_id customer_name\n",
       "     segment country city ⋯ region product_id category sub_category\n",
       "     product_name sales quantity discount profit X"
      ]
     },
     "metadata": {},
     "output_type": "display_data"
    }
   ],
   "source": [
    "x[is.na(x$customer_id), ]"
   ]
  },
  {
   "cell_type": "code",
   "execution_count": null,
   "id": "57dcae61-f74b-42b3-970d-1cd143ce068b",
   "metadata": {},
   "outputs": [],
   "source": []
  }
 ],
 "metadata": {
  "kernelspec": {
   "display_name": "R",
   "language": "R",
   "name": "ir"
  },
  "language_info": {
   "codemirror_mode": "r",
   "file_extension": ".r",
   "mimetype": "text/x-r-source",
   "name": "R",
   "pygments_lexer": "r",
   "version": "4.3.1"
  }
 },
 "nbformat": 4,
 "nbformat_minor": 5
}
