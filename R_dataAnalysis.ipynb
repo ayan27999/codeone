{
 "cells": [
  {
   "cell_type": "markdown",
   "id": "0377ee04-0b98-4586-bb06-c5653621a15a",
   "metadata": {},
   "source": [
    "# Superstore Data Analysis \n",
    "### Today I am going to work on Superstore dataset. Analyse the data by **R** and get some usefull insights about the data."
   ]
  },
  {
   "cell_type": "markdown",
   "id": "edff9214-d443-422e-8d89-8d9e7dee6924",
   "metadata": {},
   "source": [
    "#### firstly set up the working directory"
   ]
  },
  {
   "cell_type": "code",
   "execution_count": null,
   "id": "aeb5c50d-0479-4491-a848-d1bff003ae27",
   "metadata": {},
   "outputs": [],
   "source": [
    "# to see the current working directory\n",
    "getwd()"
   ]
  },
  {
   "cell_type": "markdown",
   "id": "47872afc-adbd-4ef0-b5b4-c53b37eb3b68",
   "metadata": {},
   "source": [
    "##### now let jump in the pull off data "
   ]
  },
  {
   "cell_type": "code",
   "execution_count": null,
   "id": "7eb2c367-7955-4779-8bc9-f265126027a1",
   "metadata": {},
   "outputs": [],
   "source": [
    "# importing the data -- I will always take the master dataset in variable = ** x **\n",
    "x <- read.csv(\"superstore.csv\")"
   ]
  },
  {
   "cell_type": "code",
   "execution_count": null,
   "id": "4357bbe5-7bf5-4492-a8ef-d00e4ae95a8e",
   "metadata": {},
   "outputs": [],
   "source": [
    "# View(x)"
   ]
  },
  {
   "cell_type": "markdown",
   "id": "47e00ec1-bc9a-443c-9d6c-9bd9c94b94f3",
   "metadata": {},
   "source": [
    "## Explore the data \n",
    "#### understand the data and minor cleaning "
   ]
  },
  {
   "cell_type": "markdown",
   "id": "18de0144-6656-4471-9598-f00e9c1bbdfc",
   "metadata": {},
   "source": [
    "##### before analysis or anyother steps, I have to understan everything about the data. it is most important steps before to drive deep insights. In this steps I will explore everything about this dataset."
   ]
  },
  {
   "cell_type": "code",
   "execution_count": null,
   "id": "91b88f00-0b01-4f04-8a13-5c3f9ef4a425",
   "metadata": {},
   "outputs": [],
   "source": [
    "# importing all the libraries what I need the most \n",
    "library(tidyverse)\n",
    "library(here)\n",
    "library(skimr)"
   ]
  },
  {
   "cell_type": "code",
   "execution_count": null,
   "id": "098121dd-c8fd-47b3-ab92-726cd82275a2",
   "metadata": {},
   "outputs": [],
   "source": [
    "# see some trailer \n",
    "# head(x)\n",
    "# tail(x)"
   ]
  },
  {
   "cell_type": "code",
   "execution_count": null,
   "id": "40567189-d273-4e26-8774-2012a342afe2",
   "metadata": {},
   "outputs": [],
   "source": [
    "# first good look of dataset with tidy manner\n",
    "# View(x)"
   ]
  },
  {
   "cell_type": "markdown",
   "id": "336c4c79-2e11-44bf-811e-85ebfb94b57b",
   "metadata": {},
   "source": [
    "##### now its time to deeply understnd the dataset"
   ]
  },
  {
   "cell_type": "code",
   "execution_count": null,
   "id": "59cbdbd6-40d6-439b-a9bf-e76e1307072f",
   "metadata": {},
   "outputs": [],
   "source": [
    "# see the dimenstion of the dataset\n",
    "dim(x)"
   ]
  },
  {
   "cell_type": "markdown",
   "id": "d3842f99-a9c7-43ff-9352-91fc8b2b2050",
   "metadata": {},
   "source": [
    "##### wooow ! the dataset have 9994 observations and 22 variables"
   ]
  },
  {
   "cell_type": "code",
   "execution_count": null,
   "id": "7ff42675-a49b-4d35-bfb2-2593dc5ebbd4",
   "metadata": {},
   "outputs": [],
   "source": [
    "# let see how many variable are there\n",
    "length(x)"
   ]
  },
  {
   "cell_type": "code",
   "execution_count": null,
   "id": "c515d34a-0157-4dd8-819a-d3cc188bec97",
   "metadata": {},
   "outputs": [],
   "source": [
    "# let see all the names of the 22 variables \n",
    "names(x)"
   ]
  },
  {
   "cell_type": "code",
   "execution_count": null,
   "id": "6f6a8944-5c3c-4c98-a752-06e5bd295915",
   "metadata": {},
   "outputs": [],
   "source": [
    "# let rename all the variable name to smaller case\n",
    "names(x) <- tolower(names(x))"
   ]
  },
  {
   "cell_type": "code",
   "execution_count": null,
   "id": "b6c549ef-0550-462d-b75e-790cb3ea5ce3",
   "metadata": {},
   "outputs": [],
   "source": [
    "# let see what is the structure, variable name and datatype of variables \n",
    "glimpse(x)"
   ]
  },
  {
   "cell_type": "markdown",
   "id": "59c18e14-55c1-4dfe-a839-6c9594665957",
   "metadata": {},
   "source": [
    "##### wow ! there is 9994 observations and 22 variables"
   ]
  },
  {
   "cell_type": "code",
   "execution_count": null,
   "id": "7d0a83c9-8cbc-4455-bb38-f75378d77e9e",
   "metadata": {},
   "outputs": [],
   "source": [
    "# let point it out all the improper datatype of variable. this all I have to change at cleaning process\n",
    "class(x$order_date)\n",
    "class(x$ship_date)\n",
    "class(x$sales)          "
   ]
  },
  {
   "cell_type": "code",
   "execution_count": null,
   "id": "7783bbd6-1439-44cb-a8f2-c73d63f0f915",
   "metadata": {},
   "outputs": [],
   "source": [
    "# do some prove for no of obs.\n",
    "length(x$profit)\n",
    "length(x$segment)\n",
    "length(x$discount)"
   ]
  },
  {
   "cell_type": "markdown",
   "id": "4407d12e-fd33-454c-9f21-ab31e97b87ba",
   "metadata": {},
   "source": [
    "##### let see some on the segment data"
   ]
  },
  {
   "cell_type": "code",
   "execution_count": null,
   "id": "5a3e38f9-d0cd-4013-abdc-e82a35ce5085",
   "metadata": {},
   "outputs": [],
   "source": [
    "# let see the unique values in some variable matrix\n",
    "unique(x$segment)"
   ]
  },
  {
   "cell_type": "code",
   "execution_count": null,
   "id": "f755b2e4-9805-43dc-85d8-dea77ce9c759",
   "metadata": {},
   "outputs": [],
   "source": [
    "# let see the frequency of the segment variable\n",
    "table(x$segment)"
   ]
  },
  {
   "cell_type": "code",
   "execution_count": null,
   "id": "2a5adab3-da87-49a3-8a15-18537a355b70",
   "metadata": {},
   "outputs": [],
   "source": [
    "desc(sort(table(x$segment)))"
   ]
  },
  {
   "cell_type": "code",
   "execution_count": null,
   "id": "0d09e3f3-e8f5-464a-9a10-e59ec7cf8422",
   "metadata": {},
   "outputs": [],
   "source": [
    "# let see with tidy manner\n",
    "View(sort(table(x$segment),decreasing = TRUE))"
   ]
  },
  {
   "cell_type": "code",
   "execution_count": null,
   "id": "7013d298-63eb-4b37-8cb4-8c23cddf5d6e",
   "metadata": {},
   "outputs": [],
   "source": [
    "# let see by graph \n",
    "barplot(sort(table(x$segment),decreasing = TRUE))"
   ]
  },
  {
   "cell_type": "code",
   "execution_count": null,
   "id": "76b1b4da-8875-49e8-81b1-5c13954d607e",
   "metadata": {},
   "outputs": [],
   "source": [
    "# let see the ship_mode matrix\n",
    "desc(table(x$ship_mode))"
   ]
  },
  {
   "cell_type": "code",
   "execution_count": null,
   "id": "2e63b572-4309-41bb-9012-8739c79095b3",
   "metadata": {},
   "outputs": [],
   "source": [
    "# let observe by grap of ship mode\n",
    "barplot(table(x$ship_mode))"
   ]
  },
  {
   "cell_type": "code",
   "execution_count": null,
   "id": "0ceddc33-0644-4b0d-a03f-647320d9fb01",
   "metadata": {},
   "outputs": [],
   "source": [
    "# let see the state matrix\n",
    "desc(table(x$state))"
   ]
  },
  {
   "cell_type": "code",
   "execution_count": null,
   "id": "0fc3a5b0-a6a1-475e-878c-43fdfff675aa",
   "metadata": {},
   "outputs": [],
   "source": [
    "#let see the region vector\n",
    "barplot(table(x$region))"
   ]
  },
  {
   "cell_type": "code",
   "execution_count": null,
   "id": "4fc06e7c-cd0b-4e98-9484-008af1c15420",
   "metadata": {},
   "outputs": [],
   "source": [
    "# let see the category vecto\n",
    "desc(table(x$category))"
   ]
  },
  {
   "cell_type": "code",
   "execution_count": null,
   "id": "a812d9b6-bdad-4305-9a5a-c9d0ce45b7a4",
   "metadata": {},
   "outputs": [],
   "source": [
    "# let see category vector by graph\n",
    "barplot((table(x$category)))"
   ]
  },
  {
   "cell_type": "code",
   "execution_count": null,
   "id": "def82b18-6cb9-4083-90b0-ed9fa5fcba5f",
   "metadata": {},
   "outputs": [],
   "source": [
    "# let see the sub_category vector\n",
    "desc(table(x$sub_category))"
   ]
  },
  {
   "cell_type": "markdown",
   "id": "bd975e31-29eb-481e-90ee-3a25c022c851",
   "metadata": {},
   "source": [
    "##### **NULL values** \n",
    "###### it is very important to see the NULL / NA values in the data set . for larger number of frequency I have to take some another steps to identify those NULL values. "
   ]
  },
  {
   "cell_type": "code",
   "execution_count": null,
   "id": "3cd8521a-dc61-4b87-9ec0-9d7ccf6718e4",
   "metadata": {},
   "outputs": [],
   "source": []
  },
  {
   "cell_type": "code",
   "execution_count": 38,
   "id": "03fbcd9f-37d5-47c2-8d93-5b60fb3093e5",
   "metadata": {},
   "outputs": [
    {
     "name": "stderr",
     "output_type": "stream",
     "text": [
      "Warning message in cbind(parts$left, chars$ellip_h, parts$right, deparse.level = 0L):\n",
      "\"number of rows of result is not a multiple of vector length (arg 2)\"\n",
      "Warning message in cbind(parts$left, chars$ellip_h, parts$right, deparse.level = 0L):\n",
      "\"number of rows of result is not a multiple of vector length (arg 2)\"\n",
      "Warning message in cbind(parts$left, chars$ellip_h, parts$right, deparse.level = 0L):\n",
      "\"number of rows of result is not a multiple of vector length (arg 2)\"\n",
      "Warning message in cbind(parts$left, chars$ellip_h, parts$right, deparse.level = 0L):\n",
      "\"number of rows of result is not a multiple of vector length (arg 2)\"\n"
     ]
    },
    {
     "data": {
      "text/html": [
       "<table class=\"dataframe\">\n",
       "<caption>A data.frame: 0 × 22</caption>\n",
       "<thead>\n",
       "\t<tr><th scope=col>row_id</th><th scope=col>order_id</th><th scope=col>order_date</th><th scope=col>ship_date</th><th scope=col>ship_mode</th><th scope=col>customer_id</th><th scope=col>customer_name</th><th scope=col>segment</th><th scope=col>country</th><th scope=col>city</th><th scope=col>⋯</th><th scope=col>region</th><th scope=col>product_id</th><th scope=col>category</th><th scope=col>sub.category</th><th scope=col>product_name</th><th scope=col>sales</th><th scope=col>quantity</th><th scope=col>discount</th><th scope=col>profit</th><th scope=col>x</th></tr>\n",
       "\t<tr><th scope=col>&lt;int&gt;</th><th scope=col>&lt;chr&gt;</th><th scope=col>&lt;chr&gt;</th><th scope=col>&lt;chr&gt;</th><th scope=col>&lt;chr&gt;</th><th scope=col>&lt;chr&gt;</th><th scope=col>&lt;chr&gt;</th><th scope=col>&lt;chr&gt;</th><th scope=col>&lt;chr&gt;</th><th scope=col>&lt;chr&gt;</th><th scope=col>⋯</th><th scope=col>&lt;chr&gt;</th><th scope=col>&lt;chr&gt;</th><th scope=col>&lt;chr&gt;</th><th scope=col>&lt;chr&gt;</th><th scope=col>&lt;chr&gt;</th><th scope=col>&lt;chr&gt;</th><th scope=col>&lt;dbl&gt;</th><th scope=col>&lt;dbl&gt;</th><th scope=col>&lt;dbl&gt;</th><th scope=col>&lt;dbl&gt;</th></tr>\n",
       "</thead>\n",
       "<tbody>\n",
       "</tbody>\n",
       "</table>\n"
      ],
      "text/latex": [
       "A data.frame: 0 × 22\n",
       "\\begin{tabular}{lllllllllllllllllllll}\n",
       " row\\_id & order\\_id & order\\_date & ship\\_date & ship\\_mode & customer\\_id & customer\\_name & segment & country & city & ⋯ & region & product\\_id & category & sub.category & product\\_name & sales & quantity & discount & profit & x\\\\\n",
       " <int> & <chr> & <chr> & <chr> & <chr> & <chr> & <chr> & <chr> & <chr> & <chr> & ⋯ & <chr> & <chr> & <chr> & <chr> & <chr> & <chr> & <dbl> & <dbl> & <dbl> & <dbl>\\\\\n",
       "\\hline\n",
       "\\end{tabular}\n"
      ],
      "text/markdown": [
       "\n",
       "A data.frame: 0 × 22\n",
       "\n",
       "| row_id &lt;int&gt; | order_id &lt;chr&gt; | order_date &lt;chr&gt; | ship_date &lt;chr&gt; | ship_mode &lt;chr&gt; | customer_id &lt;chr&gt; | customer_name &lt;chr&gt; | segment &lt;chr&gt; | country &lt;chr&gt; | city &lt;chr&gt; | ⋯ ⋯ | region &lt;chr&gt; | product_id &lt;chr&gt; | category &lt;chr&gt; | sub.category &lt;chr&gt; | product_name &lt;chr&gt; | sales &lt;chr&gt; | quantity &lt;dbl&gt; | discount &lt;dbl&gt; | profit &lt;dbl&gt; | x &lt;dbl&gt; |\n",
       "|---|---|---|---|---|---|---|---|---|---|---|---|---|---|---|---|---|---|---|---|---|\n",
       "\n"
      ],
      "text/plain": [
       "     row_id order_id order_date ship_date ship_mode customer_id customer_name\n",
       "     segment country city ⋯ region product_id category sub.category\n",
       "     product_name sales quantity discount profit x"
      ]
     },
     "metadata": {},
     "output_type": "display_data"
    }
   ],
   "source": [
    "x[is.na(x$order_date), ]"
   ]
  },
  {
   "cell_type": "code",
   "execution_count": null,
   "id": "b9f6b9f5-193c-4086-986e-7de163f5d453",
   "metadata": {},
   "outputs": [],
   "source": [
    "x[is.na(x$order_date), ]"
   ]
  },
  {
   "cell_type": "code",
   "execution_count": null,
   "id": "f31d0d66-74c8-4ba9-82ab-a5e2bae47882",
   "metadata": {},
   "outputs": [],
   "source": [
    "x[is.na(x$customer_id), ]"
   ]
  },
  {
   "cell_type": "code",
   "execution_count": null,
   "id": "57dcae61-f74b-42b3-970d-1cd143ce068b",
   "metadata": {},
   "outputs": [],
   "source": [
    "------------------------------------------------------------------------------------------"
   ]
  },
  {
   "cell_type": "markdown",
   "id": "da19a848-106f-4bf8-a460-3f422823b16b",
   "metadata": {},
   "source": [
    "###### **Dealing with Numeric values** "
   ]
  },
  {
   "cell_type": "code",
   "execution_count": 39,
   "id": "694f84c6-56cd-4215-9ca6-af39a3dbf661",
   "metadata": {},
   "outputs": [
    {
     "name": "stdout",
     "output_type": "stream",
     "text": [
      "Rows: 9,994\n",
      "Columns: 22\n",
      "$ row_id        \u001b[3m\u001b[90m<int>\u001b[39m\u001b[23m 1, 2, 3, 4, 5, 6, 7, 8, 9, 10, 11, 12, 13, 14, 15, 16, 1…\n",
      "$ order_id      \u001b[3m\u001b[90m<chr>\u001b[39m\u001b[23m \"CA-2016-152156\", \"CA-2016-152156\", \"CA-2016-138688\", \"U…\n",
      "$ order_date    \u001b[3m\u001b[90m<chr>\u001b[39m\u001b[23m \"11/8/2016\", \"11/8/2016\", \"6/12/2016\", \"10/11/2015\", \"10…\n",
      "$ ship_date     \u001b[3m\u001b[90m<chr>\u001b[39m\u001b[23m \"11/11/2016\", \"11/11/2016\", \"6/16/2016\", \"10/18/2015\", \"…\n",
      "$ ship_mode     \u001b[3m\u001b[90m<chr>\u001b[39m\u001b[23m \"Second Class\", \"Second Class\", \"Second Class\", \"Standar…\n",
      "$ customer_id   \u001b[3m\u001b[90m<chr>\u001b[39m\u001b[23m \"CG-12520\", \"CG-12520\", \"DV-13045\", \"SO-20335\", \"SO-2033…\n",
      "$ customer_name \u001b[3m\u001b[90m<chr>\u001b[39m\u001b[23m \"Claire Gute\", \"Claire Gute\", \"Darrin Van Huff\", \"Sean O…\n",
      "$ segment       \u001b[3m\u001b[90m<chr>\u001b[39m\u001b[23m \"Consumer\", \"Consumer\", \"Corporate\", \"Consumer\", \"Consum…\n",
      "$ country       \u001b[3m\u001b[90m<chr>\u001b[39m\u001b[23m \"United States\", \"United States\", \"United States\", \"Unit…\n",
      "$ city          \u001b[3m\u001b[90m<chr>\u001b[39m\u001b[23m \"Henderson\", \"Henderson\", \"Los Angeles\", \"Fort Lauderdal…\n",
      "$ state         \u001b[3m\u001b[90m<chr>\u001b[39m\u001b[23m \"Kentucky\", \"Kentucky\", \"California\", \"Florida\", \"Florid…\n",
      "$ postal_code   \u001b[3m\u001b[90m<int>\u001b[39m\u001b[23m 42420, 42420, 90036, 33311, 33311, 90032, 90032, 90032, …\n",
      "$ region        \u001b[3m\u001b[90m<chr>\u001b[39m\u001b[23m \"South\", \"South\", \"West\", \"South\", \"South\", \"West\", \"Wes…\n",
      "$ product_id    \u001b[3m\u001b[90m<chr>\u001b[39m\u001b[23m \"FUR-BO-10001798\", \"FUR-CH-10000454\", \"OFF-LA-10000240\",…\n",
      "$ category      \u001b[3m\u001b[90m<chr>\u001b[39m\u001b[23m \"Furniture\", \"Furniture\", \"Office Supplies\", \"Furniture\"…\n",
      "$ sub.category  \u001b[3m\u001b[90m<chr>\u001b[39m\u001b[23m \"Bookcases\", \"Chairs\", \"Labels\", \"Tables\", \"Storage\", \"F…\n",
      "$ product_name  \u001b[3m\u001b[90m<chr>\u001b[39m\u001b[23m \"Bush Somerset Collection Bookcase\", \"Hon Deluxe Fabric …\n",
      "$ sales         \u001b[3m\u001b[90m<chr>\u001b[39m\u001b[23m \"261.96\", \"731.94\", \"14.62\", \"957.5775\", \"22.368\", \"48.8…\n",
      "$ quantity      \u001b[3m\u001b[90m<dbl>\u001b[39m\u001b[23m 2, 3, 2, 5, 2, 7, 4, 6, 3, 5, 9, 4, 3, 3, 5, 3, 6, 2, 2,…\n",
      "$ discount      \u001b[3m\u001b[90m<dbl>\u001b[39m\u001b[23m 0.00, 0.00, 0.00, 0.45, 0.20, 0.00, 0.00, 0.20, 0.20, 0.…\n",
      "$ profit        \u001b[3m\u001b[90m<dbl>\u001b[39m\u001b[23m 41.9136, 219.5820, 6.8714, -383.0310, 2.5164, 14.1694, 1…\n",
      "$ x             \u001b[3m\u001b[90m<dbl>\u001b[39m\u001b[23m NA, NA, NA, NA, NA, NA, NA, NA, NA, NA, NA, NA, NA, NA, …\n"
     ]
    }
   ],
   "source": [
    "glimpse(x)"
   ]
  },
  {
   "cell_type": "code",
   "execution_count": 40,
   "id": "1cb6cde9-b249-452e-ab63-2d756a75f252",
   "metadata": {},
   "outputs": [
    {
     "name": "stderr",
     "output_type": "stream",
     "text": [
      "Warning message in eval(expr, envir, enclos):\n",
      "\"NAs introduced by coercion\"\n"
     ]
    }
   ],
   "source": [
    "# sales is a charecter values\n",
    "# change it into numeric value\n",
    "x$sales <- as.numeric(x$sales)"
   ]
  },
  {
   "cell_type": "code",
   "execution_count": 49,
   "id": "36f9a759-7d25-4b9e-b3f2-53466412de94",
   "metadata": {},
   "outputs": [
    {
     "name": "stdout",
     "output_type": "stream",
     "text": [
      "[1] \"The datatype of sales variable is numeric\"\n"
     ]
    }
   ],
   "source": [
    "#opps. NULL values introduce, for now let ignore it\n",
    "# and make sales variable into numeric form\n",
    "x$sales <- as.numeric(x$sales,na.rm=TRUE)\n",
    "print(paste(\"The datatype of sales variable is\",class(x$sales)))"
   ]
  },
  {
   "cell_type": "code",
   "execution_count": 48,
   "id": "649a28cb-b311-4827-b258-19cff2ff9503",
   "metadata": {},
   "outputs": [
    {
     "name": "stdout",
     "output_type": "stream",
     "text": [
      "[1] \"Number of Obs. 9994\"\n"
     ]
    }
   ],
   "source": [
    "print(paste(\"Number of Obs.\",length(x$sales)))"
   ]
  },
  {
   "cell_type": "code",
   "execution_count": 50,
   "id": "4816b053-b2df-4cd9-b078-c575c265030d",
   "metadata": {},
   "outputs": [
    {
     "data": {
      "image/png": "[encoded data removed]",
      "text/plain": [
       "plot without title"
      ]
     },
     "metadata": {
      "image/png": {
       "height": 420,
       "width": 420
      }
     },
     "output_type": "display_data"
    }
   ],
   "source": [
    "# let see the sales variable in more depth, how the data are concentrated\n",
    "# outliers , and statistical values \n",
    "boxplot(x$sales)"
   ]
  },
  {
   "cell_type": "code",
   "execution_count": 52,
   "id": "d084be60-8304-4727-8e9f-ab5091288293",
   "metadata": {},
   "outputs": [
    {
     "data": {
      "text/html": [
       "54.376"
      ],
      "text/latex": [
       "54.376"
      ],
      "text/markdown": [
       "54.376"
      ],
      "text/plain": [
       "[1] 54.376"
      ]
     },
     "metadata": {},
     "output_type": "display_data"
    }
   ],
   "source": [
    "median(x$sales,na.rm=TRUE)"
   ]
  },
  {
   "cell_type": "code",
   "execution_count": 54,
   "id": "3aa13b51-11df-4f33-894e-b033228fbe12",
   "metadata": {},
   "outputs": [
    {
     "data": {
      "text/plain": [
       "     Min.   1st Qu.    Median      Mean   3rd Qu.      Max.      NA's \n",
       "    0.444    17.248    54.376   229.803   209.880 22638.480         6 "
      ]
     },
     "metadata": {},
     "output_type": "display_data"
    }
   ],
   "source": [
    "summary(x$sales)"
   ]
  },
  {
   "cell_type": "code",
   "execution_count": 55,
   "id": "dc16ecf4-fe8b-4537-83b5-f6c5c825ef1c",
   "metadata": {},
   "outputs": [
    {
     "data": {
      "image/png": "[encoded data removed]",
      "text/plain": [
       "Plot with title \"Histogram of x$sales\""
      ]
     },
     "metadata": {
      "image/png": {
       "height": 420,
       "width": 420
      }
     },
     "output_type": "display_data"
    }
   ],
   "source": [
    "# there is lot diffrence between mean and median. that caused by outliers.\n",
    "#the max data distributated 17 to 209 . hmmmmm.\n",
    "#  let see the distribution how it is distributed \n",
    "hist(x$sales)"
   ]
  },
  {
   "cell_type": "markdown",
   "id": "ea4f56d1-5f35-4759-ac98-5f1b2cb51f2b",
   "metadata": {},
   "source": [
    "## Deep clean the data "
   ]
  },
  {
   "cell_type": "code",
   "execution_count": 59,
   "id": "50f94d78-1c4f-4326-a74e-83d67922bcf0",
   "metadata": {},
   "outputs": [
    {
     "name": "stdout",
     "output_type": "stream",
     "text": [
      "Rows: 9,994\n",
      "Columns: 22\n",
      "$ row_id        \u001b[3m\u001b[90m<int>\u001b[39m\u001b[23m 1, 2, 3, 4, 5, 6, 7, 8, 9, 10, 11, 12, 13, 14, 15, 16, 1…\n",
      "$ order_id      \u001b[3m\u001b[90m<chr>\u001b[39m\u001b[23m \"CA-2016-152156\", \"CA-2016-152156\", \"CA-2016-138688\", \"U…\n",
      "$ order_date    \u001b[3m\u001b[90m<chr>\u001b[39m\u001b[23m \"11/8/2016\", \"11/8/2016\", \"6/12/2016\", \"10/11/2015\", \"10…\n",
      "$ ship_date     \u001b[3m\u001b[90m<chr>\u001b[39m\u001b[23m \"11/11/2016\", \"11/11/2016\", \"6/16/2016\", \"10/18/2015\", \"…\n",
      "$ ship_mode     \u001b[3m\u001b[90m<chr>\u001b[39m\u001b[23m \"Second Class\", \"Second Class\", \"Second Class\", \"Standar…\n",
      "$ customer_id   \u001b[3m\u001b[90m<chr>\u001b[39m\u001b[23m \"CG-12520\", \"CG-12520\", \"DV-13045\", \"SO-20335\", \"SO-2033…\n",
      "$ customer_name \u001b[3m\u001b[90m<chr>\u001b[39m\u001b[23m \"Claire Gute\", \"Claire Gute\", \"Darrin Van Huff\", \"Sean O…\n",
      "$ segment       \u001b[3m\u001b[90m<chr>\u001b[39m\u001b[23m \"Consumer\", \"Consumer\", \"Corporate\", \"Consumer\", \"Consum…\n",
      "$ country       \u001b[3m\u001b[90m<chr>\u001b[39m\u001b[23m \"United States\", \"United States\", \"United States\", \"Unit…\n",
      "$ city          \u001b[3m\u001b[90m<chr>\u001b[39m\u001b[23m \"Henderson\", \"Henderson\", \"Los Angeles\", \"Fort Lauderdal…\n",
      "$ state         \u001b[3m\u001b[90m<chr>\u001b[39m\u001b[23m \"Kentucky\", \"Kentucky\", \"California\", \"Florida\", \"Florid…\n",
      "$ postal_code   \u001b[3m\u001b[90m<int>\u001b[39m\u001b[23m 42420, 42420, 90036, 33311, 33311, 90032, 90032, 90032, …\n",
      "$ region        \u001b[3m\u001b[90m<chr>\u001b[39m\u001b[23m \"South\", \"South\", \"West\", \"South\", \"South\", \"West\", \"Wes…\n",
      "$ product_id    \u001b[3m\u001b[90m<chr>\u001b[39m\u001b[23m \"FUR-BO-10001798\", \"FUR-CH-10000454\", \"OFF-LA-10000240\",…\n",
      "$ category      \u001b[3m\u001b[90m<chr>\u001b[39m\u001b[23m \"Furniture\", \"Furniture\", \"Office Supplies\", \"Furniture\"…\n",
      "$ sub.category  \u001b[3m\u001b[90m<chr>\u001b[39m\u001b[23m \"Bookcases\", \"Chairs\", \"Labels\", \"Tables\", \"Storage\", \"F…\n",
      "$ product_name  \u001b[3m\u001b[90m<chr>\u001b[39m\u001b[23m \"Bush Somerset Collection Bookcase\", \"Hon Deluxe Fabric …\n",
      "$ sales         \u001b[3m\u001b[90m<dbl>\u001b[39m\u001b[23m 261.9600, 731.9400, 14.6200, 957.5775, 22.3680, 48.8600,…\n",
      "$ quantity      \u001b[3m\u001b[90m<dbl>\u001b[39m\u001b[23m 2, 3, 2, 5, 2, 7, 4, 6, 3, 5, 9, 4, 3, 3, 5, 3, 6, 2, 2,…\n",
      "$ discount      \u001b[3m\u001b[90m<dbl>\u001b[39m\u001b[23m 0.00, 0.00, 0.00, 0.45, 0.20, 0.00, 0.00, 0.20, 0.20, 0.…\n",
      "$ profit        \u001b[3m\u001b[90m<dbl>\u001b[39m\u001b[23m 41.9136, 219.5820, 6.8714, -383.0310, 2.5164, 14.1694, 1…\n",
      "$ x             \u001b[3m\u001b[90m<dbl>\u001b[39m\u001b[23m NA, NA, NA, NA, NA, NA, NA, NA, NA, NA, NA, NA, NA, NA, …\n"
     ]
    }
   ],
   "source": [
    "glimpse(x)"
   ]
  },
  {
   "cell_type": "code",
   "execution_count": 62,
   "id": "11d37788-73b8-4239-aec0-0c3effb1002b",
   "metadata": {},
   "outputs": [
    {
     "name": "stdout",
     "output_type": "stream",
     "text": [
      "[1] \"The new data typr of ship_date is : Date\"\n"
     ]
    }
   ],
   "source": [
    "# change ship_date < charecter to date type >\n",
    "x$ship_date <- as.Date(x$ship_date)\n",
    "print(paste(\"The new data typr of ship_date is :\",class(x$ship_date)))"
   ]
  },
  {
   "cell_type": "code",
   "execution_count": 64,
   "id": "bdec3a44-6e50-40a3-87e4-b74bea5da91e",
   "metadata": {},
   "outputs": [
    {
     "data": {
      "text/html": [
       "'character'"
      ],
      "text/latex": [
       "'character'"
      ],
      "text/markdown": [
       "'character'"
      ],
      "text/plain": [
       "[1] \"character\""
      ]
     },
     "metadata": {},
     "output_type": "display_data"
    },
    {
     "name": "stdout",
     "output_type": "stream",
     "text": [
      "[1] \"The new data type of ship_mode is :  factor\"\n"
     ]
    }
   ],
   "source": [
    "class(x$ship_mode)\n",
    "# change ship_mode < character to factor >\n",
    "x$ship_mode<- as.factor(x$ship_mode)\n",
    "print(paste(\"The new data type of ship_mode is : \", class(x$ship_mode)))"
   ]
  },
  {
   "cell_type": "code",
   "execution_count": null,
   "id": "8e3eda97-0443-428f-8afc-012875991f73",
   "metadata": {},
   "outputs": [],
   "source": []
  }
 ],
 "metadata": {
  "kernelspec": {
   "display_name": "R",
   "language": "R",
   "name": "ir"
  },
  "language_info": {
   "codemirror_mode": "r",
   "file_extension": ".r",
   "mimetype": "text/x-r-source",
   "name": "R",
   "pygments_lexer": "r",
   "version": "4.3.1"
  }
 },
 "nbformat": 4,
 "nbformat_minor": 5
}
