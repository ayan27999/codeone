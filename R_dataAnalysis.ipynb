{
 "cells": [
  {
   "cell_type": "markdown",
   "id": "0377ee04-0b98-4586-bb06-c5653621a15a",
   "metadata": {},
   "source": [
    "# Superstore Data Analysis \n",
    "### Today I am going to work on Superstore dataset. Analyse the data by **R** and get some usefull insights about the data."
   ]
  },
  {
   "cell_type": "markdown",
   "id": "edff9214-d443-422e-8d89-8d9e7dee6924",
   "metadata": {},
   "source": [
    "#### firstly set up the working directory"
   ]
  },
  {
   "cell_type": "code",
   "execution_count": null,
   "id": "aeb5c50d-0479-4491-a848-d1bff003ae27",
   "metadata": {},
   "outputs": [],
   "source": [
    "# to see the current working directory\n",
    "getwd()"
   ]
  },
  {
   "cell_type": "markdown",
   "id": "47872afc-adbd-4ef0-b5b4-c53b37eb3b68",
   "metadata": {},
   "source": [
    "##### now let jump in the pull off data "
   ]
  },
  {
   "cell_type": "code",
   "execution_count": null,
   "id": "7eb2c367-7955-4779-8bc9-f265126027a1",
   "metadata": {},
   "outputs": [],
   "source": [
    "# importing the data -- I will always take the master dataset in variable = ** x **\n",
    "x <- read.csv(\"superstore.csv\")"
   ]
  },
  {
   "cell_type": "code",
   "execution_count": null,
   "id": "4357bbe5-7bf5-4492-a8ef-d00e4ae95a8e",
   "metadata": {},
   "outputs": [],
   "source": [
    "# View(x)"
   ]
  },
  {
   "cell_type": "markdown",
   "id": "47e00ec1-bc9a-443c-9d6c-9bd9c94b94f3",
   "metadata": {},
   "source": [
    "## Explore the data\n",
    "#### understand the data"
   ]
  },
  {
   "cell_type": "markdown",
   "id": "18de0144-6656-4471-9598-f00e9c1bbdfc",
   "metadata": {},
   "source": [
    "##### before analysis or anyother steps, I have to understan everything about the data. it is most important steps before to drive deep insights. In this steps I will explore everything about this dataset."
   ]
  },
  {
   "cell_type": "code",
   "execution_count": null,
   "id": "91b88f00-0b01-4f04-8a13-5c3f9ef4a425",
   "metadata": {},
   "outputs": [],
   "source": [
    "# importing all the libraries what I need the most \n",
    "library(tidyverse)\n",
    "library(here)\n",
    "library(skimr)"
   ]
  },
  {
   "cell_type": "code",
   "execution_count": null,
   "id": "098121dd-c8fd-47b3-ab92-726cd82275a2",
   "metadata": {},
   "outputs": [],
   "source": [
    "# see some trailer \n",
    "# head(x)\n",
    "# tail(x)"
   ]
  },
  {
   "cell_type": "code",
   "execution_count": null,
   "id": "40567189-d273-4e26-8774-2012a342afe2",
   "metadata": {},
   "outputs": [],
   "source": [
    "# first good look of dataset with tidy manner\n",
    "# View(x)"
   ]
  },
  {
   "cell_type": "markdown",
   "id": "336c4c79-2e11-44bf-811e-85ebfb94b57b",
   "metadata": {},
   "source": [
    "##### now its time to deeply understnd the dataset"
   ]
  },
  {
   "cell_type": "code",
   "execution_count": null,
   "id": "59cbdbd6-40d6-439b-a9bf-e76e1307072f",
   "metadata": {},
   "outputs": [],
   "source": [
    "# see the dimenstion of the dataset\n",
    "dim(x)"
   ]
  },
  {
   "cell_type": "markdown",
   "id": "d3842f99-a9c7-43ff-9352-91fc8b2b2050",
   "metadata": {},
   "source": [
    "##### wooow ! the dataset have 9994 observations and 22 variables"
   ]
  },
  {
   "cell_type": "code",
   "execution_count": null,
   "id": "7ff42675-a49b-4d35-bfb2-2593dc5ebbd4",
   "metadata": {},
   "outputs": [],
   "source": [
    "# let see how many variable are there\n",
    "length(x)"
   ]
  },
  {
   "cell_type": "code",
   "execution_count": null,
   "id": "c515d34a-0157-4dd8-819a-d3cc188bec97",
   "metadata": {},
   "outputs": [],
   "source": [
    "# let see all the names of the 22 variables \n",
    "names(x)"
   ]
  },
  {
   "cell_type": "code",
   "execution_count": null,
   "id": "6f6a8944-5c3c-4c98-a752-06e5bd295915",
   "metadata": {},
   "outputs": [],
   "source": [
    "# let rename all the variable name to smaller case\n",
    "names(x) <- tolower(names(x))"
   ]
  },
  {
   "cell_type": "code",
   "execution_count": null,
   "id": "b6c549ef-0550-462d-b75e-790cb3ea5ce3",
   "metadata": {},
   "outputs": [],
   "source": [
    "# let see what is the structure, variable name and datatype of variables \n",
    "glimpse(x)"
   ]
  },
  {
   "cell_type": "markdown",
   "id": "59c18e14-55c1-4dfe-a839-6c9594665957",
   "metadata": {},
   "source": [
    "##### wow ! there is 9994 observations and 22 variables"
   ]
  },
  {
   "cell_type": "code",
   "execution_count": null,
   "id": "7d0a83c9-8cbc-4455-bb38-f75378d77e9e",
   "metadata": {},
   "outputs": [],
   "source": [
    "# let point it out all the improper datatype of variable. this all I have to change at cleaning process\n",
    "class(x$order_date)\n",
    "class(x$ship_date)\n",
    "class(x$sales)          "
   ]
  },
  {
   "cell_type": "code",
   "execution_count": null,
   "id": "7783bbd6-1439-44cb-a8f2-c73d63f0f915",
   "metadata": {},
   "outputs": [],
   "source": [
    "# do some prove for no of obs.\n",
    "length(x$profit)\n",
    "length(x$segment)\n",
    "length(x$discount)"
   ]
  },
  {
   "cell_type": "markdown",
   "id": "4407d12e-fd33-454c-9f21-ab31e97b87ba",
   "metadata": {},
   "source": [
    "##### let see some on the segment data"
   ]
  },
  {
   "cell_type": "code",
   "execution_count": null,
   "id": "5a3e38f9-d0cd-4013-abdc-e82a35ce5085",
   "metadata": {},
   "outputs": [],
   "source": [
    "# let see the unique values in some variable matrix\n",
    "unique(x$segment)"
   ]
  },
  {
   "cell_type": "code",
   "execution_count": null,
   "id": "f755b2e4-9805-43dc-85d8-dea77ce9c759",
   "metadata": {},
   "outputs": [],
   "source": [
    "# let see the frequency of the segment variable\n",
    "table(x$segment)"
   ]
  },
  {
   "cell_type": "code",
   "execution_count": null,
   "id": "2a5adab3-da87-49a3-8a15-18537a355b70",
   "metadata": {},
   "outputs": [],
   "source": [
    "desc(sort(table(x$segment)))"
   ]
  },
  {
   "cell_type": "code",
   "execution_count": null,
   "id": "0d09e3f3-e8f5-464a-9a10-e59ec7cf8422",
   "metadata": {},
   "outputs": [],
   "source": [
    "# let see with tidy manner\n",
    "View(sort(table(x$segment),decreasing = TRUE))"
   ]
  },
  {
   "cell_type": "code",
   "execution_count": null,
   "id": "7013d298-63eb-4b37-8cb4-8c23cddf5d6e",
   "metadata": {},
   "outputs": [],
   "source": [
    "# let see by graph \n",
    "barplot(sort(table(x$segment),decreasing = TRUE))"
   ]
  },
  {
   "cell_type": "code",
   "execution_count": null,
   "id": "76b1b4da-8875-49e8-81b1-5c13954d607e",
   "metadata": {},
   "outputs": [],
   "source": [
    "# let see the ship_mode matrix\n",
    "desc(table(x$ship_mode))"
   ]
  },
  {
   "cell_type": "code",
   "execution_count": null,
   "id": "2e63b572-4309-41bb-9012-8739c79095b3",
   "metadata": {},
   "outputs": [],
   "source": [
    "# let observe by grap of ship mode\n",
    "barplot(table(x$ship_mode))"
   ]
  },
  {
   "cell_type": "code",
   "execution_count": null,
   "id": "0ceddc33-0644-4b0d-a03f-647320d9fb01",
   "metadata": {},
   "outputs": [],
   "source": [
    "# let see the state matrix\n",
    "desc(table(x$state))"
   ]
  },
  {
   "cell_type": "code",
   "execution_count": null,
   "id": "0fc3a5b0-a6a1-475e-878c-43fdfff675aa",
   "metadata": {},
   "outputs": [],
   "source": [
    "#let see the region vector\n",
    "barplot(table(x$region))"
   ]
  },
  {
   "cell_type": "code",
   "execution_count": null,
   "id": "4fc06e7c-cd0b-4e98-9484-008af1c15420",
   "metadata": {},
   "outputs": [],
   "source": [
    "# let see the category vecto\n",
    "desc(table(x$category))"
   ]
  },
  {
   "cell_type": "code",
   "execution_count": null,
   "id": "a812d9b6-bdad-4305-9a5a-c9d0ce45b7a4",
   "metadata": {},
   "outputs": [],
   "source": [
    "# let see category vector by graph\n",
    "barplot((table(x$category)))"
   ]
  },
  {
   "cell_type": "code",
   "execution_count": null,
   "id": "def82b18-6cb9-4083-90b0-ed9fa5fcba5f",
   "metadata": {},
   "outputs": [],
   "source": [
    "# let see the sub_category vector\n",
    "desc(table(x$sub_category))"
   ]
  },
  {
   "cell_type": "markdown",
   "id": "bd975e31-29eb-481e-90ee-3a25c022c851",
   "metadata": {},
   "source": [
    "##### **NULL values** \n",
    "###### it is very important to see the NULL / NA values in the data set . for larger number of frequency I have to take some another steps to identify those NULL values. "
   ]
  },
  {
   "cell_type": "code",
   "execution_count": null,
   "id": "3cd8521a-dc61-4b87-9ec0-9d7ccf6718e4",
   "metadata": {},
   "outputs": [],
   "source": []
  },
  {
   "cell_type": "code",
   "execution_count": null,
   "id": "03fbcd9f-37d5-47c2-8d93-5b60fb3093e5",
   "metadata": {},
   "outputs": [],
   "source": [
    "x[is.na(x$order_date), ]"
   ]
  },
  {
   "cell_type": "code",
   "execution_count": null,
   "id": "b9f6b9f5-193c-4086-986e-7de163f5d453",
   "metadata": {},
   "outputs": [],
   "source": [
    "x[is.na(x$order_date), ]"
   ]
  },
  {
   "cell_type": "code",
   "execution_count": null,
   "id": "f31d0d66-74c8-4ba9-82ab-a5e2bae47882",
   "metadata": {},
   "outputs": [],
   "source": [
    "x[is.na(x$customer_id), ]"
   ]
  },
  {
   "cell_type": "code",
   "execution_count": null,
   "id": "57dcae61-f74b-42b3-970d-1cd143ce068b",
   "metadata": {},
   "outputs": [],
   "source": []
  }
 ],
 "metadata": {
  "kernelspec": {
   "display_name": "R",
   "language": "R",
   "name": "ir"
  },
  "language_info": {
   "codemirror_mode": "r",
   "file_extension": ".r",
   "mimetype": "text/x-r-source",
   "name": "R",
   "pygments_lexer": "r",
   "version": "4.3.1"
  }
 },
 "nbformat": 4,
 "nbformat_minor": 5
}
