{
 "cells": [
  {
   "cell_type": "markdown",
   "id": "0377ee04-0b98-4586-bb06-c5653621a15a",
   "metadata": {},
   "source": [
    "# Superstore Data Analysis \n",
    "### Today I am going to work on Superstore dataset. Analyse the data by **R** and get some usefull insights about the data."
   ]
  },
  {
   "cell_type": "markdown",
   "id": "edff9214-d443-422e-8d89-8d9e7dee6924",
   "metadata": {},
   "source": [
    "#### firstly set up the working directory"
   ]
  },
  {
   "cell_type": "code",
   "execution_count": null,
   "id": "aeb5c50d-0479-4491-a848-d1bff003ae27",
   "metadata": {},
   "outputs": [],
   "source": [
    "# to see the current working directory\n",
    "getwd()"
   ]
  },
  {
   "cell_type": "markdown",
   "id": "47872afc-adbd-4ef0-b5b4-c53b37eb3b68",
   "metadata": {},
   "source": [
    "##### now let jump in the pull off data "
   ]
  },
  {
   "cell_type": "code",
   "execution_count": null,
   "id": "7eb2c367-7955-4779-8bc9-f265126027a1",
   "metadata": {},
   "outputs": [],
   "source": [
    "# importing the data -- I will always take the master dataset in variable = ** x **\n",
    "x <- read.csv(\"superstore.csv\")"
   ]
  },
  {
   "cell_type": "code",
   "execution_count": null,
   "id": "4357bbe5-7bf5-4492-a8ef-d00e4ae95a8e",
   "metadata": {},
   "outputs": [],
   "source": [
    "View(x)"
   ]
  },
  {
   "cell_type": "markdown",
   "id": "47e00ec1-bc9a-443c-9d6c-9bd9c94b94f3",
   "metadata": {},
   "source": [
    "## Explore the data\n",
    "#### understand the data"
   ]
  },
  {
   "cell_type": "markdown",
   "id": "18de0144-6656-4471-9598-f00e9c1bbdfc",
   "metadata": {},
   "source": [
    "##### before analysis or anyother steps, I have to understan everything about the data. it is most important steps before to drive deep insights. In this steps I will explore everything about this dataset."
   ]
  },
  {
   "cell_type": "code",
   "execution_count": null,
   "id": "91b88f00-0b01-4f04-8a13-5c3f9ef4a425",
   "metadata": {},
   "outputs": [],
   "source": [
    "# importing all the libraries what I need the most \n",
    "library(tidyverse)\n",
    "library(here)\n",
    "library(skimr)"
   ]
  },
  {
   "cell_type": "code",
   "execution_count": null,
   "id": "098121dd-c8fd-47b3-ab92-726cd82275a2",
   "metadata": {},
   "outputs": [],
   "source": [
    "# see some trailer \n",
    "head(x)\n",
    "tail(x)"
   ]
  },
  {
   "cell_type": "code",
   "execution_count": null,
   "id": "40567189-d273-4e26-8774-2012a342afe2",
   "metadata": {},
   "outputs": [],
   "source": [
    "# first good look of dataset with tidy manner\n",
    "View(x)"
   ]
  },
  {
   "cell_type": "markdown",
   "id": "336c4c79-2e11-44bf-811e-85ebfb94b57b",
   "metadata": {},
   "source": [
    "##### now its time to deeply understnd the dataset"
   ]
  },
  {
   "cell_type": "code",
   "execution_count": null,
   "id": "59cbdbd6-40d6-439b-a9bf-e76e1307072f",
   "metadata": {},
   "outputs": [],
   "source": [
    "# see the dimenstion of the dataset\n",
    "dim(x)"
   ]
  },
  {
   "cell_type": "markdown",
   "id": "d3842f99-a9c7-43ff-9352-91fc8b2b2050",
   "metadata": {},
   "source": [
    "##### wooow ! the dataset have 9994 observations and 22 variables"
   ]
  },
  {
   "cell_type": "code",
   "execution_count": 50,
   "id": "7ff42675-a49b-4d35-bfb2-2593dc5ebbd4",
   "metadata": {},
   "outputs": [
    {
     "data": {
      "text/html": [
       "22"
      ],
      "text/latex": [
       "22"
      ],
      "text/markdown": [
       "22"
      ],
      "text/plain": [
       "[1] 22"
      ]
     },
     "metadata": {},
     "output_type": "display_data"
    }
   ],
   "source": [
    "# let see how many variable are there\n",
    "length(x)"
   ]
  },
  {
   "cell_type": "code",
   "execution_count": 51,
   "id": "c515d34a-0157-4dd8-819a-d3cc188bec97",
   "metadata": {},
   "outputs": [
    {
     "data": {
      "text/html": [
       "<style>\n",
       ".list-inline {list-style: none; margin:0; padding: 0}\n",
       ".list-inline>li {display: inline-block}\n",
       ".list-inline>li:not(:last-child)::after {content: \"\\00b7\"; padding: 0 .5ex}\n",
       "</style>\n",
       "<ol class=list-inline><li>'row_id'</li><li>'order_id'</li><li>'order_date'</li><li>'ship_date'</li><li>'ship_mode'</li><li>'customer_id'</li><li>'customer_name'</li><li>'segment'</li><li>'country'</li><li>'city'</li><li>'state'</li><li>'postal_code'</li><li>'region'</li><li>'product_id'</li><li>'category'</li><li>'sub_category'</li><li>'product_name'</li><li>'sales'</li><li>'quantity'</li><li>'discount'</li><li>'profit'</li><li>'X'</li></ol>\n"
      ],
      "text/latex": [
       "\\begin{enumerate*}\n",
       "\\item 'row\\_id'\n",
       "\\item 'order\\_id'\n",
       "\\item 'order\\_date'\n",
       "\\item 'ship\\_date'\n",
       "\\item 'ship\\_mode'\n",
       "\\item 'customer\\_id'\n",
       "\\item 'customer\\_name'\n",
       "\\item 'segment'\n",
       "\\item 'country'\n",
       "\\item 'city'\n",
       "\\item 'state'\n",
       "\\item 'postal\\_code'\n",
       "\\item 'region'\n",
       "\\item 'product\\_id'\n",
       "\\item 'category'\n",
       "\\item 'sub\\_category'\n",
       "\\item 'product\\_name'\n",
       "\\item 'sales'\n",
       "\\item 'quantity'\n",
       "\\item 'discount'\n",
       "\\item 'profit'\n",
       "\\item 'X'\n",
       "\\end{enumerate*}\n"
      ],
      "text/markdown": [
       "1. 'row_id'\n",
       "2. 'order_id'\n",
       "3. 'order_date'\n",
       "4. 'ship_date'\n",
       "5. 'ship_mode'\n",
       "6. 'customer_id'\n",
       "7. 'customer_name'\n",
       "8. 'segment'\n",
       "9. 'country'\n",
       "10. 'city'\n",
       "11. 'state'\n",
       "12. 'postal_code'\n",
       "13. 'region'\n",
       "14. 'product_id'\n",
       "15. 'category'\n",
       "16. 'sub_category'\n",
       "17. 'product_name'\n",
       "18. 'sales'\n",
       "19. 'quantity'\n",
       "20. 'discount'\n",
       "21. 'profit'\n",
       "22. 'X'\n",
       "\n",
       "\n"
      ],
      "text/plain": [
       " [1] \"row_id\"        \"order_id\"      \"order_date\"    \"ship_date\"    \n",
       " [5] \"ship_mode\"     \"customer_id\"   \"customer_name\" \"segment\"      \n",
       " [9] \"country\"       \"city\"          \"state\"         \"postal_code\"  \n",
       "[13] \"region\"        \"product_id\"    \"category\"      \"sub_category\" \n",
       "[17] \"product_name\"  \"sales\"         \"quantity\"      \"discount\"     \n",
       "[21] \"profit\"        \"X\"            "
      ]
     },
     "metadata": {},
     "output_type": "display_data"
    }
   ],
   "source": [
    "# let see all the names of the 22 variables \n",
    "names(x)"
   ]
  },
  {
   "cell_type": "code",
   "execution_count": null,
   "id": "b6c549ef-0550-462d-b75e-790cb3ea5ce3",
   "metadata": {},
   "outputs": [],
   "source": [
    "# let see what is the structure and datatype of variables \n",
    "glimpse(x)"
   ]
  },
  {
   "cell_type": "markdown",
   "id": "59c18e14-55c1-4dfe-a839-6c9594665957",
   "metadata": {},
   "source": [
    "##### wow ! there is 9994 observations and 22 variables"
   ]
  },
  {
   "cell_type": "code",
   "execution_count": 57,
   "id": "7d0a83c9-8cbc-4455-bb38-f75378d77e9e",
   "metadata": {},
   "outputs": [
    {
     "data": {
      "text/html": [
       "'character'"
      ],
      "text/latex": [
       "'character'"
      ],
      "text/markdown": [
       "'character'"
      ],
      "text/plain": [
       "[1] \"character\""
      ]
     },
     "metadata": {},
     "output_type": "display_data"
    },
    {
     "data": {
      "text/html": [
       "'character'"
      ],
      "text/latex": [
       "'character'"
      ],
      "text/markdown": [
       "'character'"
      ],
      "text/plain": [
       "[1] \"character\""
      ]
     },
     "metadata": {},
     "output_type": "display_data"
    },
    {
     "data": {
      "text/html": [
       "'character'"
      ],
      "text/latex": [
       "'character'"
      ],
      "text/markdown": [
       "'character'"
      ],
      "text/plain": [
       "[1] \"character\""
      ]
     },
     "metadata": {},
     "output_type": "display_data"
    }
   ],
   "source": [
    "# let point it out all the improper datatype of variable\n",
    "class(x$order_date)\n",
    "class(x$ship_date)\n",
    "class(x$sales)          "
   ]
  },
  {
   "cell_type": "code",
   "execution_count": 59,
   "id": "7783bbd6-1439-44cb-a8f2-c73d63f0f915",
   "metadata": {},
   "outputs": [
    {
     "data": {
      "text/html": [
       "9994"
      ],
      "text/latex": [
       "9994"
      ],
      "text/markdown": [
       "9994"
      ],
      "text/plain": [
       "[1] 9994"
      ]
     },
     "metadata": {},
     "output_type": "display_data"
    },
    {
     "data": {
      "text/html": [
       "9994"
      ],
      "text/latex": [
       "9994"
      ],
      "text/markdown": [
       "9994"
      ],
      "text/plain": [
       "[1] 9994"
      ]
     },
     "metadata": {},
     "output_type": "display_data"
    },
    {
     "data": {
      "text/html": [
       "9994"
      ],
      "text/latex": [
       "9994"
      ],
      "text/markdown": [
       "9994"
      ],
      "text/plain": [
       "[1] 9994"
      ]
     },
     "metadata": {},
     "output_type": "display_data"
    }
   ],
   "source": [
    "# do some prove for no of obs.\n",
    "length(x$profit)\n",
    "length(x$segment)\n",
    "length(x$discount)"
   ]
  },
  {
   "cell_type": "markdown",
   "id": "4407d12e-fd33-454c-9f21-ab31e97b87ba",
   "metadata": {},
   "source": [
    "##### let see some on the segment data"
   ]
  },
  {
   "cell_type": "code",
   "execution_count": 63,
   "id": "5a3e38f9-d0cd-4013-abdc-e82a35ce5085",
   "metadata": {},
   "outputs": [
    {
     "data": {
      "text/html": [
       "<style>\n",
       ".list-inline {list-style: none; margin:0; padding: 0}\n",
       ".list-inline>li {display: inline-block}\n",
       ".list-inline>li:not(:last-child)::after {content: \"\\00b7\"; padding: 0 .5ex}\n",
       "</style>\n",
       "<ol class=list-inline><li>'Consumer'</li><li>'Corporate'</li><li>'Home Office'</li></ol>\n"
      ],
      "text/latex": [
       "\\begin{enumerate*}\n",
       "\\item 'Consumer'\n",
       "\\item 'Corporate'\n",
       "\\item 'Home Office'\n",
       "\\end{enumerate*}\n"
      ],
      "text/markdown": [
       "1. 'Consumer'\n",
       "2. 'Corporate'\n",
       "3. 'Home Office'\n",
       "\n",
       "\n"
      ],
      "text/plain": [
       "[1] \"Consumer\"    \"Corporate\"   \"Home Office\""
      ]
     },
     "metadata": {},
     "output_type": "display_data"
    }
   ],
   "source": [
    "# let see the unique values in some variable matrix\n",
    "unique(x$segment)"
   ]
  },
  {
   "cell_type": "code",
   "execution_count": 64,
   "id": "f755b2e4-9805-43dc-85d8-dea77ce9c759",
   "metadata": {},
   "outputs": [
    {
     "data": {
      "text/plain": [
       "\n",
       "   Consumer   Corporate Home Office \n",
       "       5191        3020        1783 "
      ]
     },
     "metadata": {},
     "output_type": "display_data"
    }
   ],
   "source": [
    "# let see the frequency of the segment variable\n",
    "table(x$segment)"
   ]
  },
  {
   "cell_type": "code",
   "execution_count": 67,
   "id": "2a5adab3-da87-49a3-8a15-18537a355b70",
   "metadata": {},
   "outputs": [
    {
     "data": {
      "text/html": [
       "<style>\n",
       ".dl-inline {width: auto; margin:0; padding: 0}\n",
       ".dl-inline>dt, .dl-inline>dd {float: none; width: auto; display: inline-block}\n",
       ".dl-inline>dt::after {content: \":\\0020\"; padding-right: .5ex}\n",
       ".dl-inline>dt:not(:first-of-type) {padding-left: .5ex}\n",
       "</style><dl class=dl-inline><dt>Home Office</dt><dd>-1783</dd><dt>Corporate</dt><dd>-3020</dd><dt>Consumer</dt><dd>-5191</dd></dl>\n"
      ],
      "text/latex": [
       "\\begin{description*}\n",
       "\\item[Home Office] -1783\n",
       "\\item[Corporate] -3020\n",
       "\\item[Consumer] -5191\n",
       "\\end{description*}\n"
      ],
      "text/markdown": [
       "Home Office\n",
       ":   -1783Corporate\n",
       ":   -3020Consumer\n",
       ":   -5191\n",
       "\n"
      ],
      "text/plain": [
       "\n",
       "Home Office   Corporate    Consumer \n",
       "      -1783       -3020       -5191 "
      ]
     },
     "metadata": {},
     "output_type": "display_data"
    }
   ],
   "source": [
    "desc(sort(table(x$segment)))"
   ]
  },
  {
   "cell_type": "code",
   "execution_count": 70,
   "id": "0d09e3f3-e8f5-464a-9a10-e59ec7cf8422",
   "metadata": {},
   "outputs": [
    {
     "data": {
      "text/plain": [
       "\n",
       "   Consumer   Corporate Home Office \n",
       "       5191        3020        1783 "
      ]
     },
     "metadata": {},
     "output_type": "display_data"
    }
   ],
   "source": [
    "# let see with tidy manner\n",
    "View(sort(table(x$segment),decreasing = TRUE))"
   ]
  },
  {
   "cell_type": "code",
   "execution_count": 72,
   "id": "7013d298-63eb-4b37-8cb4-8c23cddf5d6e",
   "metadata": {},
   "outputs": [
    {
     "data": {
      "image/png": "[encoded data removed]",
      "text/plain": [
       "plot without title"
      ]
     },
     "metadata": {
      "image/png": {
       "height": 420,
       "width": 420
      }
     },
     "output_type": "display_data"
    }
   ],
   "source": [
    "# let see by graph \n",
    "barplot(sort(table(x$segment),decreasing = TRUE))"
   ]
  },
  {
   "cell_type": "markdown",
   "id": "d1ea0a59-083c-4ddd-9583-fc093786e42b",
   "metadata": {},
   "source": [
    "##### **NULL values**  "
   ]
  },
  {
   "cell_type": "code",
   "execution_count": null,
   "id": "2e63b572-4309-41bb-9012-8739c79095b3",
   "metadata": {},
   "outputs": [],
   "source": []
  }
 ],
 "metadata": {
  "kernelspec": {
   "display_name": "R",
   "language": "R",
   "name": "ir"
  },
  "language_info": {
   "codemirror_mode": "r",
   "file_extension": ".r",
   "mimetype": "text/x-r-source",
   "name": "R",
   "pygments_lexer": "r",
   "version": "4.3.1"
  }
 },
 "nbformat": 4,
 "nbformat_minor": 5
}
